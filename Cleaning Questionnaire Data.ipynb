{
 "cells": [
  {
   "cell_type": "markdown",
   "metadata": {},
   "source": [
    "# Pandas Tools"
   ]
  },
  {
   "cell_type": "markdown",
   "metadata": {},
   "source": [
    "#### Count up nans in a column\n",
    "* df['Column_Name'].isnull().sum(axis = 0)"
   ]
  },
  {
   "cell_type": "markdown",
   "metadata": {},
   "source": [
    "#### Fill all NaN values in a column with a particular value\n",
    "* Demographics_df['DMDCITZN'].fillna(2.0, inplace=True)"
   ]
  },
  {
   "cell_type": "markdown",
   "metadata": {},
   "source": [
    "##### Combining Dataframes\n",
    "\n",
    "* Full_Days_Nutrition_df = pd.merge(Day_1_Nutrition_df, Day_2_Nutrition_df, on=\"SEQN\")\n",
    "* Full_Days_Nutrition_df.head()"
   ]
  },
  {
   "cell_type": "markdown",
   "metadata": {},
   "source": [
    "##### Find rows that are all NaN\n",
    "\n",
    "* nan = df[df.isnull().all(axis=1)].index\n",
    "* nan"
   ]
  },
  {
   "cell_type": "markdown",
   "metadata": {},
   "source": [
    "##### Change all '99' in a column to 1\n",
    "Demographics_df.loc[Demographics_df['DMDBORN4'] == 99, 'DMDBORN4'] = 1"
   ]
  },
  {
   "cell_type": "markdown",
   "metadata": {},
   "source": [
    "##### Check for Nans\n",
    "\n",
    "* df.isnull().values.any()"
   ]
  },
  {
   "cell_type": "markdown",
   "metadata": {},
   "source": [
    "##### Getting Dummies\n",
    "* Finished_Demographics_df = pd.get_dummies(Demographics_df, columns = need_dummies, drop_first = True)"
   ]
  },
  {
   "cell_type": "markdown",
   "metadata": {},
   "source": [
    "##### Rename Columns\n",
    "* df = df.rename(columns={'oldName1': 'newName1', 'oldName2': 'newName2'})"
   ]
  },
  {
   "cell_type": "markdown",
   "metadata": {},
   "source": [
    "##### Add 'Age', then drop all 0-17 year olds\n",
    "* Blood_Pressure_df = pd.merge(Blood_Pressure_df, Age_df, on=\"SEQN\")\n",
    "* Blood_Pressure_df = Blood_Pressure_df.drop(Blood_Pressure_df[Blood_Pressure_df.Age < 18].index)\n",
    "* Blood_Pressure_df.head()"
   ]
  },
  {
   "cell_type": "markdown",
   "metadata": {},
   "source": [
    "##### Fill NaNs based on the median of the column\n",
    "\n",
    "df['Col'] = df['Col'].fillna(df['Col'].median())"
   ]
  },
  {
   "cell_type": "markdown",
   "metadata": {},
   "source": [
    "##### Change all values in a df that meet a condition\n",
    "* in this case, change them all to NaN\n",
    "* df[df > 9000] = np.NaN\n",
    "\n",
    "##### For a single column\n",
    "* df['Col'].values[df['Col'].values > 9000] = np.NaN"
   ]
  },
  {
   "cell_type": "markdown",
   "metadata": {},
   "source": [
    "***"
   ]
  },
  {
   "cell_type": "markdown",
   "metadata": {},
   "source": [
    "# Import Libraries"
   ]
  },
  {
   "cell_type": "code",
   "execution_count": 38,
   "metadata": {},
   "outputs": [],
   "source": [
    "import pandas as pd\n",
    "import numpy as np\n",
    "import warnings\n",
    "warnings.filterwarnings(\"ignore\")\n"
   ]
  },
  {
   "cell_type": "markdown",
   "metadata": {},
   "source": [
    "***"
   ]
  },
  {
   "cell_type": "code",
   "execution_count": 4,
   "metadata": {},
   "outputs": [],
   "source": [
    "# I merged onto this age_df to automatically drop everyone younger than 18\n",
    "\n",
    "age_df = pd.read_csv('Cleaned_Ages.csv')\n",
    "age_df = age_df.drop('Unnamed: 0', axis = 1)"
   ]
  },
  {
   "cell_type": "markdown",
   "metadata": {},
   "source": [
    "***"
   ]
  },
  {
   "cell_type": "markdown",
   "metadata": {},
   "source": [
    "<div class=\"alert alert-block alert-info\">\n",
    "    \n",
    "# Questionnaire Data - Done\n",
    "\n",
    "### Next Steps:\n",
    "   * Fill in missing values\n",
    "   * Get TARGET column sorted out\n",
    "   \n",
    "</div>"
   ]
  },
  {
   "cell_type": "markdown",
   "metadata": {},
   "source": [
    "### Load the data"
   ]
  },
  {
   "cell_type": "code",
   "execution_count": 6,
   "metadata": {},
   "outputs": [],
   "source": [
    "Preprocess_Q_Alcohol_Use_df = pd.read_sas(filepath_or_buffer = 'NHANES_Questionnaire_Data/Questionnaire_Alcohol_Use.XPT')\n",
    "Preprocess_Q_Blood_Pressure_Cholesterol_df = pd.read_sas(filepath_or_buffer = 'NHANES_Questionnaire_Data/Q_Blood_Pressure_Cholesterol.XPT')\n",
    "Preprocess_Q_Where_Get_Food_df = pd.read_sas(filepath_or_buffer = 'NHANES_Questionnaire_Data/Q_Where_Do_You_Get_Food.XPT')\n",
    "Preprocess_Q_General_Health_df = pd.read_sas(filepath_or_buffer = 'NHANES_Questionnaire_Data/Q_General_Health.XPT')\n",
    "Preprocess_Q_Diet_Behavior_and_Nutrition_df = pd.read_sas(filepath_or_buffer = 'NHANES_Questionnaire_Data/Q_Diet_Behavior_and_Nutrition.XPT')\n",
    "Preprocess_Q_Disabilities_df = pd.read_sas(filepath_or_buffer = 'NHANES_Questionnaire_Data/Q_Disabilities.XPT')\n",
    "Preprocess_Q_Health_Insurance_df = pd.read_sas(filepath_or_buffer = 'NHANES_Questionnaire_Data/Q_Health_Insurance.XPT')\n",
    "Preprocess_Q_Access_to_Care_df = pd.read_sas(filepath_or_buffer = 'NHANES_Questionnaire_Data/Q_Access_to_Care.XPT')\n",
    "Preprocess_Q_Housing_df = pd.read_sas(filepath_or_buffer = 'NHANES_Questionnaire_Data/Q_Housing.XPT')\n",
    "Preprocess_Q_Income_df = pd.read_sas(filepath_or_buffer = 'NHANES_Questionnaire_Data/Q_Income.XPT')\n",
    "Preprocess_Q_Medical_Conditions_df = pd.read_sas(filepath_or_buffer = 'NHANES_Questionnaire_Data/Q_Medical_Conditions.XPT')\n",
    "Preprocess_Q_Mental_Health_df = pd.read_sas(filepath_or_buffer = 'NHANES_Questionnaire_Data/Q_Mental_Health.XPT')\n",
    "Preprocess_Q_Physical_Activity_df = pd.read_sas(filepath_or_buffer = 'NHANES_Questionnaire_Data/Q_Pyhsical_Activity.XPT')\n",
    "Preprocess_Q_Sleep_df = pd.read_sas(filepath_or_buffer = 'NHANES_Questionnaire_Data/Q_Sleep.XPT')\n",
    "Preprocess_Q_Smoking_df = pd.read_sas(filepath_or_buffer = 'NHANES_Questionnaire_Data/Q_Smoking.XPT')\n",
    "Preprocess_Q_Household_Smoking_df = pd.read_sas(filepath_or_buffer = 'NHANES_Questionnaire_Data/Q_Household_Smoking.XPT')\n",
    "Preprocess_Q_Weight_History_df = pd.read_sas(filepath_or_buffer = 'NHANES_Questionnaire_Data/Q_Weight_History.XPT')\n",
    "\n",
    "# Not Using\n",
    "# Preprocess_Q_Drug_Use_df = pd.read_sas(filepath_or_buffer = 'NHANES_Questionnaire_Data/Q_Drug_Use.XPT')\n",
    "# Preprocess_Q_Last_Dental_Visit_df = pd.read_sas(filepath_or_buffer = 'NHANES_Questionnaire_Data/Q_Last_Dental_Visit.XPT')\n",
    "# Preprocess_Q_Weight_History_Youth_df = pd.read_sas(filepath_or_buffer = 'NHANES_Questionnaire_Data/Q_Weight_History_Youth.XPT')\n"
   ]
  },
  {
   "cell_type": "code",
   "execution_count": 7,
   "metadata": {},
   "outputs": [
    {
     "name": "stdout",
     "output_type": "stream",
     "text": [
      "Alcohol Use: (5735, 10)\n",
      "Blood Pressure and Cholesterol: (6327, 11)\n",
      "Where You Get Food: (9971, 6)\n",
      "General Health: (9165, 9)\n",
      "Diet Behavior and Nutrition: (9971, 51)\n",
      "Disabilities: (9575, 13)\n",
      "Health Insurance: (9971, 17)\n",
      "IMPORTANT!!  Access to Care: (9971, 10)\n",
      "Housing: (9971, 3)\n",
      "Income: (9971, 16)\n",
      "Medical Conditions: (9575, 90)\n",
      "Mental Health: (5735, 11)\n",
      "Physical Activity: (9255, 94)\n",
      "Sleep: (6327, 8)\n",
      "Smoking: (7001, 42)\n",
      "Household Smoking: (9971, 4)\n",
      "Weight History: (6327, 37)\n"
     ]
    }
   ],
   "source": [
    "print ('Alcohol Use: ' + str(Preprocess_Q_Alcohol_Use_df.shape))\n",
    "print ('Blood Pressure and Cholesterol: ' + str(Preprocess_Q_Blood_Pressure_Cholesterol_df.shape))\n",
    "print ('Where You Get Food: ' + str(Preprocess_Q_Where_Get_Food_df.shape))\n",
    "print ('General Health: ' + str(Preprocess_Q_General_Health_df.shape))\n",
    "print ('Diet Behavior and Nutrition: ' + str(Preprocess_Q_Diet_Behavior_and_Nutrition_df.shape))\n",
    "print ('Disabilities: ' + str(Preprocess_Q_Disabilities_df.shape))\n",
    "print ('Health Insurance: ' + str(Preprocess_Q_Health_Insurance_df.shape))\n",
    "print ('IMPORTANT!!  Access to Care: ' + str(Preprocess_Q_Access_to_Care_df.shape))\n",
    "print ('Housing: ' + str(Preprocess_Q_Housing_df.shape))\n",
    "print ('Income: ' + str(Preprocess_Q_Income_df.shape))\n",
    "print ('Medical Conditions: ' + str(Preprocess_Q_Medical_Conditions_df.shape))\n",
    "print ('Mental Health: ' + str(Preprocess_Q_Mental_Health_df.shape))\n",
    "print ('Physical Activity: ' + str(Preprocess_Q_Physical_Activity_df.shape))\n",
    "print ('Sleep: ' + str(Preprocess_Q_Sleep_df.shape))\n",
    "print ('Smoking: ' + str(Preprocess_Q_Smoking_df.shape))\n",
    "print ('Household Smoking: ' + str(Preprocess_Q_Household_Smoking_df.shape))\n",
    "print ('Weight History: ' + str(Preprocess_Q_Weight_History_df.shape))\n",
    "\n",
    "# Not Using\n",
    "# print ('Drug Use: ' + str(Preprocess_Q_Drug_Use_df.shape))\n",
    "# print ('Last Dental Visit: ' + str(Preprocess_Q_Last_Dental_Visit_df.shape))\n",
    "# print ('Weight History Youth: ' + str(Preprocess_Q_Weight_History_Youth_df.shape))\n",
    "\n"
   ]
  },
  {
   "cell_type": "markdown",
   "metadata": {},
   "source": [
    "<div class=\"alert alert-block alert-danger\">\n",
    "    \n",
    "# 1. Alcohol Use - Won't be using, too many missing values\n",
    "   * Ages 18+\n",
    "   * 5735 Values\n",
    "   * Missing Values will probably be zero\n",
    "   * ALQ120Q - How often drink alcohol over past 12 mos\n",
    "       * Days per year\n",
    "       * 1511 missing\n",
    "       * 777 and 999 -> 0\n",
    "   * ALQ130 - Avg # alcoholic drinks/day - past 12 mos\n",
    "       * 2356 missing\n",
    "       * 777 and 999 -> 0\n",
    "   * ALQ141Q - # days have 4/5 drinks - past 12 mos (enjoys Alcohol)\n",
    "       * 2358 missing\n",
    "       * 777 and 999 -> 0\n",
    "   * ALQ151 - Ever have 4/5 or more drinks every day? (Alcoholic)\n",
    "       * 1530 missing\n",
    "       * 1 = Yes\n",
    "       * 2 = No\n",
    "       * 7 and 9 -> 2"
   ]
  },
  {
   "cell_type": "code",
   "execution_count": 9,
   "metadata": {
    "scrolled": false
   },
   "outputs": [
    {
     "data": {
      "text/html": [
       "<div>\n",
       "<style scoped>\n",
       "    .dataframe tbody tr th:only-of-type {\n",
       "        vertical-align: middle;\n",
       "    }\n",
       "\n",
       "    .dataframe tbody tr th {\n",
       "        vertical-align: top;\n",
       "    }\n",
       "\n",
       "    .dataframe thead th {\n",
       "        text-align: right;\n",
       "    }\n",
       "</style>\n",
       "<table border=\"1\" class=\"dataframe\">\n",
       "  <thead>\n",
       "    <tr style=\"text-align: right;\">\n",
       "      <th></th>\n",
       "      <th>SEQN</th>\n",
       "      <th>ALQ120Q</th>\n",
       "      <th>ALQ130</th>\n",
       "      <th>ALQ141Q</th>\n",
       "      <th>ALQ151</th>\n",
       "    </tr>\n",
       "  </thead>\n",
       "  <tbody>\n",
       "    <tr>\n",
       "      <th>0</th>\n",
       "      <td>83732.0</td>\n",
       "      <td>1.000000e+00</td>\n",
       "      <td>1.0</td>\n",
       "      <td>5.397605e-79</td>\n",
       "      <td>2.0</td>\n",
       "    </tr>\n",
       "    <tr>\n",
       "      <th>1</th>\n",
       "      <td>83733.0</td>\n",
       "      <td>7.000000e+00</td>\n",
       "      <td>6.0</td>\n",
       "      <td>7.000000e+00</td>\n",
       "      <td>1.0</td>\n",
       "    </tr>\n",
       "    <tr>\n",
       "      <th>2</th>\n",
       "      <td>83734.0</td>\n",
       "      <td>5.397605e-79</td>\n",
       "      <td>NaN</td>\n",
       "      <td>NaN</td>\n",
       "      <td>1.0</td>\n",
       "    </tr>\n",
       "    <tr>\n",
       "      <th>3</th>\n",
       "      <td>83735.0</td>\n",
       "      <td>3.000000e+00</td>\n",
       "      <td>1.0</td>\n",
       "      <td>5.397605e-79</td>\n",
       "      <td>2.0</td>\n",
       "    </tr>\n",
       "    <tr>\n",
       "      <th>4</th>\n",
       "      <td>83736.0</td>\n",
       "      <td>1.000000e+00</td>\n",
       "      <td>1.0</td>\n",
       "      <td>5.397605e-79</td>\n",
       "      <td>2.0</td>\n",
       "    </tr>\n",
       "  </tbody>\n",
       "</table>\n",
       "</div>"
      ],
      "text/plain": [
       "      SEQN       ALQ120Q  ALQ130       ALQ141Q  ALQ151\n",
       "0  83732.0  1.000000e+00     1.0  5.397605e-79     2.0\n",
       "1  83733.0  7.000000e+00     6.0  7.000000e+00     1.0\n",
       "2  83734.0  5.397605e-79     NaN           NaN     1.0\n",
       "3  83735.0  3.000000e+00     1.0  5.397605e-79     2.0\n",
       "4  83736.0  1.000000e+00     1.0  5.397605e-79     2.0"
      ]
     },
     "execution_count": 9,
     "metadata": {},
     "output_type": "execute_result"
    }
   ],
   "source": [
    "alcohol_use_columns = ['SEQN', 'ALQ120Q', 'ALQ130', 'ALQ141Q', 'ALQ151']\n",
    "Alcohol_Use_df = Preprocess_Q_Alcohol_Use_df[alcohol_use_columns]\n",
    "Alcohol_Use_df.head()"
   ]
  },
  {
   "cell_type": "code",
   "execution_count": 10,
   "metadata": {},
   "outputs": [
    {
     "data": {
      "text/plain": [
       "(5735, 5)"
      ]
     },
     "execution_count": 10,
     "metadata": {},
     "output_type": "execute_result"
    }
   ],
   "source": [
    "Alcohol_Use_df.shape"
   ]
  },
  {
   "cell_type": "code",
   "execution_count": 13,
   "metadata": {
    "scrolled": true
   },
   "outputs": [
    {
     "data": {
      "text/html": [
       "<div>\n",
       "<style scoped>\n",
       "    .dataframe tbody tr th:only-of-type {\n",
       "        vertical-align: middle;\n",
       "    }\n",
       "\n",
       "    .dataframe tbody tr th {\n",
       "        vertical-align: top;\n",
       "    }\n",
       "\n",
       "    .dataframe thead th {\n",
       "        text-align: right;\n",
       "    }\n",
       "</style>\n",
       "<table border=\"1\" class=\"dataframe\">\n",
       "  <thead>\n",
       "    <tr style=\"text-align: right;\">\n",
       "      <th></th>\n",
       "      <th>SEQN</th>\n",
       "      <th>ALQ120Q</th>\n",
       "      <th>ALQ130</th>\n",
       "      <th>ALQ141Q</th>\n",
       "      <th>ALQ151</th>\n",
       "      <th>Age</th>\n",
       "    </tr>\n",
       "  </thead>\n",
       "  <tbody>\n",
       "    <tr>\n",
       "      <th>0</th>\n",
       "      <td>83732.0</td>\n",
       "      <td>1.000000e+00</td>\n",
       "      <td>1.0</td>\n",
       "      <td>5.397605e-79</td>\n",
       "      <td>2.0</td>\n",
       "      <td>62.0</td>\n",
       "    </tr>\n",
       "    <tr>\n",
       "      <th>1</th>\n",
       "      <td>83733.0</td>\n",
       "      <td>7.000000e+00</td>\n",
       "      <td>6.0</td>\n",
       "      <td>7.000000e+00</td>\n",
       "      <td>1.0</td>\n",
       "      <td>53.0</td>\n",
       "    </tr>\n",
       "    <tr>\n",
       "      <th>2</th>\n",
       "      <td>83734.0</td>\n",
       "      <td>5.397605e-79</td>\n",
       "      <td>NaN</td>\n",
       "      <td>NaN</td>\n",
       "      <td>1.0</td>\n",
       "      <td>78.0</td>\n",
       "    </tr>\n",
       "    <tr>\n",
       "      <th>3</th>\n",
       "      <td>83735.0</td>\n",
       "      <td>3.000000e+00</td>\n",
       "      <td>1.0</td>\n",
       "      <td>5.397605e-79</td>\n",
       "      <td>2.0</td>\n",
       "      <td>56.0</td>\n",
       "    </tr>\n",
       "    <tr>\n",
       "      <th>4</th>\n",
       "      <td>83736.0</td>\n",
       "      <td>1.000000e+00</td>\n",
       "      <td>1.0</td>\n",
       "      <td>5.397605e-79</td>\n",
       "      <td>2.0</td>\n",
       "      <td>42.0</td>\n",
       "    </tr>\n",
       "  </tbody>\n",
       "</table>\n",
       "</div>"
      ],
      "text/plain": [
       "      SEQN       ALQ120Q  ALQ130       ALQ141Q  ALQ151   Age\n",
       "0  83732.0  1.000000e+00     1.0  5.397605e-79     2.0  62.0\n",
       "1  83733.0  7.000000e+00     6.0  7.000000e+00     1.0  53.0\n",
       "2  83734.0  5.397605e-79     NaN           NaN     1.0  78.0\n",
       "3  83735.0  3.000000e+00     1.0  5.397605e-79     2.0  56.0\n",
       "4  83736.0  1.000000e+00     1.0  5.397605e-79     2.0  42.0"
      ]
     },
     "execution_count": 13,
     "metadata": {},
     "output_type": "execute_result"
    }
   ],
   "source": [
    "Alcohol_Use_df = pd.merge(Alcohol_Use_df, age_df, on=\"SEQN\")\n",
    "Alcohol_Use_df = Alcohol_Use_df.drop(Alcohol_Use_df[Alcohol_Use_df.Age < 18].index)\n",
    "Alcohol_Use_df.head()"
   ]
  },
  {
   "cell_type": "code",
   "execution_count": 15,
   "metadata": {},
   "outputs": [
    {
     "name": "stdout",
     "output_type": "stream",
     "text": [
      "1511\n",
      "2356\n",
      "2358\n",
      "1513\n"
     ]
    }
   ],
   "source": [
    "print (Alcohol_Use_df['ALQ120Q'].isnull().sum(axis = 0))\n",
    "print (Alcohol_Use_df['ALQ130'].isnull().sum(axis = 0))\n",
    "print (Alcohol_Use_df['ALQ141Q'].isnull().sum(axis = 0))\n",
    "print (Alcohol_Use_df['ALQ151'].isnull().sum(axis = 0))"
   ]
  },
  {
   "cell_type": "markdown",
   "metadata": {},
   "source": [
    "<div class=\"alert alert-block alert-success\">\n",
    "    \n",
    "# 2. Blood Pressure and Cholesterol\n",
    "   * Ages 16+\n",
    "   * 6327 Values\n",
    "   * Game Plan\n",
    "        * BPQ020 - Ever told you had high blood pressure\n",
    "            * 1 = Yes\n",
    "            * 2 = No\n",
    "            * 9 -> 0\n",
    "            * 2 -> 0\n",
    "        * BPQ030 - Told had high blood pressure - 2+ times\n",
    "            * 1 = Yes\n",
    "            * 2 = No\n",
    "            * 7, 9, Nan -> 0\n",
    "            * 2 -> 0\n",
    "        * BPQ080 - Doctor told you - high cholesterol level\n",
    "            * 1 = Yes\n",
    "            * 2 = No\n",
    "            * 9 -> 0\n",
    "            * 2 -> 0"
   ]
  },
  {
   "cell_type": "code",
   "execution_count": 73,
   "metadata": {
    "scrolled": true
   },
   "outputs": [
    {
     "name": "stdout",
     "output_type": "stream",
     "text": [
      "Blood Pressure and Cholesterol Shape: (6327, 4)\n"
     ]
    },
    {
     "data": {
      "text/html": [
       "<div>\n",
       "<style scoped>\n",
       "    .dataframe tbody tr th:only-of-type {\n",
       "        vertical-align: middle;\n",
       "    }\n",
       "\n",
       "    .dataframe tbody tr th {\n",
       "        vertical-align: top;\n",
       "    }\n",
       "\n",
       "    .dataframe thead th {\n",
       "        text-align: right;\n",
       "    }\n",
       "</style>\n",
       "<table border=\"1\" class=\"dataframe\">\n",
       "  <thead>\n",
       "    <tr style=\"text-align: right;\">\n",
       "      <th></th>\n",
       "      <th>SEQN</th>\n",
       "      <th>BPQ020</th>\n",
       "      <th>BPQ030</th>\n",
       "      <th>BPQ080</th>\n",
       "    </tr>\n",
       "  </thead>\n",
       "  <tbody>\n",
       "    <tr>\n",
       "      <th>0</th>\n",
       "      <td>83732.0</td>\n",
       "      <td>2.0</td>\n",
       "      <td>NaN</td>\n",
       "      <td>2.0</td>\n",
       "    </tr>\n",
       "    <tr>\n",
       "      <th>1</th>\n",
       "      <td>83733.0</td>\n",
       "      <td>2.0</td>\n",
       "      <td>NaN</td>\n",
       "      <td>2.0</td>\n",
       "    </tr>\n",
       "    <tr>\n",
       "      <th>2</th>\n",
       "      <td>83734.0</td>\n",
       "      <td>1.0</td>\n",
       "      <td>1.0</td>\n",
       "      <td>1.0</td>\n",
       "    </tr>\n",
       "    <tr>\n",
       "      <th>3</th>\n",
       "      <td>83735.0</td>\n",
       "      <td>2.0</td>\n",
       "      <td>NaN</td>\n",
       "      <td>2.0</td>\n",
       "    </tr>\n",
       "    <tr>\n",
       "      <th>4</th>\n",
       "      <td>83736.0</td>\n",
       "      <td>2.0</td>\n",
       "      <td>NaN</td>\n",
       "      <td>2.0</td>\n",
       "    </tr>\n",
       "  </tbody>\n",
       "</table>\n",
       "</div>"
      ],
      "text/plain": [
       "      SEQN  BPQ020  BPQ030  BPQ080\n",
       "0  83732.0     2.0     NaN     2.0\n",
       "1  83733.0     2.0     NaN     2.0\n",
       "2  83734.0     1.0     1.0     1.0\n",
       "3  83735.0     2.0     NaN     2.0\n",
       "4  83736.0     2.0     NaN     2.0"
      ]
     },
     "execution_count": 73,
     "metadata": {},
     "output_type": "execute_result"
    }
   ],
   "source": [
    "bp_cholesterol_columns = ['SEQN', 'BPQ020', 'BPQ030', 'BPQ080']\n",
    "Blood_Pressure_Cholesterol_df = Preprocess_Q_Blood_Pressure_Cholesterol_df[bp_cholesterol_columns]\n",
    "print ('Blood Pressure and Cholesterol Shape: ' + str(Blood_Pressure_Cholesterol_df.shape))\n",
    "Blood_Pressure_Cholesterol_df.head()"
   ]
  },
  {
   "cell_type": "code",
   "execution_count": 74,
   "metadata": {},
   "outputs": [
    {
     "data": {
      "text/html": [
       "<div>\n",
       "<style scoped>\n",
       "    .dataframe tbody tr th:only-of-type {\n",
       "        vertical-align: middle;\n",
       "    }\n",
       "\n",
       "    .dataframe tbody tr th {\n",
       "        vertical-align: top;\n",
       "    }\n",
       "\n",
       "    .dataframe thead th {\n",
       "        text-align: right;\n",
       "    }\n",
       "</style>\n",
       "<table border=\"1\" class=\"dataframe\">\n",
       "  <thead>\n",
       "    <tr style=\"text-align: right;\">\n",
       "      <th></th>\n",
       "      <th>SEQN</th>\n",
       "      <th>BPQ020</th>\n",
       "      <th>BPQ030</th>\n",
       "      <th>BPQ080</th>\n",
       "      <th>Age</th>\n",
       "    </tr>\n",
       "  </thead>\n",
       "  <tbody>\n",
       "    <tr>\n",
       "      <th>0</th>\n",
       "      <td>83732.0</td>\n",
       "      <td>2.0</td>\n",
       "      <td>NaN</td>\n",
       "      <td>2.0</td>\n",
       "      <td>62.0</td>\n",
       "    </tr>\n",
       "    <tr>\n",
       "      <th>1</th>\n",
       "      <td>83733.0</td>\n",
       "      <td>2.0</td>\n",
       "      <td>NaN</td>\n",
       "      <td>2.0</td>\n",
       "      <td>53.0</td>\n",
       "    </tr>\n",
       "    <tr>\n",
       "      <th>2</th>\n",
       "      <td>83734.0</td>\n",
       "      <td>1.0</td>\n",
       "      <td>1.0</td>\n",
       "      <td>1.0</td>\n",
       "      <td>78.0</td>\n",
       "    </tr>\n",
       "    <tr>\n",
       "      <th>3</th>\n",
       "      <td>83735.0</td>\n",
       "      <td>2.0</td>\n",
       "      <td>NaN</td>\n",
       "      <td>2.0</td>\n",
       "      <td>56.0</td>\n",
       "    </tr>\n",
       "    <tr>\n",
       "      <th>4</th>\n",
       "      <td>83736.0</td>\n",
       "      <td>2.0</td>\n",
       "      <td>NaN</td>\n",
       "      <td>2.0</td>\n",
       "      <td>42.0</td>\n",
       "    </tr>\n",
       "  </tbody>\n",
       "</table>\n",
       "</div>"
      ],
      "text/plain": [
       "      SEQN  BPQ020  BPQ030  BPQ080   Age\n",
       "0  83732.0     2.0     NaN     2.0  62.0\n",
       "1  83733.0     2.0     NaN     2.0  53.0\n",
       "2  83734.0     1.0     1.0     1.0  78.0\n",
       "3  83735.0     2.0     NaN     2.0  56.0\n",
       "4  83736.0     2.0     NaN     2.0  42.0"
      ]
     },
     "execution_count": 74,
     "metadata": {},
     "output_type": "execute_result"
    }
   ],
   "source": [
    "Blood_Pressure_Cholesterol_df = pd.merge(Blood_Pressure_Cholesterol_df, age_df, on=\"SEQN\")\n",
    "Blood_Pressure_Cholesterol_df = Blood_Pressure_Cholesterol_df.drop(Blood_Pressure_Cholesterol_df[Blood_Pressure_Cholesterol_df.Age < 18].index)\n",
    "Blood_Pressure_Cholesterol_df.head()"
   ]
  },
  {
   "cell_type": "code",
   "execution_count": 75,
   "metadata": {},
   "outputs": [
    {
     "name": "stdout",
     "output_type": "stream",
     "text": [
      "0\n",
      "3911\n",
      "0\n"
     ]
    }
   ],
   "source": [
    "print (Blood_Pressure_Cholesterol_df['BPQ020'].isnull().sum(axis = 0))\n",
    "print (Blood_Pressure_Cholesterol_df['BPQ030'].isnull().sum(axis = 0))\n",
    "print (Blood_Pressure_Cholesterol_df['BPQ080'].isnull().sum(axis = 0))"
   ]
  },
  {
   "cell_type": "code",
   "execution_count": 80,
   "metadata": {},
   "outputs": [],
   "source": [
    "# clean the columns based on game plan\n",
    "Blood_Pressure_Cholesterol_df.loc[Blood_Pressure_Cholesterol_df['BPQ020'] == 9, 'BPQ020'] = 0\n",
    "Blood_Pressure_Cholesterol_df.loc[Blood_Pressure_Cholesterol_df['BPQ020'] == 2, 'BPQ020'] = 0\n",
    "\n",
    "Blood_Pressure_Cholesterol_df.loc[Blood_Pressure_Cholesterol_df['BPQ030'] == 7, 'BPQ030'] = 0\n",
    "Blood_Pressure_Cholesterol_df.loc[Blood_Pressure_Cholesterol_df['BPQ030'] == 9, 'BPQ030'] = 0\n",
    "Blood_Pressure_Cholesterol_df.loc[Blood_Pressure_Cholesterol_df['BPQ030'] == 2, 'BPQ030'] = 0\n",
    "Blood_Pressure_Cholesterol_df['BPQ030'].fillna(0, inplace=True)\n",
    "\n",
    "Blood_Pressure_Cholesterol_df.loc[Blood_Pressure_Cholesterol_df['BPQ080'] == 9, 'BPQ080'] = 0\n",
    "Blood_Pressure_Cholesterol_df.loc[Blood_Pressure_Cholesterol_df['BPQ080'] == 2, 'BPQ080'] = 0"
   ]
  },
  {
   "cell_type": "code",
   "execution_count": 81,
   "metadata": {
    "scrolled": true
   },
   "outputs": [
    {
     "name": "stdout",
     "output_type": "stream",
     "text": [
      "0\n",
      "0\n",
      "0\n"
     ]
    }
   ],
   "source": [
    "print (Blood_Pressure_Cholesterol_df['BPQ020'].isnull().sum(axis = 0))\n",
    "print (Blood_Pressure_Cholesterol_df['BPQ030'].isnull().sum(axis = 0))\n",
    "print (Blood_Pressure_Cholesterol_df['BPQ080'].isnull().sum(axis = 0))"
   ]
  },
  {
   "cell_type": "code",
   "execution_count": 84,
   "metadata": {},
   "outputs": [
    {
     "data": {
      "text/plain": [
       "0.0    4043\n",
       "1.0    1949\n",
       "Name: BPQ080, dtype: int64"
      ]
     },
     "execution_count": 84,
     "metadata": {},
     "output_type": "execute_result"
    }
   ],
   "source": [
    "Blood_Pressure_Cholesterol_df['BPQ080'].value_counts()"
   ]
  },
  {
   "cell_type": "code",
   "execution_count": 85,
   "metadata": {},
   "outputs": [],
   "source": [
    "Final_BLPR_CHOL_df = Blood_Pressure_Cholesterol_df.drop('Age', axis = 1)"
   ]
  },
  {
   "cell_type": "code",
   "execution_count": 86,
   "metadata": {},
   "outputs": [],
   "source": [
    "need_dummies = ['BPQ020', 'BPQ030', 'BPQ080']\n",
    "Final_BLPR_CHOL_df = pd.get_dummies(Final_BLPR_CHOL_df, columns = need_dummies, drop_first = True)"
   ]
  },
  {
   "cell_type": "code",
   "execution_count": 106,
   "metadata": {},
   "outputs": [
    {
     "data": {
      "text/html": [
       "<div>\n",
       "<style scoped>\n",
       "    .dataframe tbody tr th:only-of-type {\n",
       "        vertical-align: middle;\n",
       "    }\n",
       "\n",
       "    .dataframe tbody tr th {\n",
       "        vertical-align: top;\n",
       "    }\n",
       "\n",
       "    .dataframe thead th {\n",
       "        text-align: right;\n",
       "    }\n",
       "</style>\n",
       "<table border=\"1\" class=\"dataframe\">\n",
       "  <thead>\n",
       "    <tr style=\"text-align: right;\">\n",
       "      <th></th>\n",
       "      <th>SEQN</th>\n",
       "      <th>BPQ020_1.0</th>\n",
       "      <th>BPQ030_1.0</th>\n",
       "      <th>BPQ080_1.0</th>\n",
       "    </tr>\n",
       "  </thead>\n",
       "  <tbody>\n",
       "    <tr>\n",
       "      <th>0</th>\n",
       "      <td>83732.0</td>\n",
       "      <td>0</td>\n",
       "      <td>0</td>\n",
       "      <td>0</td>\n",
       "    </tr>\n",
       "    <tr>\n",
       "      <th>1</th>\n",
       "      <td>83733.0</td>\n",
       "      <td>0</td>\n",
       "      <td>0</td>\n",
       "      <td>0</td>\n",
       "    </tr>\n",
       "    <tr>\n",
       "      <th>2</th>\n",
       "      <td>83734.0</td>\n",
       "      <td>1</td>\n",
       "      <td>1</td>\n",
       "      <td>1</td>\n",
       "    </tr>\n",
       "    <tr>\n",
       "      <th>3</th>\n",
       "      <td>83735.0</td>\n",
       "      <td>0</td>\n",
       "      <td>0</td>\n",
       "      <td>0</td>\n",
       "    </tr>\n",
       "    <tr>\n",
       "      <th>4</th>\n",
       "      <td>83736.0</td>\n",
       "      <td>0</td>\n",
       "      <td>0</td>\n",
       "      <td>0</td>\n",
       "    </tr>\n",
       "  </tbody>\n",
       "</table>\n",
       "</div>"
      ],
      "text/plain": [
       "      SEQN  BPQ020_1.0  BPQ030_1.0  BPQ080_1.0\n",
       "0  83732.0           0           0           0\n",
       "1  83733.0           0           0           0\n",
       "2  83734.0           1           1           1\n",
       "3  83735.0           0           0           0\n",
       "4  83736.0           0           0           0"
      ]
     },
     "execution_count": 106,
     "metadata": {},
     "output_type": "execute_result"
    }
   ],
   "source": [
    "Final_BLPR_CHOL_df.head()"
   ]
  },
  {
   "cell_type": "code",
   "execution_count": 90,
   "metadata": {},
   "outputs": [],
   "source": [
    "Final_BLPR_CHOL_df.to_csv('Cleaned_BLPR_CHOL.csv')"
   ]
  },
  {
   "cell_type": "markdown",
   "metadata": {},
   "source": [
    "<div class=\"alert alert-block alert-success\">\n",
    "    \n",
    "# 3. Where do you get your food?\n",
    "   * Ages 0+\n",
    "   * CBD071 - Money spent at supermarket/grocery store\n",
    "       * 777777, 999999, Nan -> Median\n",
    "   * CBD111 - Money spent on food at other stores\n",
    "       * 777777, 999999, Nan -> Median\n",
    "   * CBD121 - Money spent on eating out\n",
    "       * 777777, 999999, Nan -> Median\n",
    "   * CBD131 - Money spent on carryout/delivered foods\n",
    "       * 777777, 999999, Nan -> Median"
   ]
  },
  {
   "cell_type": "code",
   "execution_count": 53,
   "metadata": {
    "scrolled": true
   },
   "outputs": [
    {
     "name": "stdout",
     "output_type": "stream",
     "text": [
      "Where do you get food Shape: (9971, 5)\n"
     ]
    },
    {
     "data": {
      "text/html": [
       "<div>\n",
       "<style scoped>\n",
       "    .dataframe tbody tr th:only-of-type {\n",
       "        vertical-align: middle;\n",
       "    }\n",
       "\n",
       "    .dataframe tbody tr th {\n",
       "        vertical-align: top;\n",
       "    }\n",
       "\n",
       "    .dataframe thead th {\n",
       "        text-align: right;\n",
       "    }\n",
       "</style>\n",
       "<table border=\"1\" class=\"dataframe\">\n",
       "  <thead>\n",
       "    <tr style=\"text-align: right;\">\n",
       "      <th></th>\n",
       "      <th>SEQN</th>\n",
       "      <th>CBD071</th>\n",
       "      <th>CBD111</th>\n",
       "      <th>CBD121</th>\n",
       "      <th>CBD131</th>\n",
       "    </tr>\n",
       "  </thead>\n",
       "  <tbody>\n",
       "    <tr>\n",
       "      <th>0</th>\n",
       "      <td>83732.0</td>\n",
       "      <td>300.0</td>\n",
       "      <td>5.397605e-79</td>\n",
       "      <td>1.250000e+02</td>\n",
       "      <td>5.397605e-79</td>\n",
       "    </tr>\n",
       "    <tr>\n",
       "      <th>1</th>\n",
       "      <td>83733.0</td>\n",
       "      <td>200.0</td>\n",
       "      <td>5.000000e+01</td>\n",
       "      <td>4.000000e+01</td>\n",
       "      <td>5.397605e-79</td>\n",
       "    </tr>\n",
       "    <tr>\n",
       "      <th>2</th>\n",
       "      <td>83734.0</td>\n",
       "      <td>400.0</td>\n",
       "      <td>5.397605e-79</td>\n",
       "      <td>5.397605e-79</td>\n",
       "      <td>5.397605e-79</td>\n",
       "    </tr>\n",
       "    <tr>\n",
       "      <th>3</th>\n",
       "      <td>83735.0</td>\n",
       "      <td>300.0</td>\n",
       "      <td>2.500000e+02</td>\n",
       "      <td>5.000000e+01</td>\n",
       "      <td>5.397605e-79</td>\n",
       "    </tr>\n",
       "    <tr>\n",
       "      <th>4</th>\n",
       "      <td>83736.0</td>\n",
       "      <td>300.0</td>\n",
       "      <td>5.397605e-79</td>\n",
       "      <td>2.000000e+02</td>\n",
       "      <td>5.397605e-79</td>\n",
       "    </tr>\n",
       "  </tbody>\n",
       "</table>\n",
       "</div>"
      ],
      "text/plain": [
       "      SEQN  CBD071        CBD111        CBD121        CBD131\n",
       "0  83732.0   300.0  5.397605e-79  1.250000e+02  5.397605e-79\n",
       "1  83733.0   200.0  5.000000e+01  4.000000e+01  5.397605e-79\n",
       "2  83734.0   400.0  5.397605e-79  5.397605e-79  5.397605e-79\n",
       "3  83735.0   300.0  2.500000e+02  5.000000e+01  5.397605e-79\n",
       "4  83736.0   300.0  5.397605e-79  2.000000e+02  5.397605e-79"
      ]
     },
     "execution_count": 53,
     "metadata": {},
     "output_type": "execute_result"
    }
   ],
   "source": [
    "where_food_columns = ['SEQN', 'CBD071', 'CBD111', 'CBD121', 'CBD131']\n",
    "Where_You_Get_Food_df = Preprocess_Q_Where_Get_Food_df[where_food_columns]\n",
    "print ('Where do you get food Shape: ' + str(Where_You_Get_Food_df.shape))\n",
    "Where_You_Get_Food_df.head()"
   ]
  },
  {
   "cell_type": "code",
   "execution_count": 54,
   "metadata": {
    "scrolled": false
   },
   "outputs": [
    {
     "name": "stdout",
     "output_type": "stream",
     "text": [
      "Where do you get food Shape: (5992, 6)\n"
     ]
    },
    {
     "data": {
      "text/html": [
       "<div>\n",
       "<style scoped>\n",
       "    .dataframe tbody tr th:only-of-type {\n",
       "        vertical-align: middle;\n",
       "    }\n",
       "\n",
       "    .dataframe tbody tr th {\n",
       "        vertical-align: top;\n",
       "    }\n",
       "\n",
       "    .dataframe thead th {\n",
       "        text-align: right;\n",
       "    }\n",
       "</style>\n",
       "<table border=\"1\" class=\"dataframe\">\n",
       "  <thead>\n",
       "    <tr style=\"text-align: right;\">\n",
       "      <th></th>\n",
       "      <th>SEQN</th>\n",
       "      <th>CBD071</th>\n",
       "      <th>CBD111</th>\n",
       "      <th>CBD121</th>\n",
       "      <th>CBD131</th>\n",
       "      <th>Age</th>\n",
       "    </tr>\n",
       "  </thead>\n",
       "  <tbody>\n",
       "    <tr>\n",
       "      <th>0</th>\n",
       "      <td>83732.0</td>\n",
       "      <td>300.0</td>\n",
       "      <td>5.397605e-79</td>\n",
       "      <td>1.250000e+02</td>\n",
       "      <td>5.397605e-79</td>\n",
       "      <td>62.0</td>\n",
       "    </tr>\n",
       "    <tr>\n",
       "      <th>1</th>\n",
       "      <td>83733.0</td>\n",
       "      <td>200.0</td>\n",
       "      <td>5.000000e+01</td>\n",
       "      <td>4.000000e+01</td>\n",
       "      <td>5.397605e-79</td>\n",
       "      <td>53.0</td>\n",
       "    </tr>\n",
       "    <tr>\n",
       "      <th>2</th>\n",
       "      <td>83734.0</td>\n",
       "      <td>400.0</td>\n",
       "      <td>5.397605e-79</td>\n",
       "      <td>5.397605e-79</td>\n",
       "      <td>5.397605e-79</td>\n",
       "      <td>78.0</td>\n",
       "    </tr>\n",
       "    <tr>\n",
       "      <th>3</th>\n",
       "      <td>83735.0</td>\n",
       "      <td>300.0</td>\n",
       "      <td>2.500000e+02</td>\n",
       "      <td>5.000000e+01</td>\n",
       "      <td>5.397605e-79</td>\n",
       "      <td>56.0</td>\n",
       "    </tr>\n",
       "    <tr>\n",
       "      <th>4</th>\n",
       "      <td>83736.0</td>\n",
       "      <td>300.0</td>\n",
       "      <td>5.397605e-79</td>\n",
       "      <td>2.000000e+02</td>\n",
       "      <td>5.397605e-79</td>\n",
       "      <td>42.0</td>\n",
       "    </tr>\n",
       "  </tbody>\n",
       "</table>\n",
       "</div>"
      ],
      "text/plain": [
       "      SEQN  CBD071        CBD111        CBD121        CBD131   Age\n",
       "0  83732.0   300.0  5.397605e-79  1.250000e+02  5.397605e-79  62.0\n",
       "1  83733.0   200.0  5.000000e+01  4.000000e+01  5.397605e-79  53.0\n",
       "2  83734.0   400.0  5.397605e-79  5.397605e-79  5.397605e-79  78.0\n",
       "3  83735.0   300.0  2.500000e+02  5.000000e+01  5.397605e-79  56.0\n",
       "4  83736.0   300.0  5.397605e-79  2.000000e+02  5.397605e-79  42.0"
      ]
     },
     "execution_count": 54,
     "metadata": {},
     "output_type": "execute_result"
    }
   ],
   "source": [
    "Where_You_Get_Food_df = pd.merge(Where_You_Get_Food_df, age_df, on=\"SEQN\")\n",
    "Where_You_Get_Food_df = Where_You_Get_Food_df.drop(Where_You_Get_Food_df[Where_You_Get_Food_df.Age < 18].index)\n",
    "print ('Where do you get food Shape: ' + str(Where_You_Get_Food_df.shape))\n",
    "Where_You_Get_Food_df.head()"
   ]
  },
  {
   "cell_type": "code",
   "execution_count": 65,
   "metadata": {},
   "outputs": [],
   "source": [
    "# Change all 777777 and 999999 to NaNs\n",
    "# If I don't do this, it will throw off the median\n",
    "\n",
    "Where_You_Get_Food_df['CBD071'].values[Where_You_Get_Food_df['CBD071'].values > 9000] = np.NaN\n",
    "Where_You_Get_Food_df['CBD111'].values[Where_You_Get_Food_df['CBD111'].values > 9000] = np.NaN\n",
    "Where_You_Get_Food_df['CBD121'].values[Where_You_Get_Food_df['CBD121'].values > 9000] = np.NaN\n",
    "Where_You_Get_Food_df['CBD131'].values[Where_You_Get_Food_df['CBD131'].values > 9000] = np.NaN\n",
    "\n",
    "# Change all values < 1 to zero\n",
    "Where_You_Get_Food_df['CBD071'].values[Where_You_Get_Food_df['CBD071'].values < 1] = 0\n",
    "Where_You_Get_Food_df['CBD111'].values[Where_You_Get_Food_df['CBD111'].values < 1] = 0\n",
    "Where_You_Get_Food_df['CBD121'].values[Where_You_Get_Food_df['CBD121'].values < 1] = 0\n",
    "Where_You_Get_Food_df['CBD131'].values[Where_You_Get_Food_df['CBD131'].values < 1] = 0\n"
   ]
  },
  {
   "cell_type": "code",
   "execution_count": 66,
   "metadata": {},
   "outputs": [],
   "source": [
    "# Change all NaNs to the median of the column\n",
    "\n",
    "Where_You_Get_Food_df['CBD071'] = Where_You_Get_Food_df['CBD071'].fillna(Where_You_Get_Food_df['CBD071'].median())\n",
    "Where_You_Get_Food_df['CBD111'] = Where_You_Get_Food_df['CBD111'].fillna(Where_You_Get_Food_df['CBD111'].median())\n",
    "Where_You_Get_Food_df['CBD121'] = Where_You_Get_Food_df['CBD121'].fillna(Where_You_Get_Food_df['CBD121'].median())\n",
    "Where_You_Get_Food_df['CBD131'] = Where_You_Get_Food_df['CBD131'].fillna(Where_You_Get_Food_df['CBD131'].median())\n"
   ]
  },
  {
   "cell_type": "code",
   "execution_count": 67,
   "metadata": {
    "scrolled": true
   },
   "outputs": [
    {
     "name": "stdout",
     "output_type": "stream",
     "text": [
      "0\n",
      "0\n",
      "0\n",
      "0\n"
     ]
    }
   ],
   "source": [
    "print (Where_You_Get_Food_df['CBD071'].isnull().sum(axis = 0))\n",
    "print (Where_You_Get_Food_df['CBD111'].isnull().sum(axis = 0))\n",
    "print (Where_You_Get_Food_df['CBD121'].isnull().sum(axis = 0))\n",
    "print (Where_You_Get_Food_df['CBD131'].isnull().sum(axis = 0))"
   ]
  },
  {
   "cell_type": "code",
   "execution_count": 68,
   "metadata": {},
   "outputs": [
    {
     "data": {
      "text/html": [
       "<div>\n",
       "<style scoped>\n",
       "    .dataframe tbody tr th:only-of-type {\n",
       "        vertical-align: middle;\n",
       "    }\n",
       "\n",
       "    .dataframe tbody tr th {\n",
       "        vertical-align: top;\n",
       "    }\n",
       "\n",
       "    .dataframe thead th {\n",
       "        text-align: right;\n",
       "    }\n",
       "</style>\n",
       "<table border=\"1\" class=\"dataframe\">\n",
       "  <thead>\n",
       "    <tr style=\"text-align: right;\">\n",
       "      <th></th>\n",
       "      <th>SEQN</th>\n",
       "      <th>CBD071</th>\n",
       "      <th>CBD111</th>\n",
       "      <th>CBD121</th>\n",
       "      <th>CBD131</th>\n",
       "      <th>Age</th>\n",
       "    </tr>\n",
       "  </thead>\n",
       "  <tbody>\n",
       "    <tr>\n",
       "      <th>count</th>\n",
       "      <td>5992.000000</td>\n",
       "      <td>5992.000000</td>\n",
       "      <td>5992.000000</td>\n",
       "      <td>5992.000000</td>\n",
       "      <td>5992.000000</td>\n",
       "      <td>5992.000000</td>\n",
       "    </tr>\n",
       "    <tr>\n",
       "      <th>mean</th>\n",
       "      <td>88676.950935</td>\n",
       "      <td>439.751836</td>\n",
       "      <td>126.201101</td>\n",
       "      <td>146.437417</td>\n",
       "      <td>28.139019</td>\n",
       "      <td>48.121996</td>\n",
       "    </tr>\n",
       "    <tr>\n",
       "      <th>std</th>\n",
       "      <td>2877.819691</td>\n",
       "      <td>480.392712</td>\n",
       "      <td>184.978989</td>\n",
       "      <td>233.654952</td>\n",
       "      <td>64.026335</td>\n",
       "      <td>18.521353</td>\n",
       "    </tr>\n",
       "    <tr>\n",
       "      <th>min</th>\n",
       "      <td>83732.000000</td>\n",
       "      <td>0.000000</td>\n",
       "      <td>0.000000</td>\n",
       "      <td>0.000000</td>\n",
       "      <td>0.000000</td>\n",
       "      <td>18.000000</td>\n",
       "    </tr>\n",
       "    <tr>\n",
       "      <th>25%</th>\n",
       "      <td>86175.750000</td>\n",
       "      <td>200.000000</td>\n",
       "      <td>0.000000</td>\n",
       "      <td>34.000000</td>\n",
       "      <td>0.000000</td>\n",
       "      <td>32.000000</td>\n",
       "    </tr>\n",
       "    <tr>\n",
       "      <th>50%</th>\n",
       "      <td>88659.500000</td>\n",
       "      <td>380.000000</td>\n",
       "      <td>60.000000</td>\n",
       "      <td>100.000000</td>\n",
       "      <td>0.000000</td>\n",
       "      <td>48.000000</td>\n",
       "    </tr>\n",
       "    <tr>\n",
       "      <th>75%</th>\n",
       "      <td>91174.250000</td>\n",
       "      <td>514.000000</td>\n",
       "      <td>180.000000</td>\n",
       "      <td>200.000000</td>\n",
       "      <td>35.000000</td>\n",
       "      <td>63.000000</td>\n",
       "    </tr>\n",
       "    <tr>\n",
       "      <th>max</th>\n",
       "      <td>93702.000000</td>\n",
       "      <td>8400.000000</td>\n",
       "      <td>2142.000000</td>\n",
       "      <td>8400.000000</td>\n",
       "      <td>1500.000000</td>\n",
       "      <td>80.000000</td>\n",
       "    </tr>\n",
       "  </tbody>\n",
       "</table>\n",
       "</div>"
      ],
      "text/plain": [
       "               SEQN       CBD071       CBD111       CBD121       CBD131  \\\n",
       "count   5992.000000  5992.000000  5992.000000  5992.000000  5992.000000   \n",
       "mean   88676.950935   439.751836   126.201101   146.437417    28.139019   \n",
       "std     2877.819691   480.392712   184.978989   233.654952    64.026335   \n",
       "min    83732.000000     0.000000     0.000000     0.000000     0.000000   \n",
       "25%    86175.750000   200.000000     0.000000    34.000000     0.000000   \n",
       "50%    88659.500000   380.000000    60.000000   100.000000     0.000000   \n",
       "75%    91174.250000   514.000000   180.000000   200.000000    35.000000   \n",
       "max    93702.000000  8400.000000  2142.000000  8400.000000  1500.000000   \n",
       "\n",
       "               Age  \n",
       "count  5992.000000  \n",
       "mean     48.121996  \n",
       "std      18.521353  \n",
       "min      18.000000  \n",
       "25%      32.000000  \n",
       "50%      48.000000  \n",
       "75%      63.000000  \n",
       "max      80.000000  "
      ]
     },
     "execution_count": 68,
     "metadata": {},
     "output_type": "execute_result"
    }
   ],
   "source": [
    "Where_You_Get_Food_df.describe()"
   ]
  },
  {
   "cell_type": "code",
   "execution_count": 69,
   "metadata": {},
   "outputs": [],
   "source": [
    "Final_Where_Food_Comes = Where_You_Get_Food_df.drop('Age', axis = 1)"
   ]
  },
  {
   "cell_type": "code",
   "execution_count": 70,
   "metadata": {},
   "outputs": [
    {
     "data": {
      "text/html": [
       "<div>\n",
       "<style scoped>\n",
       "    .dataframe tbody tr th:only-of-type {\n",
       "        vertical-align: middle;\n",
       "    }\n",
       "\n",
       "    .dataframe tbody tr th {\n",
       "        vertical-align: top;\n",
       "    }\n",
       "\n",
       "    .dataframe thead th {\n",
       "        text-align: right;\n",
       "    }\n",
       "</style>\n",
       "<table border=\"1\" class=\"dataframe\">\n",
       "  <thead>\n",
       "    <tr style=\"text-align: right;\">\n",
       "      <th></th>\n",
       "      <th>SEQN</th>\n",
       "      <th>CBD071</th>\n",
       "      <th>CBD111</th>\n",
       "      <th>CBD121</th>\n",
       "      <th>CBD131</th>\n",
       "    </tr>\n",
       "  </thead>\n",
       "  <tbody>\n",
       "    <tr>\n",
       "      <th>0</th>\n",
       "      <td>83732.0</td>\n",
       "      <td>300.0</td>\n",
       "      <td>0.0</td>\n",
       "      <td>125.0</td>\n",
       "      <td>0.0</td>\n",
       "    </tr>\n",
       "    <tr>\n",
       "      <th>1</th>\n",
       "      <td>83733.0</td>\n",
       "      <td>200.0</td>\n",
       "      <td>50.0</td>\n",
       "      <td>40.0</td>\n",
       "      <td>0.0</td>\n",
       "    </tr>\n",
       "    <tr>\n",
       "      <th>2</th>\n",
       "      <td>83734.0</td>\n",
       "      <td>400.0</td>\n",
       "      <td>0.0</td>\n",
       "      <td>0.0</td>\n",
       "      <td>0.0</td>\n",
       "    </tr>\n",
       "    <tr>\n",
       "      <th>3</th>\n",
       "      <td>83735.0</td>\n",
       "      <td>300.0</td>\n",
       "      <td>250.0</td>\n",
       "      <td>50.0</td>\n",
       "      <td>0.0</td>\n",
       "    </tr>\n",
       "    <tr>\n",
       "      <th>4</th>\n",
       "      <td>83736.0</td>\n",
       "      <td>300.0</td>\n",
       "      <td>0.0</td>\n",
       "      <td>200.0</td>\n",
       "      <td>0.0</td>\n",
       "    </tr>\n",
       "  </tbody>\n",
       "</table>\n",
       "</div>"
      ],
      "text/plain": [
       "      SEQN  CBD071  CBD111  CBD121  CBD131\n",
       "0  83732.0   300.0     0.0   125.0     0.0\n",
       "1  83733.0   200.0    50.0    40.0     0.0\n",
       "2  83734.0   400.0     0.0     0.0     0.0\n",
       "3  83735.0   300.0   250.0    50.0     0.0\n",
       "4  83736.0   300.0     0.0   200.0     0.0"
      ]
     },
     "execution_count": 70,
     "metadata": {},
     "output_type": "execute_result"
    }
   ],
   "source": [
    "Final_Where_Food_Comes.head()"
   ]
  },
  {
   "cell_type": "code",
   "execution_count": 71,
   "metadata": {},
   "outputs": [],
   "source": [
    "Final_Where_Food_Comes.to_csv('Where_You_Get_Your_Food.csv')"
   ]
  },
  {
   "cell_type": "code",
   "execution_count": null,
   "metadata": {},
   "outputs": [],
   "source": []
  },
  {
   "cell_type": "markdown",
   "metadata": {},
   "source": [
    "<div class=\"alert alert-block alert-danger\">\n",
    "\n",
    "# 4. General Health - Won't be using, too many missing values\n",
    "   * Ages 1+\n",
    "   * HSD010 - General health condition\n",
    "       * Ages 12+\n",
    "       * 2999 missing\n",
    "       * Categorical 1-5\n",
    "   * HSQ500 - SP have head cold or chest cold\n",
    "       * Ages 0+\n",
    "       * Missing 1001\n",
    "       * 1 = Yes\n",
    "       * 2 = No\n",
    "       * 7, 9, NaN -> No\n",
    "   * HSQ510 - SP have stomach or intestinal illness?\n",
    "       * Ages 0+\n",
    "       * Missing 1001\n",
    "       * 1 = Yes\n",
    "       * 2 = No\n",
    "       * 7, 9, NaN -> No\n",
    "   * HSQ520 - SP have flu, pneumonia, ear infection?\n",
    "       * Ages 0+\n",
    "       * Missing 1001\n",
    "       * 1 = Yes\n",
    "       * 2 = No\n",
    "       * 7, 9, NaN -> No"
   ]
  },
  {
   "cell_type": "code",
   "execution_count": 92,
   "metadata": {
    "scrolled": true
   },
   "outputs": [
    {
     "name": "stdout",
     "output_type": "stream",
     "text": [
      "General Health Shape: (9165, 5)\n"
     ]
    },
    {
     "data": {
      "text/html": [
       "<div>\n",
       "<style scoped>\n",
       "    .dataframe tbody tr th:only-of-type {\n",
       "        vertical-align: middle;\n",
       "    }\n",
       "\n",
       "    .dataframe tbody tr th {\n",
       "        vertical-align: top;\n",
       "    }\n",
       "\n",
       "    .dataframe thead th {\n",
       "        text-align: right;\n",
       "    }\n",
       "</style>\n",
       "<table border=\"1\" class=\"dataframe\">\n",
       "  <thead>\n",
       "    <tr style=\"text-align: right;\">\n",
       "      <th></th>\n",
       "      <th>SEQN</th>\n",
       "      <th>HSD010</th>\n",
       "      <th>HSQ500</th>\n",
       "      <th>HSQ510</th>\n",
       "      <th>HSQ520</th>\n",
       "    </tr>\n",
       "  </thead>\n",
       "  <tbody>\n",
       "    <tr>\n",
       "      <th>0</th>\n",
       "      <td>83732.0</td>\n",
       "      <td>3.0</td>\n",
       "      <td>2.0</td>\n",
       "      <td>2.0</td>\n",
       "      <td>2.0</td>\n",
       "    </tr>\n",
       "    <tr>\n",
       "      <th>1</th>\n",
       "      <td>83733.0</td>\n",
       "      <td>2.0</td>\n",
       "      <td>2.0</td>\n",
       "      <td>2.0</td>\n",
       "      <td>2.0</td>\n",
       "    </tr>\n",
       "    <tr>\n",
       "      <th>2</th>\n",
       "      <td>83734.0</td>\n",
       "      <td>4.0</td>\n",
       "      <td>2.0</td>\n",
       "      <td>1.0</td>\n",
       "      <td>2.0</td>\n",
       "    </tr>\n",
       "    <tr>\n",
       "      <th>3</th>\n",
       "      <td>83735.0</td>\n",
       "      <td>3.0</td>\n",
       "      <td>2.0</td>\n",
       "      <td>2.0</td>\n",
       "      <td>2.0</td>\n",
       "    </tr>\n",
       "    <tr>\n",
       "      <th>4</th>\n",
       "      <td>83736.0</td>\n",
       "      <td>4.0</td>\n",
       "      <td>2.0</td>\n",
       "      <td>2.0</td>\n",
       "      <td>2.0</td>\n",
       "    </tr>\n",
       "  </tbody>\n",
       "</table>\n",
       "</div>"
      ],
      "text/plain": [
       "      SEQN  HSD010  HSQ500  HSQ510  HSQ520\n",
       "0  83732.0     3.0     2.0     2.0     2.0\n",
       "1  83733.0     2.0     2.0     2.0     2.0\n",
       "2  83734.0     4.0     2.0     1.0     2.0\n",
       "3  83735.0     3.0     2.0     2.0     2.0\n",
       "4  83736.0     4.0     2.0     2.0     2.0"
      ]
     },
     "execution_count": 92,
     "metadata": {},
     "output_type": "execute_result"
    }
   ],
   "source": [
    "general_health_columns = ['SEQN', 'HSD010', 'HSQ500', 'HSQ510', 'HSQ520']\n",
    "General_Health_df = Preprocess_Q_General_Health_df[general_health_columns]\n",
    "print ('General Health Shape: ' + str(General_Health_df.shape))\n",
    "General_Health_df.head()"
   ]
  },
  {
   "cell_type": "code",
   "execution_count": 107,
   "metadata": {},
   "outputs": [
    {
     "name": "stdout",
     "output_type": "stream",
     "text": [
      "General Health Shape: (5735, 6)\n"
     ]
    },
    {
     "data": {
      "text/html": [
       "<div>\n",
       "<style scoped>\n",
       "    .dataframe tbody tr th:only-of-type {\n",
       "        vertical-align: middle;\n",
       "    }\n",
       "\n",
       "    .dataframe tbody tr th {\n",
       "        vertical-align: top;\n",
       "    }\n",
       "\n",
       "    .dataframe thead th {\n",
       "        text-align: right;\n",
       "    }\n",
       "</style>\n",
       "<table border=\"1\" class=\"dataframe\">\n",
       "  <thead>\n",
       "    <tr style=\"text-align: right;\">\n",
       "      <th></th>\n",
       "      <th>SEQN</th>\n",
       "      <th>HSD010</th>\n",
       "      <th>HSQ500</th>\n",
       "      <th>HSQ510</th>\n",
       "      <th>HSQ520</th>\n",
       "      <th>Age</th>\n",
       "    </tr>\n",
       "  </thead>\n",
       "  <tbody>\n",
       "    <tr>\n",
       "      <th>0</th>\n",
       "      <td>83732.0</td>\n",
       "      <td>3.0</td>\n",
       "      <td>2.0</td>\n",
       "      <td>2.0</td>\n",
       "      <td>2.0</td>\n",
       "      <td>62.0</td>\n",
       "    </tr>\n",
       "    <tr>\n",
       "      <th>1</th>\n",
       "      <td>83733.0</td>\n",
       "      <td>2.0</td>\n",
       "      <td>2.0</td>\n",
       "      <td>2.0</td>\n",
       "      <td>2.0</td>\n",
       "      <td>53.0</td>\n",
       "    </tr>\n",
       "    <tr>\n",
       "      <th>2</th>\n",
       "      <td>83734.0</td>\n",
       "      <td>4.0</td>\n",
       "      <td>2.0</td>\n",
       "      <td>1.0</td>\n",
       "      <td>2.0</td>\n",
       "      <td>78.0</td>\n",
       "    </tr>\n",
       "    <tr>\n",
       "      <th>3</th>\n",
       "      <td>83735.0</td>\n",
       "      <td>3.0</td>\n",
       "      <td>2.0</td>\n",
       "      <td>2.0</td>\n",
       "      <td>2.0</td>\n",
       "      <td>56.0</td>\n",
       "    </tr>\n",
       "    <tr>\n",
       "      <th>4</th>\n",
       "      <td>83736.0</td>\n",
       "      <td>4.0</td>\n",
       "      <td>2.0</td>\n",
       "      <td>2.0</td>\n",
       "      <td>2.0</td>\n",
       "      <td>42.0</td>\n",
       "    </tr>\n",
       "  </tbody>\n",
       "</table>\n",
       "</div>"
      ],
      "text/plain": [
       "      SEQN  HSD010  HSQ500  HSQ510  HSQ520   Age\n",
       "0  83732.0     3.0     2.0     2.0     2.0  62.0\n",
       "1  83733.0     2.0     2.0     2.0     2.0  53.0\n",
       "2  83734.0     4.0     2.0     1.0     2.0  78.0\n",
       "3  83735.0     3.0     2.0     2.0     2.0  56.0\n",
       "4  83736.0     4.0     2.0     2.0     2.0  42.0"
      ]
     },
     "execution_count": 107,
     "metadata": {},
     "output_type": "execute_result"
    }
   ],
   "source": [
    "General_Health_df = pd.merge(General_Health_df, age_df, on=\"SEQN\")\n",
    "General_Health_df = General_Health_df.drop(General_Health_df[General_Health_df.Age < 18].index)\n",
    "print ('General Health Shape: ' + str(General_Health_df.shape))\n",
    "General_Health_df.head()"
   ]
  },
  {
   "cell_type": "code",
   "execution_count": 109,
   "metadata": {},
   "outputs": [
    {
     "name": "stdout",
     "output_type": "stream",
     "text": [
      "521\n",
      "521\n",
      "521\n",
      "521\n"
     ]
    }
   ],
   "source": [
    "print (General_Health_df['HSD010'].isnull().sum(axis = 0))\n",
    "print (General_Health_df['HSQ500'].isnull().sum(axis = 0))\n",
    "print (General_Health_df['HSQ510'].isnull().sum(axis = 0))\n",
    "print (General_Health_df['HSQ520'].isnull().sum(axis = 0))"
   ]
  },
  {
   "cell_type": "markdown",
   "metadata": {},
   "source": [
    "##### Too many missing data points"
   ]
  },
  {
   "cell_type": "code",
   "execution_count": null,
   "metadata": {},
   "outputs": [],
   "source": []
  },
  {
   "cell_type": "code",
   "execution_count": null,
   "metadata": {},
   "outputs": [],
   "source": []
  },
  {
   "cell_type": "code",
   "execution_count": null,
   "metadata": {},
   "outputs": [],
   "source": []
  },
  {
   "cell_type": "markdown",
   "metadata": {},
   "source": [
    "<div class=\"alert alert-block alert-success\">\n",
    "\n",
    "# 5. Diet Behavior and Nutrition\n",
    "\n",
    "* Game Plan\n",
    "   * DBQ700 - How healthy is the diet\n",
    "       * Categorical 1-5\n",
    "       * 9 -> 3 (mode)\n",
    "   * DBQ197 - Past 30 day milk product consumption\n",
    "       * Categorical 0-4\n",
    "       * < 1  --> 0\n",
    "   * DBD895 - # of meals not home prepared in the past week\n",
    "       * Range 0-21\n",
    "       * 5555 = More than 21\n",
    "       * 9999 = Don't know\n",
    "       * less than 1  -> 0\n",
    "       * 5555 -> 22\n",
    "       * 9999 -> 0 (mode)\n",
    "   * DBD900 - # of meals from fast food or pizza place\n",
    "       * Range 0-21\n",
    "       * 5555 = More than 21\n",
    "       * 9999 = Don't know\n",
    "       * Missing 1387\n",
    "       * __DROPPING__\n",
    "   * DBD905 - # of ready-to-eat foods in past 30 days\n",
    "       * Range 0-90\n",
    "       * 6666 = More than 90\n",
    "       * 7777, 9999 = Don't know\n",
    "       * NaN -> 0\n",
    "       * 7777 -> 0\n",
    "       * 9999 -> 1\n",
    "       * less than 1 -> 0\n",
    "   * DBD910 - # of frozen meals/pizza in past 30 days\n",
    "       * Range 0-90\n",
    "       * 6666 = More than 90\n",
    "       * 7777, 9999 = Don't know\n",
    "       * NaN -> 0\n",
    "       * 7777 -> 0\n",
    "       * 9999 -> 1\n",
    "       * less than 1 -> 0"
   ]
  },
  {
   "cell_type": "code",
   "execution_count": 93,
   "metadata": {
    "scrolled": false
   },
   "outputs": [
    {
     "name": "stdout",
     "output_type": "stream",
     "text": [
      "Diet Behavior and Nutrition Shape: (9971, 7)\n"
     ]
    },
    {
     "data": {
      "text/html": [
       "<div>\n",
       "<style scoped>\n",
       "    .dataframe tbody tr th:only-of-type {\n",
       "        vertical-align: middle;\n",
       "    }\n",
       "\n",
       "    .dataframe tbody tr th {\n",
       "        vertical-align: top;\n",
       "    }\n",
       "\n",
       "    .dataframe thead th {\n",
       "        text-align: right;\n",
       "    }\n",
       "</style>\n",
       "<table border=\"1\" class=\"dataframe\">\n",
       "  <thead>\n",
       "    <tr style=\"text-align: right;\">\n",
       "      <th></th>\n",
       "      <th>SEQN</th>\n",
       "      <th>DBQ700</th>\n",
       "      <th>DBQ197</th>\n",
       "      <th>DBD895</th>\n",
       "      <th>DBD900</th>\n",
       "      <th>DBD905</th>\n",
       "      <th>DBD910</th>\n",
       "    </tr>\n",
       "  </thead>\n",
       "  <tbody>\n",
       "    <tr>\n",
       "      <th>0</th>\n",
       "      <td>83732.0</td>\n",
       "      <td>3.0</td>\n",
       "      <td>3.000000e+00</td>\n",
       "      <td>1.000000e+00</td>\n",
       "      <td>5.397605e-79</td>\n",
       "      <td>2.000000e+00</td>\n",
       "      <td>5.397605e-79</td>\n",
       "    </tr>\n",
       "    <tr>\n",
       "      <th>1</th>\n",
       "      <td>83733.0</td>\n",
       "      <td>1.0</td>\n",
       "      <td>5.397605e-79</td>\n",
       "      <td>5.397605e-79</td>\n",
       "      <td>NaN</td>\n",
       "      <td>5.397605e-79</td>\n",
       "      <td>5.397605e-79</td>\n",
       "    </tr>\n",
       "    <tr>\n",
       "      <th>2</th>\n",
       "      <td>83734.0</td>\n",
       "      <td>4.0</td>\n",
       "      <td>2.000000e+00</td>\n",
       "      <td>4.000000e+00</td>\n",
       "      <td>4.000000e+00</td>\n",
       "      <td>5.397605e-79</td>\n",
       "      <td>5.397605e-79</td>\n",
       "    </tr>\n",
       "    <tr>\n",
       "      <th>3</th>\n",
       "      <td>83735.0</td>\n",
       "      <td>4.0</td>\n",
       "      <td>5.397605e-79</td>\n",
       "      <td>3.000000e+00</td>\n",
       "      <td>1.000000e+00</td>\n",
       "      <td>1.100000e+01</td>\n",
       "      <td>1.500000e+01</td>\n",
       "    </tr>\n",
       "    <tr>\n",
       "      <th>4</th>\n",
       "      <td>83736.0</td>\n",
       "      <td>5.0</td>\n",
       "      <td>5.397605e-79</td>\n",
       "      <td>3.000000e+00</td>\n",
       "      <td>1.000000e+00</td>\n",
       "      <td>3.000000e+00</td>\n",
       "      <td>1.000000e+00</td>\n",
       "    </tr>\n",
       "  </tbody>\n",
       "</table>\n",
       "</div>"
      ],
      "text/plain": [
       "      SEQN  DBQ700        DBQ197        DBD895        DBD900        DBD905  \\\n",
       "0  83732.0     3.0  3.000000e+00  1.000000e+00  5.397605e-79  2.000000e+00   \n",
       "1  83733.0     1.0  5.397605e-79  5.397605e-79           NaN  5.397605e-79   \n",
       "2  83734.0     4.0  2.000000e+00  4.000000e+00  4.000000e+00  5.397605e-79   \n",
       "3  83735.0     4.0  5.397605e-79  3.000000e+00  1.000000e+00  1.100000e+01   \n",
       "4  83736.0     5.0  5.397605e-79  3.000000e+00  1.000000e+00  3.000000e+00   \n",
       "\n",
       "         DBD910  \n",
       "0  5.397605e-79  \n",
       "1  5.397605e-79  \n",
       "2  5.397605e-79  \n",
       "3  1.500000e+01  \n",
       "4  1.000000e+00  "
      ]
     },
     "execution_count": 93,
     "metadata": {},
     "output_type": "execute_result"
    }
   ],
   "source": [
    "diet_behavior_nutrition_columns = ['SEQN', 'DBQ700', 'DBQ197', 'DBD895', 'DBD900', 'DBD905', 'DBD910']\n",
    "Diet_Behavior_and_Nutrition_df = Preprocess_Q_Diet_Behavior_and_Nutrition_df[diet_behavior_nutrition_columns]\n",
    "print ('Diet Behavior and Nutrition Shape: ' + str(Diet_Behavior_and_Nutrition_df.shape))\n",
    "Diet_Behavior_and_Nutrition_df.head()"
   ]
  },
  {
   "cell_type": "code",
   "execution_count": 110,
   "metadata": {},
   "outputs": [
    {
     "name": "stdout",
     "output_type": "stream",
     "text": [
      "Diet, Behavior, and Nutrition Shape: (5992, 8)\n"
     ]
    },
    {
     "data": {
      "text/html": [
       "<div>\n",
       "<style scoped>\n",
       "    .dataframe tbody tr th:only-of-type {\n",
       "        vertical-align: middle;\n",
       "    }\n",
       "\n",
       "    .dataframe tbody tr th {\n",
       "        vertical-align: top;\n",
       "    }\n",
       "\n",
       "    .dataframe thead th {\n",
       "        text-align: right;\n",
       "    }\n",
       "</style>\n",
       "<table border=\"1\" class=\"dataframe\">\n",
       "  <thead>\n",
       "    <tr style=\"text-align: right;\">\n",
       "      <th></th>\n",
       "      <th>SEQN</th>\n",
       "      <th>DBQ700</th>\n",
       "      <th>DBQ197</th>\n",
       "      <th>DBD895</th>\n",
       "      <th>DBD900</th>\n",
       "      <th>DBD905</th>\n",
       "      <th>DBD910</th>\n",
       "      <th>Age</th>\n",
       "    </tr>\n",
       "  </thead>\n",
       "  <tbody>\n",
       "    <tr>\n",
       "      <th>0</th>\n",
       "      <td>83732.0</td>\n",
       "      <td>3.0</td>\n",
       "      <td>3.000000e+00</td>\n",
       "      <td>1.000000e+00</td>\n",
       "      <td>5.397605e-79</td>\n",
       "      <td>2.000000e+00</td>\n",
       "      <td>5.397605e-79</td>\n",
       "      <td>62.0</td>\n",
       "    </tr>\n",
       "    <tr>\n",
       "      <th>1</th>\n",
       "      <td>83733.0</td>\n",
       "      <td>1.0</td>\n",
       "      <td>5.397605e-79</td>\n",
       "      <td>5.397605e-79</td>\n",
       "      <td>NaN</td>\n",
       "      <td>5.397605e-79</td>\n",
       "      <td>5.397605e-79</td>\n",
       "      <td>53.0</td>\n",
       "    </tr>\n",
       "    <tr>\n",
       "      <th>2</th>\n",
       "      <td>83734.0</td>\n",
       "      <td>4.0</td>\n",
       "      <td>2.000000e+00</td>\n",
       "      <td>4.000000e+00</td>\n",
       "      <td>4.000000e+00</td>\n",
       "      <td>5.397605e-79</td>\n",
       "      <td>5.397605e-79</td>\n",
       "      <td>78.0</td>\n",
       "    </tr>\n",
       "    <tr>\n",
       "      <th>3</th>\n",
       "      <td>83735.0</td>\n",
       "      <td>4.0</td>\n",
       "      <td>5.397605e-79</td>\n",
       "      <td>3.000000e+00</td>\n",
       "      <td>1.000000e+00</td>\n",
       "      <td>1.100000e+01</td>\n",
       "      <td>1.500000e+01</td>\n",
       "      <td>56.0</td>\n",
       "    </tr>\n",
       "    <tr>\n",
       "      <th>4</th>\n",
       "      <td>83736.0</td>\n",
       "      <td>5.0</td>\n",
       "      <td>5.397605e-79</td>\n",
       "      <td>3.000000e+00</td>\n",
       "      <td>1.000000e+00</td>\n",
       "      <td>3.000000e+00</td>\n",
       "      <td>1.000000e+00</td>\n",
       "      <td>42.0</td>\n",
       "    </tr>\n",
       "  </tbody>\n",
       "</table>\n",
       "</div>"
      ],
      "text/plain": [
       "      SEQN  DBQ700        DBQ197        DBD895        DBD900        DBD905  \\\n",
       "0  83732.0     3.0  3.000000e+00  1.000000e+00  5.397605e-79  2.000000e+00   \n",
       "1  83733.0     1.0  5.397605e-79  5.397605e-79           NaN  5.397605e-79   \n",
       "2  83734.0     4.0  2.000000e+00  4.000000e+00  4.000000e+00  5.397605e-79   \n",
       "3  83735.0     4.0  5.397605e-79  3.000000e+00  1.000000e+00  1.100000e+01   \n",
       "4  83736.0     5.0  5.397605e-79  3.000000e+00  1.000000e+00  3.000000e+00   \n",
       "\n",
       "         DBD910   Age  \n",
       "0  5.397605e-79  62.0  \n",
       "1  5.397605e-79  53.0  \n",
       "2  5.397605e-79  78.0  \n",
       "3  1.500000e+01  56.0  \n",
       "4  1.000000e+00  42.0  "
      ]
     },
     "execution_count": 110,
     "metadata": {},
     "output_type": "execute_result"
    }
   ],
   "source": [
    "Diet_Behavior_and_Nutrition_df = pd.merge(Diet_Behavior_and_Nutrition_df, age_df, on=\"SEQN\")\n",
    "Diet_Behavior_and_Nutrition_df = Diet_Behavior_and_Nutrition_df.drop(Diet_Behavior_and_Nutrition_df[Diet_Behavior_and_Nutrition_df.Age < 18].index)\n",
    "print ('Diet, Behavior, and Nutrition Shape: ' + str(Diet_Behavior_and_Nutrition_df.shape))\n",
    "Diet_Behavior_and_Nutrition_df.head()\n"
   ]
  },
  {
   "cell_type": "code",
   "execution_count": 130,
   "metadata": {
    "scrolled": true
   },
   "outputs": [
    {
     "name": "stdout",
     "output_type": "stream",
     "text": [
      "8\n"
     ]
    }
   ],
   "source": [
    "# print (Diet_Behavior_and_Nutrition_df['DBQ700'].isnull().sum(axis = 0))\n",
    "# print (Diet_Behavior_and_Nutrition_df['DBQ197'].isnull().sum(axis = 0))\n",
    "# print (Diet_Behavior_and_Nutrition_df['DBD895'].isnull().sum(axis = 0))\n",
    "# print (Diet_Behavior_and_Nutrition_df['DBD900'].isnull().sum(axis = 0))\n",
    "# print (Diet_Behavior_and_Nutrition_df['DBD905'].isnull().sum(axis = 0))\n",
    "print (Diet_Behavior_and_Nutrition_df['DBD910'].isnull().sum(axis = 0))\n",
    "\n"
   ]
  },
  {
   "cell_type": "code",
   "execution_count": 134,
   "metadata": {},
   "outputs": [],
   "source": [
    "# DBQ700\n",
    "Diet_Behavior_and_Nutrition_df.loc[Diet_Behavior_and_Nutrition_df['DBQ700'] == 9, 'DBQ700'] = 3\n",
    "\n",
    "# DBQ197\n",
    "Diet_Behavior_and_Nutrition_df['DBQ197'].values[Diet_Behavior_and_Nutrition_df['DBQ197'].values < 1] = 0\n",
    "\n",
    "# DBD895\n",
    "Diet_Behavior_and_Nutrition_df['DBD895'].values[Diet_Behavior_and_Nutrition_df['DBD895'].values < 1] = 0\n",
    "Diet_Behavior_and_Nutrition_df.loc[Diet_Behavior_and_Nutrition_df['DBD895'] == 5555, 'DBD895'] = 22\n",
    "Diet_Behavior_and_Nutrition_df.loc[Diet_Behavior_and_Nutrition_df['DBD895'] == 9999, 'DBD895'] = 0\n",
    "\n",
    "# DBD900\n",
    "#Diet_Behavior_and_Nutrition_df = Diet_Behavior_and_Nutrition_df.drop('DBD900', axis = 1)\n",
    "\n",
    "# DBD905\n",
    "Diet_Behavior_and_Nutrition_df['DBD905'].values[Diet_Behavior_and_Nutrition_df['DBD905'].values < 1] = 0\n",
    "Diet_Behavior_and_Nutrition_df.loc[Diet_Behavior_and_Nutrition_df['DBD905'] == 6666, 'DBD905'] = 95\n",
    "Diet_Behavior_and_Nutrition_df.loc[Diet_Behavior_and_Nutrition_df['DBD905'] == 7777, 'DBD905'] = 0\n",
    "Diet_Behavior_and_Nutrition_df.loc[Diet_Behavior_and_Nutrition_df['DBD905'] == 9999, 'DBD905'] = 1\n",
    "Diet_Behavior_and_Nutrition_df['DBD905'].fillna(0, inplace=True)\n",
    "\n",
    "# DBD910\n",
    "Diet_Behavior_and_Nutrition_df['DBD910'].values[Diet_Behavior_and_Nutrition_df['DBD910'].values < 1] = 0\n",
    "Diet_Behavior_and_Nutrition_df.loc[Diet_Behavior_and_Nutrition_df['DBD910'] == 6666, 'DBD910'] = 95\n",
    "Diet_Behavior_and_Nutrition_df.loc[Diet_Behavior_and_Nutrition_df['DBD910'] == 7777, 'DBD910'] = 0\n",
    "Diet_Behavior_and_Nutrition_df.loc[Diet_Behavior_and_Nutrition_df['DBD910'] == 9999, 'DBD910'] = 1\n",
    "Diet_Behavior_and_Nutrition_df['DBD910'].fillna(0, inplace=True)\n"
   ]
  },
  {
   "cell_type": "code",
   "execution_count": 136,
   "metadata": {},
   "outputs": [],
   "source": [
    "# Diet_Behavior_and_Nutrition_df['DBQ700'].value_counts()\n",
    "# Diet_Behavior_and_Nutrition_df['DBQ197'].value_counts()\n",
    "# Diet_Behavior_and_Nutrition_df['DBD895'].value_counts()\n",
    "# Diet_Behavior_and_Nutrition_df['DBD900'].value_counts()\n",
    "# Diet_Behavior_and_Nutrition_df['DBD905'].value_counts()\n",
    "# Diet_Behavior_and_Nutrition_df['DBD910'].value_counts()"
   ]
  },
  {
   "cell_type": "code",
   "execution_count": 138,
   "metadata": {},
   "outputs": [
    {
     "data": {
      "text/html": [
       "<div>\n",
       "<style scoped>\n",
       "    .dataframe tbody tr th:only-of-type {\n",
       "        vertical-align: middle;\n",
       "    }\n",
       "\n",
       "    .dataframe tbody tr th {\n",
       "        vertical-align: top;\n",
       "    }\n",
       "\n",
       "    .dataframe thead th {\n",
       "        text-align: right;\n",
       "    }\n",
       "</style>\n",
       "<table border=\"1\" class=\"dataframe\">\n",
       "  <thead>\n",
       "    <tr style=\"text-align: right;\">\n",
       "      <th></th>\n",
       "      <th>SEQN</th>\n",
       "      <th>DBQ700</th>\n",
       "      <th>DBQ197</th>\n",
       "      <th>DBD895</th>\n",
       "      <th>DBD905</th>\n",
       "      <th>DBD910</th>\n",
       "      <th>Age</th>\n",
       "    </tr>\n",
       "  </thead>\n",
       "  <tbody>\n",
       "    <tr>\n",
       "      <th>0</th>\n",
       "      <td>83732.0</td>\n",
       "      <td>3.0</td>\n",
       "      <td>3.0</td>\n",
       "      <td>1.0</td>\n",
       "      <td>2.0</td>\n",
       "      <td>0.0</td>\n",
       "      <td>62.0</td>\n",
       "    </tr>\n",
       "    <tr>\n",
       "      <th>1</th>\n",
       "      <td>83733.0</td>\n",
       "      <td>1.0</td>\n",
       "      <td>0.0</td>\n",
       "      <td>0.0</td>\n",
       "      <td>0.0</td>\n",
       "      <td>0.0</td>\n",
       "      <td>53.0</td>\n",
       "    </tr>\n",
       "    <tr>\n",
       "      <th>2</th>\n",
       "      <td>83734.0</td>\n",
       "      <td>4.0</td>\n",
       "      <td>2.0</td>\n",
       "      <td>4.0</td>\n",
       "      <td>0.0</td>\n",
       "      <td>0.0</td>\n",
       "      <td>78.0</td>\n",
       "    </tr>\n",
       "    <tr>\n",
       "      <th>3</th>\n",
       "      <td>83735.0</td>\n",
       "      <td>4.0</td>\n",
       "      <td>0.0</td>\n",
       "      <td>3.0</td>\n",
       "      <td>11.0</td>\n",
       "      <td>15.0</td>\n",
       "      <td>56.0</td>\n",
       "    </tr>\n",
       "    <tr>\n",
       "      <th>4</th>\n",
       "      <td>83736.0</td>\n",
       "      <td>5.0</td>\n",
       "      <td>0.0</td>\n",
       "      <td>3.0</td>\n",
       "      <td>3.0</td>\n",
       "      <td>1.0</td>\n",
       "      <td>42.0</td>\n",
       "    </tr>\n",
       "  </tbody>\n",
       "</table>\n",
       "</div>"
      ],
      "text/plain": [
       "      SEQN  DBQ700  DBQ197  DBD895  DBD905  DBD910   Age\n",
       "0  83732.0     3.0     3.0     1.0     2.0     0.0  62.0\n",
       "1  83733.0     1.0     0.0     0.0     0.0     0.0  53.0\n",
       "2  83734.0     4.0     2.0     4.0     0.0     0.0  78.0\n",
       "3  83735.0     4.0     0.0     3.0    11.0    15.0  56.0\n",
       "4  83736.0     5.0     0.0     3.0     3.0     1.0  42.0"
      ]
     },
     "execution_count": 138,
     "metadata": {},
     "output_type": "execute_result"
    }
   ],
   "source": [
    "Diet_Behavior_and_Nutrition_df.head()"
   ]
  },
  {
   "cell_type": "code",
   "execution_count": 139,
   "metadata": {},
   "outputs": [],
   "source": [
    "# Dummies\n",
    "need_dummies = ['DBQ700', 'DBQ197']\n",
    "Diet_Behavior_and_Nutrition_df = pd.get_dummies(Diet_Behavior_and_Nutrition_df, columns = need_dummies, drop_first = True)\n"
   ]
  },
  {
   "cell_type": "code",
   "execution_count": 141,
   "metadata": {
    "scrolled": true
   },
   "outputs": [
    {
     "data": {
      "text/html": [
       "<div>\n",
       "<style scoped>\n",
       "    .dataframe tbody tr th:only-of-type {\n",
       "        vertical-align: middle;\n",
       "    }\n",
       "\n",
       "    .dataframe tbody tr th {\n",
       "        vertical-align: top;\n",
       "    }\n",
       "\n",
       "    .dataframe thead th {\n",
       "        text-align: right;\n",
       "    }\n",
       "</style>\n",
       "<table border=\"1\" class=\"dataframe\">\n",
       "  <thead>\n",
       "    <tr style=\"text-align: right;\">\n",
       "      <th></th>\n",
       "      <th>SEQN</th>\n",
       "      <th>DBD895</th>\n",
       "      <th>DBD905</th>\n",
       "      <th>DBD910</th>\n",
       "      <th>Age</th>\n",
       "      <th>DBQ700_2.0</th>\n",
       "      <th>DBQ700_3.0</th>\n",
       "      <th>DBQ700_4.0</th>\n",
       "      <th>DBQ700_5.0</th>\n",
       "      <th>DBQ197_1.0</th>\n",
       "      <th>DBQ197_2.0</th>\n",
       "      <th>DBQ197_3.0</th>\n",
       "      <th>DBQ197_4.0</th>\n",
       "    </tr>\n",
       "  </thead>\n",
       "  <tbody>\n",
       "    <tr>\n",
       "      <th>0</th>\n",
       "      <td>83732.0</td>\n",
       "      <td>1.0</td>\n",
       "      <td>2.0</td>\n",
       "      <td>0.0</td>\n",
       "      <td>62.0</td>\n",
       "      <td>0</td>\n",
       "      <td>1</td>\n",
       "      <td>0</td>\n",
       "      <td>0</td>\n",
       "      <td>0</td>\n",
       "      <td>0</td>\n",
       "      <td>1</td>\n",
       "      <td>0</td>\n",
       "    </tr>\n",
       "    <tr>\n",
       "      <th>1</th>\n",
       "      <td>83733.0</td>\n",
       "      <td>0.0</td>\n",
       "      <td>0.0</td>\n",
       "      <td>0.0</td>\n",
       "      <td>53.0</td>\n",
       "      <td>0</td>\n",
       "      <td>0</td>\n",
       "      <td>0</td>\n",
       "      <td>0</td>\n",
       "      <td>0</td>\n",
       "      <td>0</td>\n",
       "      <td>0</td>\n",
       "      <td>0</td>\n",
       "    </tr>\n",
       "    <tr>\n",
       "      <th>2</th>\n",
       "      <td>83734.0</td>\n",
       "      <td>4.0</td>\n",
       "      <td>0.0</td>\n",
       "      <td>0.0</td>\n",
       "      <td>78.0</td>\n",
       "      <td>0</td>\n",
       "      <td>0</td>\n",
       "      <td>1</td>\n",
       "      <td>0</td>\n",
       "      <td>0</td>\n",
       "      <td>1</td>\n",
       "      <td>0</td>\n",
       "      <td>0</td>\n",
       "    </tr>\n",
       "    <tr>\n",
       "      <th>3</th>\n",
       "      <td>83735.0</td>\n",
       "      <td>3.0</td>\n",
       "      <td>11.0</td>\n",
       "      <td>15.0</td>\n",
       "      <td>56.0</td>\n",
       "      <td>0</td>\n",
       "      <td>0</td>\n",
       "      <td>1</td>\n",
       "      <td>0</td>\n",
       "      <td>0</td>\n",
       "      <td>0</td>\n",
       "      <td>0</td>\n",
       "      <td>0</td>\n",
       "    </tr>\n",
       "    <tr>\n",
       "      <th>4</th>\n",
       "      <td>83736.0</td>\n",
       "      <td>3.0</td>\n",
       "      <td>3.0</td>\n",
       "      <td>1.0</td>\n",
       "      <td>42.0</td>\n",
       "      <td>0</td>\n",
       "      <td>0</td>\n",
       "      <td>0</td>\n",
       "      <td>1</td>\n",
       "      <td>0</td>\n",
       "      <td>0</td>\n",
       "      <td>0</td>\n",
       "      <td>0</td>\n",
       "    </tr>\n",
       "  </tbody>\n",
       "</table>\n",
       "</div>"
      ],
      "text/plain": [
       "      SEQN  DBD895  DBD905  DBD910   Age  DBQ700_2.0  DBQ700_3.0  DBQ700_4.0  \\\n",
       "0  83732.0     1.0     2.0     0.0  62.0           0           1           0   \n",
       "1  83733.0     0.0     0.0     0.0  53.0           0           0           0   \n",
       "2  83734.0     4.0     0.0     0.0  78.0           0           0           1   \n",
       "3  83735.0     3.0    11.0    15.0  56.0           0           0           1   \n",
       "4  83736.0     3.0     3.0     1.0  42.0           0           0           0   \n",
       "\n",
       "   DBQ700_5.0  DBQ197_1.0  DBQ197_2.0  DBQ197_3.0  DBQ197_4.0  \n",
       "0           0           0           0           1           0  \n",
       "1           0           0           0           0           0  \n",
       "2           0           0           1           0           0  \n",
       "3           0           0           0           0           0  \n",
       "4           1           0           0           0           0  "
      ]
     },
     "execution_count": 141,
     "metadata": {},
     "output_type": "execute_result"
    }
   ],
   "source": [
    "Diet_Behavior_and_Nutrition_df.head()"
   ]
  },
  {
   "cell_type": "code",
   "execution_count": 142,
   "metadata": {},
   "outputs": [],
   "source": [
    "Final_Diet_Behavior_and_Nutrition_df = Diet_Behavior_and_Nutrition_df.drop('Age', axis = 1)"
   ]
  },
  {
   "cell_type": "code",
   "execution_count": 144,
   "metadata": {},
   "outputs": [],
   "source": [
    "Final_Diet_Behavior_and_Nutrition_df.to_csv('Cleaned_Diet_Behavior.csv')"
   ]
  },
  {
   "cell_type": "code",
   "execution_count": null,
   "metadata": {},
   "outputs": [],
   "source": []
  },
  {
   "cell_type": "markdown",
   "metadata": {},
   "source": [
    "<div class=\"alert alert-block alert-success\">\n",
    "\n",
    "# 6. Disabilities\n",
    "   * Ages 1+\n",
    "   * DLQ050 - Have serious difficulty walking?\n",
    "       * 1 = Yes\n",
    "       * 2 = No\n",
    "       * 9 = Don't know\n",
    "       * Game Plan:\n",
    "           * 9 -> 0\n",
    "           * 2 -> 0\n",
    "           * Get dummies\n",
    "   * Most of the data is depression related with 3600+ missing values "
   ]
  },
  {
   "cell_type": "code",
   "execution_count": 145,
   "metadata": {
    "scrolled": true
   },
   "outputs": [
    {
     "name": "stdout",
     "output_type": "stream",
     "text": [
      "Disabilities Shape: (9575, 2)\n"
     ]
    },
    {
     "data": {
      "text/html": [
       "<div>\n",
       "<style scoped>\n",
       "    .dataframe tbody tr th:only-of-type {\n",
       "        vertical-align: middle;\n",
       "    }\n",
       "\n",
       "    .dataframe tbody tr th {\n",
       "        vertical-align: top;\n",
       "    }\n",
       "\n",
       "    .dataframe thead th {\n",
       "        text-align: right;\n",
       "    }\n",
       "</style>\n",
       "<table border=\"1\" class=\"dataframe\">\n",
       "  <thead>\n",
       "    <tr style=\"text-align: right;\">\n",
       "      <th></th>\n",
       "      <th>SEQN</th>\n",
       "      <th>DLQ050</th>\n",
       "    </tr>\n",
       "  </thead>\n",
       "  <tbody>\n",
       "    <tr>\n",
       "      <th>0</th>\n",
       "      <td>83732.0</td>\n",
       "      <td>2.0</td>\n",
       "    </tr>\n",
       "    <tr>\n",
       "      <th>1</th>\n",
       "      <td>83733.0</td>\n",
       "      <td>2.0</td>\n",
       "    </tr>\n",
       "    <tr>\n",
       "      <th>2</th>\n",
       "      <td>83734.0</td>\n",
       "      <td>2.0</td>\n",
       "    </tr>\n",
       "    <tr>\n",
       "      <th>3</th>\n",
       "      <td>83735.0</td>\n",
       "      <td>2.0</td>\n",
       "    </tr>\n",
       "    <tr>\n",
       "      <th>4</th>\n",
       "      <td>83736.0</td>\n",
       "      <td>1.0</td>\n",
       "    </tr>\n",
       "  </tbody>\n",
       "</table>\n",
       "</div>"
      ],
      "text/plain": [
       "      SEQN  DLQ050\n",
       "0  83732.0     2.0\n",
       "1  83733.0     2.0\n",
       "2  83734.0     2.0\n",
       "3  83735.0     2.0\n",
       "4  83736.0     1.0"
      ]
     },
     "execution_count": 145,
     "metadata": {},
     "output_type": "execute_result"
    }
   ],
   "source": [
    "disabilities_columns = ['SEQN', 'DLQ050']\n",
    "Disabilities_df = Preprocess_Q_Disabilities_df[disabilities_columns]\n",
    "print ('Disabilities Shape: ' + str(Disabilities_df.shape))\n",
    "Disabilities_df.head()"
   ]
  },
  {
   "cell_type": "code",
   "execution_count": 146,
   "metadata": {},
   "outputs": [
    {
     "name": "stdout",
     "output_type": "stream",
     "text": [
      "Disabilities Shape: (5992, 3)\n"
     ]
    },
    {
     "data": {
      "text/html": [
       "<div>\n",
       "<style scoped>\n",
       "    .dataframe tbody tr th:only-of-type {\n",
       "        vertical-align: middle;\n",
       "    }\n",
       "\n",
       "    .dataframe tbody tr th {\n",
       "        vertical-align: top;\n",
       "    }\n",
       "\n",
       "    .dataframe thead th {\n",
       "        text-align: right;\n",
       "    }\n",
       "</style>\n",
       "<table border=\"1\" class=\"dataframe\">\n",
       "  <thead>\n",
       "    <tr style=\"text-align: right;\">\n",
       "      <th></th>\n",
       "      <th>SEQN</th>\n",
       "      <th>DLQ050</th>\n",
       "      <th>Age</th>\n",
       "    </tr>\n",
       "  </thead>\n",
       "  <tbody>\n",
       "    <tr>\n",
       "      <th>0</th>\n",
       "      <td>83732.0</td>\n",
       "      <td>2.0</td>\n",
       "      <td>62.0</td>\n",
       "    </tr>\n",
       "    <tr>\n",
       "      <th>1</th>\n",
       "      <td>83733.0</td>\n",
       "      <td>2.0</td>\n",
       "      <td>53.0</td>\n",
       "    </tr>\n",
       "    <tr>\n",
       "      <th>2</th>\n",
       "      <td>83734.0</td>\n",
       "      <td>2.0</td>\n",
       "      <td>78.0</td>\n",
       "    </tr>\n",
       "    <tr>\n",
       "      <th>3</th>\n",
       "      <td>83735.0</td>\n",
       "      <td>2.0</td>\n",
       "      <td>56.0</td>\n",
       "    </tr>\n",
       "    <tr>\n",
       "      <th>4</th>\n",
       "      <td>83736.0</td>\n",
       "      <td>1.0</td>\n",
       "      <td>42.0</td>\n",
       "    </tr>\n",
       "  </tbody>\n",
       "</table>\n",
       "</div>"
      ],
      "text/plain": [
       "      SEQN  DLQ050   Age\n",
       "0  83732.0     2.0  62.0\n",
       "1  83733.0     2.0  53.0\n",
       "2  83734.0     2.0  78.0\n",
       "3  83735.0     2.0  56.0\n",
       "4  83736.0     1.0  42.0"
      ]
     },
     "execution_count": 146,
     "metadata": {},
     "output_type": "execute_result"
    }
   ],
   "source": [
    "Disabilities_df = pd.merge(Disabilities_df, age_df, on=\"SEQN\")\n",
    "Disabilities_df = Disabilities_df.drop(Disabilities_df[Disabilities_df.Age < 18].index)\n",
    "print ('Disabilities Shape: ' + str(Disabilities_df.shape))\n",
    "Disabilities_df.head()\n"
   ]
  },
  {
   "cell_type": "code",
   "execution_count": 147,
   "metadata": {
    "scrolled": true
   },
   "outputs": [
    {
     "name": "stdout",
     "output_type": "stream",
     "text": [
      "0\n"
     ]
    }
   ],
   "source": [
    "print (Disabilities_df['DLQ050'].isnull().sum(axis = 0))"
   ]
  },
  {
   "cell_type": "code",
   "execution_count": 150,
   "metadata": {},
   "outputs": [
    {
     "data": {
      "text/plain": [
       "0.0    5110\n",
       "1.0     882\n",
       "Name: DLQ050, dtype: int64"
      ]
     },
     "execution_count": 150,
     "metadata": {},
     "output_type": "execute_result"
    }
   ],
   "source": [
    "Disabilities_df['DLQ050'].value_counts()"
   ]
  },
  {
   "cell_type": "code",
   "execution_count": 149,
   "metadata": {},
   "outputs": [],
   "source": [
    "Disabilities_df.loc[Disabilities_df['DLQ050'] == 2, 'DLQ050'] = 0\n",
    "Disabilities_df.loc[Disabilities_df['DLQ050'] == 9, 'DLQ050'] = 0\n"
   ]
  },
  {
   "cell_type": "code",
   "execution_count": 151,
   "metadata": {},
   "outputs": [],
   "source": [
    "# Dummies\n",
    "need_dummies = ['DLQ050']\n",
    "Disabilities_df = pd.get_dummies(Disabilities_df, columns = need_dummies, drop_first = True)\n"
   ]
  },
  {
   "cell_type": "code",
   "execution_count": 152,
   "metadata": {
    "scrolled": true
   },
   "outputs": [
    {
     "data": {
      "text/html": [
       "<div>\n",
       "<style scoped>\n",
       "    .dataframe tbody tr th:only-of-type {\n",
       "        vertical-align: middle;\n",
       "    }\n",
       "\n",
       "    .dataframe tbody tr th {\n",
       "        vertical-align: top;\n",
       "    }\n",
       "\n",
       "    .dataframe thead th {\n",
       "        text-align: right;\n",
       "    }\n",
       "</style>\n",
       "<table border=\"1\" class=\"dataframe\">\n",
       "  <thead>\n",
       "    <tr style=\"text-align: right;\">\n",
       "      <th></th>\n",
       "      <th>SEQN</th>\n",
       "      <th>Age</th>\n",
       "      <th>DLQ050_1.0</th>\n",
       "    </tr>\n",
       "  </thead>\n",
       "  <tbody>\n",
       "    <tr>\n",
       "      <th>0</th>\n",
       "      <td>83732.0</td>\n",
       "      <td>62.0</td>\n",
       "      <td>0</td>\n",
       "    </tr>\n",
       "    <tr>\n",
       "      <th>1</th>\n",
       "      <td>83733.0</td>\n",
       "      <td>53.0</td>\n",
       "      <td>0</td>\n",
       "    </tr>\n",
       "    <tr>\n",
       "      <th>2</th>\n",
       "      <td>83734.0</td>\n",
       "      <td>78.0</td>\n",
       "      <td>0</td>\n",
       "    </tr>\n",
       "    <tr>\n",
       "      <th>3</th>\n",
       "      <td>83735.0</td>\n",
       "      <td>56.0</td>\n",
       "      <td>0</td>\n",
       "    </tr>\n",
       "    <tr>\n",
       "      <th>4</th>\n",
       "      <td>83736.0</td>\n",
       "      <td>42.0</td>\n",
       "      <td>1</td>\n",
       "    </tr>\n",
       "  </tbody>\n",
       "</table>\n",
       "</div>"
      ],
      "text/plain": [
       "      SEQN   Age  DLQ050_1.0\n",
       "0  83732.0  62.0           0\n",
       "1  83733.0  53.0           0\n",
       "2  83734.0  78.0           0\n",
       "3  83735.0  56.0           0\n",
       "4  83736.0  42.0           1"
      ]
     },
     "execution_count": 152,
     "metadata": {},
     "output_type": "execute_result"
    }
   ],
   "source": [
    "Disabilities_df.head()"
   ]
  },
  {
   "cell_type": "code",
   "execution_count": 153,
   "metadata": {},
   "outputs": [],
   "source": [
    "Final_Disabilities_df = Disabilities_df.drop('Age', axis = 1)"
   ]
  },
  {
   "cell_type": "code",
   "execution_count": 155,
   "metadata": {},
   "outputs": [],
   "source": [
    "Final_Disabilities_df.to_csv('Cleaned_Disabilities.csv')"
   ]
  },
  {
   "cell_type": "code",
   "execution_count": null,
   "metadata": {},
   "outputs": [],
   "source": []
  },
  {
   "cell_type": "code",
   "execution_count": null,
   "metadata": {},
   "outputs": [],
   "source": []
  },
  {
   "cell_type": "code",
   "execution_count": null,
   "metadata": {},
   "outputs": [],
   "source": []
  },
  {
   "cell_type": "markdown",
   "metadata": {},
   "source": [
    "<div class=\"alert alert-block alert-success\">\n",
    "\n",
    "# 7. Health Insurance\n",
    "   * HIQ011 - Covered by health insurance\n",
    "       * 1 = Yes\n",
    "       * 2 = No\n",
    "       * 7 = Refuse\n",
    "       * 9 = Don't know\n",
    "       * Game Plan:\n",
    "           * 2, 7, 9 -> 0\n",
    "           * Dummies"
   ]
  },
  {
   "cell_type": "code",
   "execution_count": 95,
   "metadata": {
    "scrolled": true
   },
   "outputs": [
    {
     "name": "stdout",
     "output_type": "stream",
     "text": [
      "Health Insurance Shape: (9971, 2)\n"
     ]
    },
    {
     "data": {
      "text/html": [
       "<div>\n",
       "<style scoped>\n",
       "    .dataframe tbody tr th:only-of-type {\n",
       "        vertical-align: middle;\n",
       "    }\n",
       "\n",
       "    .dataframe tbody tr th {\n",
       "        vertical-align: top;\n",
       "    }\n",
       "\n",
       "    .dataframe thead th {\n",
       "        text-align: right;\n",
       "    }\n",
       "</style>\n",
       "<table border=\"1\" class=\"dataframe\">\n",
       "  <thead>\n",
       "    <tr style=\"text-align: right;\">\n",
       "      <th></th>\n",
       "      <th>SEQN</th>\n",
       "      <th>HIQ011</th>\n",
       "    </tr>\n",
       "  </thead>\n",
       "  <tbody>\n",
       "    <tr>\n",
       "      <th>0</th>\n",
       "      <td>83732.0</td>\n",
       "      <td>1.0</td>\n",
       "    </tr>\n",
       "    <tr>\n",
       "      <th>1</th>\n",
       "      <td>83733.0</td>\n",
       "      <td>2.0</td>\n",
       "    </tr>\n",
       "    <tr>\n",
       "      <th>2</th>\n",
       "      <td>83734.0</td>\n",
       "      <td>1.0</td>\n",
       "    </tr>\n",
       "    <tr>\n",
       "      <th>3</th>\n",
       "      <td>83735.0</td>\n",
       "      <td>1.0</td>\n",
       "    </tr>\n",
       "    <tr>\n",
       "      <th>4</th>\n",
       "      <td>83736.0</td>\n",
       "      <td>1.0</td>\n",
       "    </tr>\n",
       "  </tbody>\n",
       "</table>\n",
       "</div>"
      ],
      "text/plain": [
       "      SEQN  HIQ011\n",
       "0  83732.0     1.0\n",
       "1  83733.0     2.0\n",
       "2  83734.0     1.0\n",
       "3  83735.0     1.0\n",
       "4  83736.0     1.0"
      ]
     },
     "execution_count": 95,
     "metadata": {},
     "output_type": "execute_result"
    }
   ],
   "source": [
    "health_insurance_columns = ['SEQN', 'HIQ011']\n",
    "Health_Insurance_df = Preprocess_Q_Health_Insurance_df[health_insurance_columns]\n",
    "print ('Health Insurance Shape: ' + str(Health_Insurance_df.shape))\n",
    "Health_Insurance_df.head()"
   ]
  },
  {
   "cell_type": "code",
   "execution_count": 156,
   "metadata": {},
   "outputs": [
    {
     "name": "stdout",
     "output_type": "stream",
     "text": [
      "Health Insurcance Shape: (5992, 3)\n"
     ]
    },
    {
     "data": {
      "text/html": [
       "<div>\n",
       "<style scoped>\n",
       "    .dataframe tbody tr th:only-of-type {\n",
       "        vertical-align: middle;\n",
       "    }\n",
       "\n",
       "    .dataframe tbody tr th {\n",
       "        vertical-align: top;\n",
       "    }\n",
       "\n",
       "    .dataframe thead th {\n",
       "        text-align: right;\n",
       "    }\n",
       "</style>\n",
       "<table border=\"1\" class=\"dataframe\">\n",
       "  <thead>\n",
       "    <tr style=\"text-align: right;\">\n",
       "      <th></th>\n",
       "      <th>SEQN</th>\n",
       "      <th>HIQ011</th>\n",
       "      <th>Age</th>\n",
       "    </tr>\n",
       "  </thead>\n",
       "  <tbody>\n",
       "    <tr>\n",
       "      <th>0</th>\n",
       "      <td>83732.0</td>\n",
       "      <td>1.0</td>\n",
       "      <td>62.0</td>\n",
       "    </tr>\n",
       "    <tr>\n",
       "      <th>1</th>\n",
       "      <td>83733.0</td>\n",
       "      <td>2.0</td>\n",
       "      <td>53.0</td>\n",
       "    </tr>\n",
       "    <tr>\n",
       "      <th>2</th>\n",
       "      <td>83734.0</td>\n",
       "      <td>1.0</td>\n",
       "      <td>78.0</td>\n",
       "    </tr>\n",
       "    <tr>\n",
       "      <th>3</th>\n",
       "      <td>83735.0</td>\n",
       "      <td>1.0</td>\n",
       "      <td>56.0</td>\n",
       "    </tr>\n",
       "    <tr>\n",
       "      <th>4</th>\n",
       "      <td>83736.0</td>\n",
       "      <td>1.0</td>\n",
       "      <td>42.0</td>\n",
       "    </tr>\n",
       "  </tbody>\n",
       "</table>\n",
       "</div>"
      ],
      "text/plain": [
       "      SEQN  HIQ011   Age\n",
       "0  83732.0     1.0  62.0\n",
       "1  83733.0     2.0  53.0\n",
       "2  83734.0     1.0  78.0\n",
       "3  83735.0     1.0  56.0\n",
       "4  83736.0     1.0  42.0"
      ]
     },
     "execution_count": 156,
     "metadata": {},
     "output_type": "execute_result"
    }
   ],
   "source": [
    "Health_Insurance_df = pd.merge(Health_Insurance_df, age_df, on=\"SEQN\")\n",
    "Health_Insurance_df = Health_Insurance_df.drop(Health_Insurance_df[Health_Insurance_df.Age < 18].index)\n",
    "print ('Health Insurcance Shape: ' + str(Health_Insurance_df.shape))\n",
    "Health_Insurance_df.head()"
   ]
  },
  {
   "cell_type": "code",
   "execution_count": 157,
   "metadata": {},
   "outputs": [
    {
     "name": "stdout",
     "output_type": "stream",
     "text": [
      "0\n"
     ]
    }
   ],
   "source": [
    "print (Health_Insurance_df['HIQ011'].isnull().sum(axis = 0))"
   ]
  },
  {
   "cell_type": "code",
   "execution_count": 160,
   "metadata": {},
   "outputs": [
    {
     "data": {
      "text/plain": [
       "1.0    4935\n",
       "0.0    1057\n",
       "Name: HIQ011, dtype: int64"
      ]
     },
     "execution_count": 160,
     "metadata": {},
     "output_type": "execute_result"
    }
   ],
   "source": [
    "Health_Insurance_df['HIQ011'].value_counts()"
   ]
  },
  {
   "cell_type": "code",
   "execution_count": 159,
   "metadata": {},
   "outputs": [],
   "source": [
    "Health_Insurance_df.loc[Health_Insurance_df['HIQ011'] == 2, 'HIQ011'] = 0\n",
    "Health_Insurance_df.loc[Health_Insurance_df['HIQ011'] == 7, 'HIQ011'] = 0\n",
    "Health_Insurance_df.loc[Health_Insurance_df['HIQ011'] == 9, 'HIQ011'] = 0\n"
   ]
  },
  {
   "cell_type": "code",
   "execution_count": 161,
   "metadata": {},
   "outputs": [],
   "source": [
    "# Dummies\n",
    "\n",
    "need_dummies = ['HIQ011']\n",
    "Health_Insurance_df = pd.get_dummies(Health_Insurance_df, columns = need_dummies, drop_first = True)"
   ]
  },
  {
   "cell_type": "code",
   "execution_count": 163,
   "metadata": {},
   "outputs": [],
   "source": [
    "Final_Health_Insurance_df = Health_Insurance_df.drop('Age', axis = 1)"
   ]
  },
  {
   "cell_type": "code",
   "execution_count": 165,
   "metadata": {},
   "outputs": [],
   "source": [
    "Final_Health_Insurance_df.to_csv('Cleaned_Health_Insurance.csv')"
   ]
  },
  {
   "cell_type": "markdown",
   "metadata": {},
   "source": [
    "<div class=\"alert alert-block alert-success\">\n",
    "\n",
    "# 8. Access to Care\n",
    "   * HUQ020 - Health now compared with 1 year ago\n",
    "       * Categorical\n",
    "       * 1 = Better\n",
    "       * 2 = Worse\n",
    "       * 3 = About the same\n",
    "       * 9 = Don't know\n",
    "       * Game plan:\n",
    "           * 9 -> 3 (mode, didn't change)\n",
    "           * Get Dummies\n",
    "   * HUQ051 - #times receive healthcare over past year\n",
    "       * Categorical: 0-8\n",
    "       * Game Plan:\n",
    "           * less than 1 -> 0\n",
    "           * 77, 99 -> 2 (mode)\n",
    "       "
   ]
  },
  {
   "cell_type": "code",
   "execution_count": 96,
   "metadata": {},
   "outputs": [
    {
     "name": "stdout",
     "output_type": "stream",
     "text": [
      "Access to Health Care Shape: (9971, 3)\n"
     ]
    },
    {
     "data": {
      "text/html": [
       "<div>\n",
       "<style scoped>\n",
       "    .dataframe tbody tr th:only-of-type {\n",
       "        vertical-align: middle;\n",
       "    }\n",
       "\n",
       "    .dataframe tbody tr th {\n",
       "        vertical-align: top;\n",
       "    }\n",
       "\n",
       "    .dataframe thead th {\n",
       "        text-align: right;\n",
       "    }\n",
       "</style>\n",
       "<table border=\"1\" class=\"dataframe\">\n",
       "  <thead>\n",
       "    <tr style=\"text-align: right;\">\n",
       "      <th></th>\n",
       "      <th>SEQN</th>\n",
       "      <th>HUQ020</th>\n",
       "      <th>HUQ051</th>\n",
       "    </tr>\n",
       "  </thead>\n",
       "  <tbody>\n",
       "    <tr>\n",
       "      <th>0</th>\n",
       "      <td>83732.0</td>\n",
       "      <td>2.0</td>\n",
       "      <td>5.000000e+00</td>\n",
       "    </tr>\n",
       "    <tr>\n",
       "      <th>1</th>\n",
       "      <td>83733.0</td>\n",
       "      <td>3.0</td>\n",
       "      <td>5.397605e-79</td>\n",
       "    </tr>\n",
       "    <tr>\n",
       "      <th>2</th>\n",
       "      <td>83734.0</td>\n",
       "      <td>3.0</td>\n",
       "      <td>2.000000e+00</td>\n",
       "    </tr>\n",
       "    <tr>\n",
       "      <th>3</th>\n",
       "      <td>83735.0</td>\n",
       "      <td>3.0</td>\n",
       "      <td>4.000000e+00</td>\n",
       "    </tr>\n",
       "    <tr>\n",
       "      <th>4</th>\n",
       "      <td>83736.0</td>\n",
       "      <td>2.0</td>\n",
       "      <td>2.000000e+00</td>\n",
       "    </tr>\n",
       "  </tbody>\n",
       "</table>\n",
       "</div>"
      ],
      "text/plain": [
       "      SEQN  HUQ020        HUQ051\n",
       "0  83732.0     2.0  5.000000e+00\n",
       "1  83733.0     3.0  5.397605e-79\n",
       "2  83734.0     3.0  2.000000e+00\n",
       "3  83735.0     3.0  4.000000e+00\n",
       "4  83736.0     2.0  2.000000e+00"
      ]
     },
     "execution_count": 96,
     "metadata": {},
     "output_type": "execute_result"
    }
   ],
   "source": [
    "access_to_care_columns = ['SEQN', 'HUQ020', 'HUQ051']\n",
    "Access_to_Care_df = Preprocess_Q_Access_to_Care_df[access_to_care_columns]\n",
    "print ('Access to Health Care Shape: ' + str(Access_to_Care_df.shape))\n",
    "Access_to_Care_df.head()"
   ]
  },
  {
   "cell_type": "code",
   "execution_count": 166,
   "metadata": {},
   "outputs": [
    {
     "name": "stdout",
     "output_type": "stream",
     "text": [
      "Access to Health Care Shape: (5992, 4)\n"
     ]
    },
    {
     "data": {
      "text/html": [
       "<div>\n",
       "<style scoped>\n",
       "    .dataframe tbody tr th:only-of-type {\n",
       "        vertical-align: middle;\n",
       "    }\n",
       "\n",
       "    .dataframe tbody tr th {\n",
       "        vertical-align: top;\n",
       "    }\n",
       "\n",
       "    .dataframe thead th {\n",
       "        text-align: right;\n",
       "    }\n",
       "</style>\n",
       "<table border=\"1\" class=\"dataframe\">\n",
       "  <thead>\n",
       "    <tr style=\"text-align: right;\">\n",
       "      <th></th>\n",
       "      <th>SEQN</th>\n",
       "      <th>HUQ020</th>\n",
       "      <th>HUQ051</th>\n",
       "      <th>Age</th>\n",
       "    </tr>\n",
       "  </thead>\n",
       "  <tbody>\n",
       "    <tr>\n",
       "      <th>0</th>\n",
       "      <td>83732.0</td>\n",
       "      <td>2.0</td>\n",
       "      <td>5.000000e+00</td>\n",
       "      <td>62.0</td>\n",
       "    </tr>\n",
       "    <tr>\n",
       "      <th>1</th>\n",
       "      <td>83733.0</td>\n",
       "      <td>3.0</td>\n",
       "      <td>5.397605e-79</td>\n",
       "      <td>53.0</td>\n",
       "    </tr>\n",
       "    <tr>\n",
       "      <th>2</th>\n",
       "      <td>83734.0</td>\n",
       "      <td>3.0</td>\n",
       "      <td>2.000000e+00</td>\n",
       "      <td>78.0</td>\n",
       "    </tr>\n",
       "    <tr>\n",
       "      <th>3</th>\n",
       "      <td>83735.0</td>\n",
       "      <td>3.0</td>\n",
       "      <td>4.000000e+00</td>\n",
       "      <td>56.0</td>\n",
       "    </tr>\n",
       "    <tr>\n",
       "      <th>4</th>\n",
       "      <td>83736.0</td>\n",
       "      <td>2.0</td>\n",
       "      <td>2.000000e+00</td>\n",
       "      <td>42.0</td>\n",
       "    </tr>\n",
       "  </tbody>\n",
       "</table>\n",
       "</div>"
      ],
      "text/plain": [
       "      SEQN  HUQ020        HUQ051   Age\n",
       "0  83732.0     2.0  5.000000e+00  62.0\n",
       "1  83733.0     3.0  5.397605e-79  53.0\n",
       "2  83734.0     3.0  2.000000e+00  78.0\n",
       "3  83735.0     3.0  4.000000e+00  56.0\n",
       "4  83736.0     2.0  2.000000e+00  42.0"
      ]
     },
     "execution_count": 166,
     "metadata": {},
     "output_type": "execute_result"
    }
   ],
   "source": [
    "Access_to_Care_df = pd.merge(Access_to_Care_df, age_df, on=\"SEQN\")\n",
    "Access_to_Care_df = Access_to_Care_df.drop(Access_to_Care_df[Access_to_Care_df.Age < 18].index)\n",
    "print ('Access to Health Care Shape: ' + str(Access_to_Care_df.shape))\n",
    "Access_to_Care_df.head()"
   ]
  },
  {
   "cell_type": "code",
   "execution_count": 167,
   "metadata": {},
   "outputs": [
    {
     "name": "stdout",
     "output_type": "stream",
     "text": [
      "0\n",
      "0\n"
     ]
    }
   ],
   "source": [
    "print (Access_to_Care_df['HUQ020'].isnull().sum(axis = 0))\n",
    "print (Access_to_Care_df['HUQ051'].isnull().sum(axis = 0))"
   ]
  },
  {
   "cell_type": "code",
   "execution_count": 182,
   "metadata": {},
   "outputs": [
    {
     "data": {
      "text/plain": [
       "2.0    1757\n",
       "0.0    1058\n",
       "1.0    1045\n",
       "3.0     883\n",
       "4.0     407\n",
       "6.0     303\n",
       "8.0     256\n",
       "5.0     182\n",
       "7.0     101\n",
       "Name: HUQ051, dtype: int64"
      ]
     },
     "execution_count": 182,
     "metadata": {},
     "output_type": "execute_result"
    }
   ],
   "source": [
    "# Access_to_Care_df['HUQ020'].value_counts()\n",
    "Access_to_Care_df['HUQ051'].value_counts()"
   ]
  },
  {
   "cell_type": "code",
   "execution_count": 180,
   "metadata": {},
   "outputs": [],
   "source": [
    "# Game Plan\n",
    "\n",
    "# HUQ020\n",
    "Access_to_Care_df.loc[Access_to_Care_df['HUQ020'] == 9, 'HUQ020'] = 3\n",
    "\n",
    "# HUQ051\n",
    "Access_to_Care_df.loc[Access_to_Care_df['HUQ051'] == 77, 'HUQ051'] = 2\n",
    "Access_to_Care_df.loc[Access_to_Care_df['HUQ051'] == 99, 'HUQ051'] = 2\n",
    "Access_to_Care_df['HUQ051'].values[Access_to_Care_df['HUQ051'].values < 1] = 0"
   ]
  },
  {
   "cell_type": "code",
   "execution_count": 181,
   "metadata": {},
   "outputs": [
    {
     "data": {
      "text/html": [
       "<div>\n",
       "<style scoped>\n",
       "    .dataframe tbody tr th:only-of-type {\n",
       "        vertical-align: middle;\n",
       "    }\n",
       "\n",
       "    .dataframe tbody tr th {\n",
       "        vertical-align: top;\n",
       "    }\n",
       "\n",
       "    .dataframe thead th {\n",
       "        text-align: right;\n",
       "    }\n",
       "</style>\n",
       "<table border=\"1\" class=\"dataframe\">\n",
       "  <thead>\n",
       "    <tr style=\"text-align: right;\">\n",
       "      <th></th>\n",
       "      <th>SEQN</th>\n",
       "      <th>HUQ020</th>\n",
       "      <th>HUQ051</th>\n",
       "      <th>Age</th>\n",
       "    </tr>\n",
       "  </thead>\n",
       "  <tbody>\n",
       "    <tr>\n",
       "      <th>0</th>\n",
       "      <td>83732.0</td>\n",
       "      <td>2.0</td>\n",
       "      <td>5.0</td>\n",
       "      <td>62.0</td>\n",
       "    </tr>\n",
       "    <tr>\n",
       "      <th>1</th>\n",
       "      <td>83733.0</td>\n",
       "      <td>3.0</td>\n",
       "      <td>0.0</td>\n",
       "      <td>53.0</td>\n",
       "    </tr>\n",
       "    <tr>\n",
       "      <th>2</th>\n",
       "      <td>83734.0</td>\n",
       "      <td>3.0</td>\n",
       "      <td>2.0</td>\n",
       "      <td>78.0</td>\n",
       "    </tr>\n",
       "    <tr>\n",
       "      <th>3</th>\n",
       "      <td>83735.0</td>\n",
       "      <td>3.0</td>\n",
       "      <td>4.0</td>\n",
       "      <td>56.0</td>\n",
       "    </tr>\n",
       "    <tr>\n",
       "      <th>4</th>\n",
       "      <td>83736.0</td>\n",
       "      <td>2.0</td>\n",
       "      <td>2.0</td>\n",
       "      <td>42.0</td>\n",
       "    </tr>\n",
       "  </tbody>\n",
       "</table>\n",
       "</div>"
      ],
      "text/plain": [
       "      SEQN  HUQ020  HUQ051   Age\n",
       "0  83732.0     2.0     5.0  62.0\n",
       "1  83733.0     3.0     0.0  53.0\n",
       "2  83734.0     3.0     2.0  78.0\n",
       "3  83735.0     3.0     4.0  56.0\n",
       "4  83736.0     2.0     2.0  42.0"
      ]
     },
     "execution_count": 181,
     "metadata": {},
     "output_type": "execute_result"
    }
   ],
   "source": [
    "Access_to_Care_df.head()"
   ]
  },
  {
   "cell_type": "code",
   "execution_count": 183,
   "metadata": {},
   "outputs": [],
   "source": [
    "Access_to_Care_df = Access_to_Care_df.drop('Age', axis = 1)"
   ]
  },
  {
   "cell_type": "code",
   "execution_count": 184,
   "metadata": {},
   "outputs": [],
   "source": [
    "# Dummies\n",
    "\n",
    "need_dummies = ['HUQ020', 'HUQ051']\n",
    "Access_to_Care_df = pd.get_dummies(Access_to_Care_df, columns = need_dummies, drop_first = True)"
   ]
  },
  {
   "cell_type": "code",
   "execution_count": 186,
   "metadata": {},
   "outputs": [],
   "source": [
    "Final_Access_to_Care_df = Access_to_Care_df"
   ]
  },
  {
   "cell_type": "code",
   "execution_count": 187,
   "metadata": {},
   "outputs": [],
   "source": [
    "Final_Access_to_Care_df.to_csv('Cleaned_Access_to_Care.csv')"
   ]
  },
  {
   "cell_type": "code",
   "execution_count": null,
   "metadata": {},
   "outputs": [],
   "source": []
  },
  {
   "cell_type": "markdown",
   "metadata": {},
   "source": [
    "<div class=\"alert alert-block alert-danger\">\n",
    "\n",
    "# 9. Housing Characteristics\n",
    "\n",
    "   * HOQ065 - Home owned, bought, rented, other\n",
    "       * Missing 329\n",
    "       * 1 = Own\n",
    "       * 2 = Rent\n",
    "       * 3 = Other\n",
    "       * 7, 9 = Refused / Don't know\n",
    "\n",
    "   * HOD050 - Number of rooms in home\n",
    "       * Missing 329\n",
    "       * Categorical: 1-13\n",
    "       * 777 = refused (34, 5 rooms is the largest category)\n",
    "       \n",
    "   * Not going to use\n",
    "       * Doesn't seem like an important factor"
   ]
  },
  {
   "cell_type": "code",
   "execution_count": 97,
   "metadata": {},
   "outputs": [
    {
     "name": "stdout",
     "output_type": "stream",
     "text": [
      "Housing Shape: (9971, 3)\n"
     ]
    },
    {
     "data": {
      "text/html": [
       "<div>\n",
       "<style scoped>\n",
       "    .dataframe tbody tr th:only-of-type {\n",
       "        vertical-align: middle;\n",
       "    }\n",
       "\n",
       "    .dataframe tbody tr th {\n",
       "        vertical-align: top;\n",
       "    }\n",
       "\n",
       "    .dataframe thead th {\n",
       "        text-align: right;\n",
       "    }\n",
       "</style>\n",
       "<table border=\"1\" class=\"dataframe\">\n",
       "  <thead>\n",
       "    <tr style=\"text-align: right;\">\n",
       "      <th></th>\n",
       "      <th>SEQN</th>\n",
       "      <th>HOQ065</th>\n",
       "      <th>HOD050</th>\n",
       "    </tr>\n",
       "  </thead>\n",
       "  <tbody>\n",
       "    <tr>\n",
       "      <th>0</th>\n",
       "      <td>83732.0</td>\n",
       "      <td>1.0</td>\n",
       "      <td>7.0</td>\n",
       "    </tr>\n",
       "    <tr>\n",
       "      <th>1</th>\n",
       "      <td>83733.0</td>\n",
       "      <td>1.0</td>\n",
       "      <td>6.0</td>\n",
       "    </tr>\n",
       "    <tr>\n",
       "      <th>2</th>\n",
       "      <td>83734.0</td>\n",
       "      <td>1.0</td>\n",
       "      <td>5.0</td>\n",
       "    </tr>\n",
       "    <tr>\n",
       "      <th>3</th>\n",
       "      <td>83735.0</td>\n",
       "      <td>1.0</td>\n",
       "      <td>4.0</td>\n",
       "    </tr>\n",
       "    <tr>\n",
       "      <th>4</th>\n",
       "      <td>83736.0</td>\n",
       "      <td>2.0</td>\n",
       "      <td>5.0</td>\n",
       "    </tr>\n",
       "  </tbody>\n",
       "</table>\n",
       "</div>"
      ],
      "text/plain": [
       "      SEQN  HOQ065  HOD050\n",
       "0  83732.0     1.0     7.0\n",
       "1  83733.0     1.0     6.0\n",
       "2  83734.0     1.0     5.0\n",
       "3  83735.0     1.0     4.0\n",
       "4  83736.0     2.0     5.0"
      ]
     },
     "execution_count": 97,
     "metadata": {},
     "output_type": "execute_result"
    }
   ],
   "source": [
    "housing_char_columns = ['SEQN', 'HOQ065', 'HOD050']\n",
    "Housing_df = Preprocess_Q_Housing_df[housing_char_columns]\n",
    "print ('Housing Shape: ' + str(Housing_df.shape))\n",
    "Housing_df.head()"
   ]
  },
  {
   "cell_type": "markdown",
   "metadata": {},
   "source": [
    "<div class=\"alert alert-block alert-success\">\n",
    "\n",
    "# 10. Income\n",
    "\n",
    "   * INQ132 - Income from state/county cash assistance\n",
    "       * Categorical\n",
    "       * 1 = Yes\n",
    "       * 2 = No\n",
    "       * Game Plan:\n",
    "           * 2, 7, Nan -> 0\n",
    "           * 7 -> 1\n",
    "\n",
    "   * INDFMMPI - Family monthly poverty level index\n",
    "       * __DROP__\n",
    "           * too many missing values\n",
    "   \n",
    "   * INDFMMPC - Family monthly poverty level category\n",
    "       * __DROP__\n",
    "           * too many missing values\n",
    "       \n",
    "   * INQ320 - How do you get to the grocery store?\n",
    "       * Categorical 1-9\n",
    "       * Game Plan:\n",
    "           * Nan -> 1 (mode)\n",
    "           * 66, 77 -> 9 (other)"
   ]
  },
  {
   "cell_type": "code",
   "execution_count": 217,
   "metadata": {
    "scrolled": true
   },
   "outputs": [
    {
     "name": "stdout",
     "output_type": "stream",
     "text": [
      "Income Shape: (9971, 3)\n"
     ]
    },
    {
     "data": {
      "text/html": [
       "<div>\n",
       "<style scoped>\n",
       "    .dataframe tbody tr th:only-of-type {\n",
       "        vertical-align: middle;\n",
       "    }\n",
       "\n",
       "    .dataframe tbody tr th {\n",
       "        vertical-align: top;\n",
       "    }\n",
       "\n",
       "    .dataframe thead th {\n",
       "        text-align: right;\n",
       "    }\n",
       "</style>\n",
       "<table border=\"1\" class=\"dataframe\">\n",
       "  <thead>\n",
       "    <tr style=\"text-align: right;\">\n",
       "      <th></th>\n",
       "      <th>SEQN</th>\n",
       "      <th>INQ132</th>\n",
       "      <th>INQ320</th>\n",
       "    </tr>\n",
       "  </thead>\n",
       "  <tbody>\n",
       "    <tr>\n",
       "      <th>0</th>\n",
       "      <td>83732.0</td>\n",
       "      <td>2.0</td>\n",
       "      <td>1.0</td>\n",
       "    </tr>\n",
       "    <tr>\n",
       "      <th>1</th>\n",
       "      <td>83733.0</td>\n",
       "      <td>2.0</td>\n",
       "      <td>1.0</td>\n",
       "    </tr>\n",
       "    <tr>\n",
       "      <th>2</th>\n",
       "      <td>83734.0</td>\n",
       "      <td>2.0</td>\n",
       "      <td>1.0</td>\n",
       "    </tr>\n",
       "    <tr>\n",
       "      <th>3</th>\n",
       "      <td>83735.0</td>\n",
       "      <td>2.0</td>\n",
       "      <td>1.0</td>\n",
       "    </tr>\n",
       "    <tr>\n",
       "      <th>4</th>\n",
       "      <td>83736.0</td>\n",
       "      <td>2.0</td>\n",
       "      <td>1.0</td>\n",
       "    </tr>\n",
       "  </tbody>\n",
       "</table>\n",
       "</div>"
      ],
      "text/plain": [
       "      SEQN  INQ132  INQ320\n",
       "0  83732.0     2.0     1.0\n",
       "1  83733.0     2.0     1.0\n",
       "2  83734.0     2.0     1.0\n",
       "3  83735.0     2.0     1.0\n",
       "4  83736.0     2.0     1.0"
      ]
     },
     "execution_count": 217,
     "metadata": {},
     "output_type": "execute_result"
    }
   ],
   "source": [
    "income_columns = ['SEQN', 'INQ132', 'INQ320']\n",
    "Income_df = Preprocess_Q_Income_df[income_columns]\n",
    "print ('Income Shape: ' + str(Income_df.shape))\n",
    "Income_df.head()"
   ]
  },
  {
   "cell_type": "code",
   "execution_count": 218,
   "metadata": {},
   "outputs": [
    {
     "name": "stdout",
     "output_type": "stream",
     "text": [
      "Income Shape: (5992, 4)\n"
     ]
    },
    {
     "data": {
      "text/html": [
       "<div>\n",
       "<style scoped>\n",
       "    .dataframe tbody tr th:only-of-type {\n",
       "        vertical-align: middle;\n",
       "    }\n",
       "\n",
       "    .dataframe tbody tr th {\n",
       "        vertical-align: top;\n",
       "    }\n",
       "\n",
       "    .dataframe thead th {\n",
       "        text-align: right;\n",
       "    }\n",
       "</style>\n",
       "<table border=\"1\" class=\"dataframe\">\n",
       "  <thead>\n",
       "    <tr style=\"text-align: right;\">\n",
       "      <th></th>\n",
       "      <th>SEQN</th>\n",
       "      <th>INQ132</th>\n",
       "      <th>INQ320</th>\n",
       "    </tr>\n",
       "  </thead>\n",
       "  <tbody>\n",
       "    <tr>\n",
       "      <th>0</th>\n",
       "      <td>83732.0</td>\n",
       "      <td>2.0</td>\n",
       "      <td>1.0</td>\n",
       "    </tr>\n",
       "    <tr>\n",
       "      <th>1</th>\n",
       "      <td>83733.0</td>\n",
       "      <td>2.0</td>\n",
       "      <td>1.0</td>\n",
       "    </tr>\n",
       "    <tr>\n",
       "      <th>2</th>\n",
       "      <td>83734.0</td>\n",
       "      <td>2.0</td>\n",
       "      <td>1.0</td>\n",
       "    </tr>\n",
       "    <tr>\n",
       "      <th>3</th>\n",
       "      <td>83735.0</td>\n",
       "      <td>2.0</td>\n",
       "      <td>1.0</td>\n",
       "    </tr>\n",
       "    <tr>\n",
       "      <th>4</th>\n",
       "      <td>83736.0</td>\n",
       "      <td>2.0</td>\n",
       "      <td>1.0</td>\n",
       "    </tr>\n",
       "  </tbody>\n",
       "</table>\n",
       "</div>"
      ],
      "text/plain": [
       "      SEQN  INQ132  INQ320\n",
       "0  83732.0     2.0     1.0\n",
       "1  83733.0     2.0     1.0\n",
       "2  83734.0     2.0     1.0\n",
       "3  83735.0     2.0     1.0\n",
       "4  83736.0     2.0     1.0"
      ]
     },
     "execution_count": 218,
     "metadata": {},
     "output_type": "execute_result"
    }
   ],
   "source": [
    "Income_df = pd.merge(Income_df, age_df, on=\"SEQN\")\n",
    "Income_df = Income_df.drop(Income_df[Income_df.Age < 18].index)\n",
    "print ('Income Shape: ' + str(Income_df.shape))\n",
    "Income_df = Income_df.drop('Age', axis = 1)\n",
    "Income_df.head()"
   ]
  },
  {
   "cell_type": "code",
   "execution_count": 224,
   "metadata": {},
   "outputs": [
    {
     "name": "stdout",
     "output_type": "stream",
     "text": [
      "0\n",
      "0\n"
     ]
    }
   ],
   "source": [
    "print (Income_df['INQ132'].isnull().sum(axis = 0))\n",
    "print (Income_df['INQ320'].isnull().sum(axis = 0))\n"
   ]
  },
  {
   "cell_type": "code",
   "execution_count": 223,
   "metadata": {},
   "outputs": [
    {
     "data": {
      "text/plain": [
       "1.0    4977\n",
       "2.0     284\n",
       "3.0     268\n",
       "4.0     244\n",
       "6.0      96\n",
       "7.0      39\n",
       "9.0      35\n",
       "8.0      27\n",
       "5.0      22\n",
       "Name: INQ320, dtype: int64"
      ]
     },
     "execution_count": 223,
     "metadata": {},
     "output_type": "execute_result"
    }
   ],
   "source": [
    "# Income_df['INQ132'].value_counts()\n",
    "Income_df['INQ320'].value_counts()"
   ]
  },
  {
   "cell_type": "code",
   "execution_count": 221,
   "metadata": {},
   "outputs": [],
   "source": [
    "# Game Plan\n",
    "\n",
    "# INQ132\n",
    "Income_df.loc[Income_df['INQ132'] == 2, 'INQ132'] = 0\n",
    "Income_df.loc[Income_df['INQ132'] == 7, 'INQ132'] = 1\n",
    "Income_df.loc[Income_df['INQ132'] == 9, 'INQ132'] = 0\n",
    "Income_df['INQ132'].fillna(0, inplace=True)\n",
    "\n",
    "# INQ320\n",
    "Income_df.loc[Income_df['INQ320'] == 66, 'INQ320'] = 9\n",
    "Income_df.loc[Income_df['INQ320'] == 77, 'INQ320'] = 9\n",
    "Income_df['INQ320'].fillna(1, inplace=True)\n"
   ]
  },
  {
   "cell_type": "code",
   "execution_count": 226,
   "metadata": {},
   "outputs": [],
   "source": [
    "# Dummies\n",
    "\n",
    "need_dummies = ['INQ132', 'INQ320']\n",
    "Income_df = pd.get_dummies(Income_df, columns = need_dummies, drop_first = True)"
   ]
  },
  {
   "cell_type": "code",
   "execution_count": 228,
   "metadata": {},
   "outputs": [],
   "source": [
    "Final_Income_df = Income_df"
   ]
  },
  {
   "cell_type": "code",
   "execution_count": 229,
   "metadata": {},
   "outputs": [],
   "source": [
    "Final_Income_df.to_csv('Cleaned_Income.csv')"
   ]
  },
  {
   "cell_type": "markdown",
   "metadata": {},
   "source": [
    "<div class=\"alert alert-block alert-success\">\n",
    "\n",
    "# 11. Medical Conditions\n",
    "\n",
    "   * MCQ010 - Ever been told you have asthma\n",
    "       * Categorical\n",
    "       * 1 = Yes\n",
    "       * 2 = No\n",
    "       * Game Plan:\n",
    "           * 2,9 -> 0\n",
    "\n",
    "   * MCQ080 - Doctor ever said you were overweight\n",
    "       * Categorical\n",
    "       * 1 = Yes\n",
    "       * 2 = No\n",
    "       * Game plan:\n",
    "           * 2,9 -> 0\n",
    "   \n",
    "   * MCQ220 - Ever told you had cancer or malignancy\n",
    "       * 1 = Yes\n",
    "       * 2 = No\n",
    "       * * Game plan:\n",
    "           * 2,9, Nan -> 0\n"
   ]
  },
  {
   "cell_type": "code",
   "execution_count": 99,
   "metadata": {
    "scrolled": true
   },
   "outputs": [
    {
     "name": "stdout",
     "output_type": "stream",
     "text": [
      "Medical Conditions Shape: (9575, 4)\n"
     ]
    },
    {
     "data": {
      "text/html": [
       "<div>\n",
       "<style scoped>\n",
       "    .dataframe tbody tr th:only-of-type {\n",
       "        vertical-align: middle;\n",
       "    }\n",
       "\n",
       "    .dataframe tbody tr th {\n",
       "        vertical-align: top;\n",
       "    }\n",
       "\n",
       "    .dataframe thead th {\n",
       "        text-align: right;\n",
       "    }\n",
       "</style>\n",
       "<table border=\"1\" class=\"dataframe\">\n",
       "  <thead>\n",
       "    <tr style=\"text-align: right;\">\n",
       "      <th></th>\n",
       "      <th>SEQN</th>\n",
       "      <th>MCQ010</th>\n",
       "      <th>MCQ080</th>\n",
       "      <th>MCQ220</th>\n",
       "    </tr>\n",
       "  </thead>\n",
       "  <tbody>\n",
       "    <tr>\n",
       "      <th>0</th>\n",
       "      <td>83732.0</td>\n",
       "      <td>2.0</td>\n",
       "      <td>1.0</td>\n",
       "      <td>1.0</td>\n",
       "    </tr>\n",
       "    <tr>\n",
       "      <th>1</th>\n",
       "      <td>83733.0</td>\n",
       "      <td>2.0</td>\n",
       "      <td>2.0</td>\n",
       "      <td>2.0</td>\n",
       "    </tr>\n",
       "    <tr>\n",
       "      <th>2</th>\n",
       "      <td>83734.0</td>\n",
       "      <td>1.0</td>\n",
       "      <td>1.0</td>\n",
       "      <td>1.0</td>\n",
       "    </tr>\n",
       "    <tr>\n",
       "      <th>3</th>\n",
       "      <td>83735.0</td>\n",
       "      <td>2.0</td>\n",
       "      <td>1.0</td>\n",
       "      <td>2.0</td>\n",
       "    </tr>\n",
       "    <tr>\n",
       "      <th>4</th>\n",
       "      <td>83736.0</td>\n",
       "      <td>1.0</td>\n",
       "      <td>2.0</td>\n",
       "      <td>2.0</td>\n",
       "    </tr>\n",
       "  </tbody>\n",
       "</table>\n",
       "</div>"
      ],
      "text/plain": [
       "      SEQN  MCQ010  MCQ080  MCQ220\n",
       "0  83732.0     2.0     1.0     1.0\n",
       "1  83733.0     2.0     2.0     2.0\n",
       "2  83734.0     1.0     1.0     1.0\n",
       "3  83735.0     2.0     1.0     2.0\n",
       "4  83736.0     1.0     2.0     2.0"
      ]
     },
     "execution_count": 99,
     "metadata": {},
     "output_type": "execute_result"
    }
   ],
   "source": [
    "medical_conditions_columns = ['SEQN', 'MCQ010', 'MCQ080', 'MCQ220']\n",
    "Medical_Conditions_df = Preprocess_Q_Medical_Conditions_df[medical_conditions_columns]\n",
    "print ('Medical Conditions Shape: ' + str(Medical_Conditions_df.shape))\n",
    "Medical_Conditions_df.head()"
   ]
  },
  {
   "cell_type": "code",
   "execution_count": 230,
   "metadata": {},
   "outputs": [
    {
     "name": "stdout",
     "output_type": "stream",
     "text": [
      "Medical Conditions Shape: (5992, 5)\n"
     ]
    },
    {
     "data": {
      "text/html": [
       "<div>\n",
       "<style scoped>\n",
       "    .dataframe tbody tr th:only-of-type {\n",
       "        vertical-align: middle;\n",
       "    }\n",
       "\n",
       "    .dataframe tbody tr th {\n",
       "        vertical-align: top;\n",
       "    }\n",
       "\n",
       "    .dataframe thead th {\n",
       "        text-align: right;\n",
       "    }\n",
       "</style>\n",
       "<table border=\"1\" class=\"dataframe\">\n",
       "  <thead>\n",
       "    <tr style=\"text-align: right;\">\n",
       "      <th></th>\n",
       "      <th>SEQN</th>\n",
       "      <th>MCQ010</th>\n",
       "      <th>MCQ080</th>\n",
       "      <th>MCQ220</th>\n",
       "    </tr>\n",
       "  </thead>\n",
       "  <tbody>\n",
       "    <tr>\n",
       "      <th>0</th>\n",
       "      <td>83732.0</td>\n",
       "      <td>2.0</td>\n",
       "      <td>1.0</td>\n",
       "      <td>1.0</td>\n",
       "    </tr>\n",
       "    <tr>\n",
       "      <th>1</th>\n",
       "      <td>83733.0</td>\n",
       "      <td>2.0</td>\n",
       "      <td>2.0</td>\n",
       "      <td>2.0</td>\n",
       "    </tr>\n",
       "    <tr>\n",
       "      <th>2</th>\n",
       "      <td>83734.0</td>\n",
       "      <td>1.0</td>\n",
       "      <td>1.0</td>\n",
       "      <td>1.0</td>\n",
       "    </tr>\n",
       "    <tr>\n",
       "      <th>3</th>\n",
       "      <td>83735.0</td>\n",
       "      <td>2.0</td>\n",
       "      <td>1.0</td>\n",
       "      <td>2.0</td>\n",
       "    </tr>\n",
       "    <tr>\n",
       "      <th>4</th>\n",
       "      <td>83736.0</td>\n",
       "      <td>1.0</td>\n",
       "      <td>2.0</td>\n",
       "      <td>2.0</td>\n",
       "    </tr>\n",
       "  </tbody>\n",
       "</table>\n",
       "</div>"
      ],
      "text/plain": [
       "      SEQN  MCQ010  MCQ080  MCQ220\n",
       "0  83732.0     2.0     1.0     1.0\n",
       "1  83733.0     2.0     2.0     2.0\n",
       "2  83734.0     1.0     1.0     1.0\n",
       "3  83735.0     2.0     1.0     2.0\n",
       "4  83736.0     1.0     2.0     2.0"
      ]
     },
     "execution_count": 230,
     "metadata": {},
     "output_type": "execute_result"
    }
   ],
   "source": [
    "Medical_Conditions_df = pd.merge(Medical_Conditions_df, age_df, on=\"SEQN\")\n",
    "Medical_Conditions_df = Medical_Conditions_df.drop(Medical_Conditions_df[Medical_Conditions_df.Age < 18].index)\n",
    "print ('Medical Conditions Shape: ' + str(Medical_Conditions_df.shape))\n",
    "Medical_Conditions_df = Medical_Conditions_df.drop('Age', axis = 1)\n",
    "Medical_Conditions_df.head()"
   ]
  },
  {
   "cell_type": "code",
   "execution_count": 237,
   "metadata": {},
   "outputs": [
    {
     "name": "stdout",
     "output_type": "stream",
     "text": [
      "0\n",
      "0\n",
      "0\n"
     ]
    }
   ],
   "source": [
    "print (Medical_Conditions_df['MCQ010'].isnull().sum(axis = 0))\n",
    "print (Medical_Conditions_df['MCQ080'].isnull().sum(axis = 0))\n",
    "print (Medical_Conditions_df['MCQ220'].isnull().sum(axis = 0))"
   ]
  },
  {
   "cell_type": "code",
   "execution_count": 240,
   "metadata": {},
   "outputs": [
    {
     "data": {
      "text/plain": [
       "0.0    5081\n",
       "1.0     911\n",
       "Name: MCQ010, dtype: int64"
      ]
     },
     "execution_count": 240,
     "metadata": {},
     "output_type": "execute_result"
    }
   ],
   "source": [
    "# Medical_Conditions_df['MCQ010'].value_counts()\n",
    "# Medical_Conditions_df['MCQ010'].value_counts()\n",
    "# Medical_Conditions_df['MCQ010'].value_counts()"
   ]
  },
  {
   "cell_type": "code",
   "execution_count": 235,
   "metadata": {},
   "outputs": [],
   "source": [
    "# Game Plan\n",
    "\n",
    "# MCQ010\n",
    "Medical_Conditions_df.loc[Medical_Conditions_df['MCQ010'] == 2, 'MCQ010'] = 0\n",
    "Medical_Conditions_df.loc[Medical_Conditions_df['MCQ010'] == 9, 'MCQ010'] = 0\n",
    "\n",
    "# MCQ080\n",
    "Medical_Conditions_df.loc[Medical_Conditions_df['MCQ080'] == 2, 'MCQ080'] = 0\n",
    "Medical_Conditions_df.loc[Medical_Conditions_df['MCQ080'] == 9, 'MCQ080'] = 0\n",
    "\n",
    "\n",
    "# MCQ220\n",
    "Medical_Conditions_df.loc[Medical_Conditions_df['MCQ220'] == 2, 'MCQ220'] = 0\n",
    "Medical_Conditions_df.loc[Medical_Conditions_df['MCQ220'] == 9, 'MCQ220'] = 0\n",
    "Medical_Conditions_df['MCQ220'].fillna(0, inplace=True)\n"
   ]
  },
  {
   "cell_type": "code",
   "execution_count": 241,
   "metadata": {},
   "outputs": [],
   "source": [
    "# Dummies\n",
    "\n",
    "need_dummies = ['MCQ010', 'MCQ080', 'MCQ220']\n",
    "Medical_Conditions_df = pd.get_dummies(Medical_Conditions_df, columns = need_dummies, drop_first = True)"
   ]
  },
  {
   "cell_type": "code",
   "execution_count": 243,
   "metadata": {},
   "outputs": [],
   "source": [
    "Final_Medical_Conditions_df = Medical_Conditions_df"
   ]
  },
  {
   "cell_type": "code",
   "execution_count": 244,
   "metadata": {},
   "outputs": [],
   "source": [
    "Final_Medical_Conditions_df.to_csv('Cleaned_Medical_Conditions.csv')"
   ]
  },
  {
   "cell_type": "markdown",
   "metadata": {},
   "source": [
    "<div class=\"alert alert-block alert-success\">\n",
    "\n",
    "# 12. Mental Health\n",
    "   * Ages 18+\n",
    "   * DPQ030 - Trouble sleeping or sleeping too much\n",
    "       * Categorical 0-3\n",
    "       * Game Plan:\n",
    "           * Nan -> 0\n",
    "           * 7 -> 2\n",
    "           * 9 -> 1\n",
    "           * less than 1 -> 0\n",
    "\n",
    "   * DPQ040 - Feeling tired or having little energy\n",
    "       * Categorical 0-3\n",
    "       * Game Plan:\n",
    "           * Nan -> 0\n",
    "           * 7   -> 2\n",
    "           * less than 1 -> 0\n",
    "           \n",
    "   * DPQ050 - Poor appetite or overeating\n",
    "       * Categorical 0-3\n",
    "       * Game Plan:\n",
    "           * Nan -> 0\n",
    "           * 9   -> 1\n",
    "           * less than 1 -> 0\n"
   ]
  },
  {
   "cell_type": "code",
   "execution_count": 246,
   "metadata": {
    "scrolled": true
   },
   "outputs": [
    {
     "name": "stdout",
     "output_type": "stream",
     "text": [
      "Mental Health Shape: (5735, 4)\n"
     ]
    },
    {
     "data": {
      "text/html": [
       "<div>\n",
       "<style scoped>\n",
       "    .dataframe tbody tr th:only-of-type {\n",
       "        vertical-align: middle;\n",
       "    }\n",
       "\n",
       "    .dataframe tbody tr th {\n",
       "        vertical-align: top;\n",
       "    }\n",
       "\n",
       "    .dataframe thead th {\n",
       "        text-align: right;\n",
       "    }\n",
       "</style>\n",
       "<table border=\"1\" class=\"dataframe\">\n",
       "  <thead>\n",
       "    <tr style=\"text-align: right;\">\n",
       "      <th></th>\n",
       "      <th>SEQN</th>\n",
       "      <th>DPQ030</th>\n",
       "      <th>DPQ040</th>\n",
       "      <th>DPQ050</th>\n",
       "    </tr>\n",
       "  </thead>\n",
       "  <tbody>\n",
       "    <tr>\n",
       "      <th>0</th>\n",
       "      <td>83732.0</td>\n",
       "      <td>5.397605e-79</td>\n",
       "      <td>1.000000e+00</td>\n",
       "      <td>5.397605e-79</td>\n",
       "    </tr>\n",
       "    <tr>\n",
       "      <th>1</th>\n",
       "      <td>83733.0</td>\n",
       "      <td>5.397605e-79</td>\n",
       "      <td>5.397605e-79</td>\n",
       "      <td>1.000000e+00</td>\n",
       "    </tr>\n",
       "    <tr>\n",
       "      <th>2</th>\n",
       "      <td>83734.0</td>\n",
       "      <td>5.397605e-79</td>\n",
       "      <td>1.000000e+00</td>\n",
       "      <td>5.397605e-79</td>\n",
       "    </tr>\n",
       "    <tr>\n",
       "      <th>3</th>\n",
       "      <td>83735.0</td>\n",
       "      <td>2.000000e+00</td>\n",
       "      <td>2.000000e+00</td>\n",
       "      <td>1.000000e+00</td>\n",
       "    </tr>\n",
       "    <tr>\n",
       "      <th>4</th>\n",
       "      <td>83736.0</td>\n",
       "      <td>1.000000e+00</td>\n",
       "      <td>1.000000e+00</td>\n",
       "      <td>3.000000e+00</td>\n",
       "    </tr>\n",
       "  </tbody>\n",
       "</table>\n",
       "</div>"
      ],
      "text/plain": [
       "      SEQN        DPQ030        DPQ040        DPQ050\n",
       "0  83732.0  5.397605e-79  1.000000e+00  5.397605e-79\n",
       "1  83733.0  5.397605e-79  5.397605e-79  1.000000e+00\n",
       "2  83734.0  5.397605e-79  1.000000e+00  5.397605e-79\n",
       "3  83735.0  2.000000e+00  2.000000e+00  1.000000e+00\n",
       "4  83736.0  1.000000e+00  1.000000e+00  3.000000e+00"
      ]
     },
     "execution_count": 246,
     "metadata": {},
     "output_type": "execute_result"
    }
   ],
   "source": [
    "mental_health_columns = ['SEQN', 'DPQ030', 'DPQ040', 'DPQ050']\n",
    "Mental_Health_df = Preprocess_Q_Mental_Health_df[mental_health_columns]\n",
    "print ('Mental Health Shape: ' + str(Mental_Health_df.shape))\n",
    "df = Mental_Health_df\n",
    "df.head()"
   ]
  },
  {
   "cell_type": "code",
   "execution_count": 247,
   "metadata": {},
   "outputs": [
    {
     "name": "stdout",
     "output_type": "stream",
     "text": [
      "Mental Health Shape: (5735, 5)\n"
     ]
    },
    {
     "data": {
      "text/html": [
       "<div>\n",
       "<style scoped>\n",
       "    .dataframe tbody tr th:only-of-type {\n",
       "        vertical-align: middle;\n",
       "    }\n",
       "\n",
       "    .dataframe tbody tr th {\n",
       "        vertical-align: top;\n",
       "    }\n",
       "\n",
       "    .dataframe thead th {\n",
       "        text-align: right;\n",
       "    }\n",
       "</style>\n",
       "<table border=\"1\" class=\"dataframe\">\n",
       "  <thead>\n",
       "    <tr style=\"text-align: right;\">\n",
       "      <th></th>\n",
       "      <th>SEQN</th>\n",
       "      <th>DPQ030</th>\n",
       "      <th>DPQ040</th>\n",
       "      <th>DPQ050</th>\n",
       "    </tr>\n",
       "  </thead>\n",
       "  <tbody>\n",
       "    <tr>\n",
       "      <th>0</th>\n",
       "      <td>83732.0</td>\n",
       "      <td>5.397605e-79</td>\n",
       "      <td>1.000000e+00</td>\n",
       "      <td>5.397605e-79</td>\n",
       "    </tr>\n",
       "    <tr>\n",
       "      <th>1</th>\n",
       "      <td>83733.0</td>\n",
       "      <td>5.397605e-79</td>\n",
       "      <td>5.397605e-79</td>\n",
       "      <td>1.000000e+00</td>\n",
       "    </tr>\n",
       "    <tr>\n",
       "      <th>2</th>\n",
       "      <td>83734.0</td>\n",
       "      <td>5.397605e-79</td>\n",
       "      <td>1.000000e+00</td>\n",
       "      <td>5.397605e-79</td>\n",
       "    </tr>\n",
       "    <tr>\n",
       "      <th>3</th>\n",
       "      <td>83735.0</td>\n",
       "      <td>2.000000e+00</td>\n",
       "      <td>2.000000e+00</td>\n",
       "      <td>1.000000e+00</td>\n",
       "    </tr>\n",
       "    <tr>\n",
       "      <th>4</th>\n",
       "      <td>83736.0</td>\n",
       "      <td>1.000000e+00</td>\n",
       "      <td>1.000000e+00</td>\n",
       "      <td>3.000000e+00</td>\n",
       "    </tr>\n",
       "  </tbody>\n",
       "</table>\n",
       "</div>"
      ],
      "text/plain": [
       "      SEQN        DPQ030        DPQ040        DPQ050\n",
       "0  83732.0  5.397605e-79  1.000000e+00  5.397605e-79\n",
       "1  83733.0  5.397605e-79  5.397605e-79  1.000000e+00\n",
       "2  83734.0  5.397605e-79  1.000000e+00  5.397605e-79\n",
       "3  83735.0  2.000000e+00  2.000000e+00  1.000000e+00\n",
       "4  83736.0  1.000000e+00  1.000000e+00  3.000000e+00"
      ]
     },
     "execution_count": 247,
     "metadata": {},
     "output_type": "execute_result"
    }
   ],
   "source": [
    "df = pd.merge(df, age_df, on=\"SEQN\")\n",
    "df = df.drop(df[df.Age < 18].index)\n",
    "print ('Mental Health Shape: ' + str(df.shape))\n",
    "df = df.drop('Age', axis = 1)\n",
    "df.head()"
   ]
  },
  {
   "cell_type": "code",
   "execution_count": 253,
   "metadata": {},
   "outputs": [
    {
     "name": "stdout",
     "output_type": "stream",
     "text": [
      "0\n",
      "0\n",
      "0\n"
     ]
    }
   ],
   "source": [
    "print (df['DPQ030'].isnull().sum(axis = 0))\n",
    "print (df['DPQ040'].isnull().sum(axis = 0))\n",
    "print (df['DPQ050'].isnull().sum(axis = 0))\n"
   ]
  },
  {
   "cell_type": "code",
   "execution_count": 256,
   "metadata": {},
   "outputs": [
    {
     "data": {
      "text/plain": [
       "0.0    3763\n",
       "1.0    1197\n",
       "3.0     419\n",
       "2.0     356\n",
       "Name: DPQ030, dtype: int64"
      ]
     },
     "execution_count": 256,
     "metadata": {},
     "output_type": "execute_result"
    }
   ],
   "source": [
    "df['DPQ030'].value_counts()\n",
    "#df['DPQ040'].value_counts()\n",
    "#df['DPQ050'].value_counts()"
   ]
  },
  {
   "cell_type": "code",
   "execution_count": 252,
   "metadata": {},
   "outputs": [],
   "source": [
    "col = 'DPQ030'\n",
    "df[col].values[df[col].values < 1] = 0\n",
    "df.loc[df[col] == 7, col] = 2\n",
    "df.loc[df[col] == 9, col] = 1\n",
    "df[col].fillna(0, inplace=True)\n",
    "\n",
    "col = 'DPQ040'\n",
    "df[col].values[df[col].values < 1] = 0\n",
    "df.loc[df[col] == 7, col] = 2\n",
    "df[col].fillna(0, inplace=True)\n",
    "\n",
    "col = 'DPQ050'\n",
    "df[col].values[df[col].values < 1] = 0\n",
    "df.loc[df[col] == 9, col] = 1\n",
    "df[col].fillna(0, inplace=True)"
   ]
  },
  {
   "cell_type": "code",
   "execution_count": 257,
   "metadata": {},
   "outputs": [],
   "source": [
    "# Dummies\n",
    "\n",
    "need_dummies = ['DPQ030', 'DPQ040', 'DPQ050']\n",
    "df = pd.get_dummies(df, columns = need_dummies, drop_first = True)"
   ]
  },
  {
   "cell_type": "code",
   "execution_count": 258,
   "metadata": {},
   "outputs": [
    {
     "data": {
      "text/html": [
       "<div>\n",
       "<style scoped>\n",
       "    .dataframe tbody tr th:only-of-type {\n",
       "        vertical-align: middle;\n",
       "    }\n",
       "\n",
       "    .dataframe tbody tr th {\n",
       "        vertical-align: top;\n",
       "    }\n",
       "\n",
       "    .dataframe thead th {\n",
       "        text-align: right;\n",
       "    }\n",
       "</style>\n",
       "<table border=\"1\" class=\"dataframe\">\n",
       "  <thead>\n",
       "    <tr style=\"text-align: right;\">\n",
       "      <th></th>\n",
       "      <th>SEQN</th>\n",
       "      <th>DPQ030_1.0</th>\n",
       "      <th>DPQ030_2.0</th>\n",
       "      <th>DPQ030_3.0</th>\n",
       "      <th>DPQ040_1.0</th>\n",
       "      <th>DPQ040_2.0</th>\n",
       "      <th>DPQ040_3.0</th>\n",
       "      <th>DPQ050_1.0</th>\n",
       "      <th>DPQ050_2.0</th>\n",
       "      <th>DPQ050_3.0</th>\n",
       "    </tr>\n",
       "  </thead>\n",
       "  <tbody>\n",
       "    <tr>\n",
       "      <th>0</th>\n",
       "      <td>83732.0</td>\n",
       "      <td>0</td>\n",
       "      <td>0</td>\n",
       "      <td>0</td>\n",
       "      <td>1</td>\n",
       "      <td>0</td>\n",
       "      <td>0</td>\n",
       "      <td>0</td>\n",
       "      <td>0</td>\n",
       "      <td>0</td>\n",
       "    </tr>\n",
       "    <tr>\n",
       "      <th>1</th>\n",
       "      <td>83733.0</td>\n",
       "      <td>0</td>\n",
       "      <td>0</td>\n",
       "      <td>0</td>\n",
       "      <td>0</td>\n",
       "      <td>0</td>\n",
       "      <td>0</td>\n",
       "      <td>1</td>\n",
       "      <td>0</td>\n",
       "      <td>0</td>\n",
       "    </tr>\n",
       "    <tr>\n",
       "      <th>2</th>\n",
       "      <td>83734.0</td>\n",
       "      <td>0</td>\n",
       "      <td>0</td>\n",
       "      <td>0</td>\n",
       "      <td>1</td>\n",
       "      <td>0</td>\n",
       "      <td>0</td>\n",
       "      <td>0</td>\n",
       "      <td>0</td>\n",
       "      <td>0</td>\n",
       "    </tr>\n",
       "    <tr>\n",
       "      <th>3</th>\n",
       "      <td>83735.0</td>\n",
       "      <td>0</td>\n",
       "      <td>1</td>\n",
       "      <td>0</td>\n",
       "      <td>0</td>\n",
       "      <td>1</td>\n",
       "      <td>0</td>\n",
       "      <td>1</td>\n",
       "      <td>0</td>\n",
       "      <td>0</td>\n",
       "    </tr>\n",
       "    <tr>\n",
       "      <th>4</th>\n",
       "      <td>83736.0</td>\n",
       "      <td>1</td>\n",
       "      <td>0</td>\n",
       "      <td>0</td>\n",
       "      <td>1</td>\n",
       "      <td>0</td>\n",
       "      <td>0</td>\n",
       "      <td>0</td>\n",
       "      <td>0</td>\n",
       "      <td>1</td>\n",
       "    </tr>\n",
       "  </tbody>\n",
       "</table>\n",
       "</div>"
      ],
      "text/plain": [
       "      SEQN  DPQ030_1.0  DPQ030_2.0  DPQ030_3.0  DPQ040_1.0  DPQ040_2.0  \\\n",
       "0  83732.0           0           0           0           1           0   \n",
       "1  83733.0           0           0           0           0           0   \n",
       "2  83734.0           0           0           0           1           0   \n",
       "3  83735.0           0           1           0           0           1   \n",
       "4  83736.0           1           0           0           1           0   \n",
       "\n",
       "   DPQ040_3.0  DPQ050_1.0  DPQ050_2.0  DPQ050_3.0  \n",
       "0           0           0           0           0  \n",
       "1           0           1           0           0  \n",
       "2           0           0           0           0  \n",
       "3           0           1           0           0  \n",
       "4           0           0           0           1  "
      ]
     },
     "execution_count": 258,
     "metadata": {},
     "output_type": "execute_result"
    }
   ],
   "source": [
    "df.head()"
   ]
  },
  {
   "cell_type": "code",
   "execution_count": 259,
   "metadata": {},
   "outputs": [],
   "source": [
    "Final_Mental_Health_df = df"
   ]
  },
  {
   "cell_type": "code",
   "execution_count": 261,
   "metadata": {},
   "outputs": [],
   "source": [
    "Final_Mental_Health_df.to_csv('Cleaned_Mental_Health.csv')"
   ]
  },
  {
   "cell_type": "code",
   "execution_count": null,
   "metadata": {},
   "outputs": [],
   "source": []
  },
  {
   "cell_type": "code",
   "execution_count": null,
   "metadata": {},
   "outputs": [],
   "source": []
  },
  {
   "cell_type": "code",
   "execution_count": null,
   "metadata": {},
   "outputs": [],
   "source": []
  },
  {
   "cell_type": "markdown",
   "metadata": {},
   "source": [
    "<div class=\"alert alert-block alert-success\">\n",
    "\n",
    "# 13. Physical Activity\n",
    "\n",
    "   * PAQ635 - Walk or bicycle to get places, at least 10 mins\n",
    "       * Categorical\n",
    "       * 1 = Yes\n",
    "       * 2 = No\n",
    "       * Game Plan:\n",
    "           * 2, 9, NaN -> 0\n",
    "\n",
    "   * PAQ640 - Number of days walk or bicycle\n",
    "       * Range 1-7\n",
    "       * Game Plan:\n",
    "           * NaN -> 0\n",
    "           * 99 -> 1\n",
    "   \n",
    "   * PAD645 - Minutes walk/bicycle for transportation\n",
    "       * Range 10-1200\n",
    "       * Game Plan:\n",
    "           * 9999 -> Median\n",
    "           * NaN -> 0\n",
    "            \n",
    "   * PAQ650 - Vigorous recreational activities\n",
    "       * Categorical\n",
    "       * 1 = Yes\n",
    "       * 2 = No\n",
    "       * Game Plan:\n",
    "           * 2, NaN -> 0\n",
    "           * 9 -> 1\n",
    "   \n",
    "   * PAQ655 - Days vigorous recreational activities\n",
    "       * Range 1-7\n",
    "       * Game Plan:\n",
    "           * NaN -> 0\n",
    "   \n",
    "   * PAD660 - Minutes vigorous recreational activities\n",
    "       * Range 10-480\n",
    "       * Game Plan:\n",
    "           * 9999, NaN -> 0\n",
    "   \n",
    "   * PAQ665 - Moderate recreational activities\n",
    "       * Categorical\n",
    "       * 1 = Yes\n",
    "       * 2 = No\n",
    "       * Game Plan:\n",
    "           * 2, 9, NaN -> 0\n",
    "   \n",
    "   * PAQ670 - Days moderate recreational activities\n",
    "       * Range 1-7\n",
    "       * Game Plan:\n",
    "           * 99, NaN -> 0\n",
    "   \n",
    "   * PAD675 - Minutes moderate recreational activities\n",
    "       * Range 10-600\n",
    "       * Game Plan:\n",
    "           * 9999, NaN -> 0\n",
    "       \n",
    "   * PAD680 - Minutes sedentary activity\n",
    "       * Range\n",
    "       * Game Plan:\n",
    "           * 7777, 9999 -> Nan\n",
    "           * NaN -> Median\n",
    "   \n",
    "   * PAQ710 - Hours watch TV or videos past 30 days\n",
    "       * Range 1-7\n",
    "       * Game Plan:\n",
    "           * 77 -> 5 (why would you refuse)\n",
    "           * 99, NaN -> 2 (mode)\n",
    "   \n",
    "   * PAQ715 - Hours use computer past 30 days\n",
    "       * Range 0-8\n",
    "       * Game Plan:\n",
    "           * NaN -> 0\n",
    "           * 99 -> 1"
   ]
  },
  {
   "cell_type": "code",
   "execution_count": 262,
   "metadata": {
    "scrolled": true
   },
   "outputs": [
    {
     "name": "stdout",
     "output_type": "stream",
     "text": [
      "Physical Shape: (9255, 13)\n"
     ]
    },
    {
     "data": {
      "text/html": [
       "<div>\n",
       "<style scoped>\n",
       "    .dataframe tbody tr th:only-of-type {\n",
       "        vertical-align: middle;\n",
       "    }\n",
       "\n",
       "    .dataframe tbody tr th {\n",
       "        vertical-align: top;\n",
       "    }\n",
       "\n",
       "    .dataframe thead th {\n",
       "        text-align: right;\n",
       "    }\n",
       "</style>\n",
       "<table border=\"1\" class=\"dataframe\">\n",
       "  <thead>\n",
       "    <tr style=\"text-align: right;\">\n",
       "      <th></th>\n",
       "      <th>SEQN</th>\n",
       "      <th>PAQ635</th>\n",
       "      <th>PAQ640</th>\n",
       "      <th>PAD645</th>\n",
       "      <th>PAQ650</th>\n",
       "      <th>PAQ655</th>\n",
       "      <th>PAD660</th>\n",
       "      <th>PAQ665</th>\n",
       "      <th>PAQ670</th>\n",
       "      <th>PAD675</th>\n",
       "      <th>PAD680</th>\n",
       "      <th>PAQ710</th>\n",
       "      <th>PAQ715</th>\n",
       "    </tr>\n",
       "  </thead>\n",
       "  <tbody>\n",
       "    <tr>\n",
       "      <th>0</th>\n",
       "      <td>83732.0</td>\n",
       "      <td>2.0</td>\n",
       "      <td>NaN</td>\n",
       "      <td>NaN</td>\n",
       "      <td>2.0</td>\n",
       "      <td>NaN</td>\n",
       "      <td>NaN</td>\n",
       "      <td>1.0</td>\n",
       "      <td>6.0</td>\n",
       "      <td>30.0</td>\n",
       "      <td>480.0</td>\n",
       "      <td>5.0</td>\n",
       "      <td>5.397605e-79</td>\n",
       "    </tr>\n",
       "    <tr>\n",
       "      <th>1</th>\n",
       "      <td>83733.0</td>\n",
       "      <td>2.0</td>\n",
       "      <td>NaN</td>\n",
       "      <td>NaN</td>\n",
       "      <td>2.0</td>\n",
       "      <td>NaN</td>\n",
       "      <td>NaN</td>\n",
       "      <td>2.0</td>\n",
       "      <td>NaN</td>\n",
       "      <td>NaN</td>\n",
       "      <td>300.0</td>\n",
       "      <td>5.0</td>\n",
       "      <td>5.397605e-79</td>\n",
       "    </tr>\n",
       "    <tr>\n",
       "      <th>2</th>\n",
       "      <td>83734.0</td>\n",
       "      <td>2.0</td>\n",
       "      <td>NaN</td>\n",
       "      <td>NaN</td>\n",
       "      <td>2.0</td>\n",
       "      <td>NaN</td>\n",
       "      <td>NaN</td>\n",
       "      <td>2.0</td>\n",
       "      <td>NaN</td>\n",
       "      <td>NaN</td>\n",
       "      <td>480.0</td>\n",
       "      <td>5.0</td>\n",
       "      <td>8.000000e+00</td>\n",
       "    </tr>\n",
       "    <tr>\n",
       "      <th>3</th>\n",
       "      <td>83735.0</td>\n",
       "      <td>2.0</td>\n",
       "      <td>NaN</td>\n",
       "      <td>NaN</td>\n",
       "      <td>2.0</td>\n",
       "      <td>NaN</td>\n",
       "      <td>NaN</td>\n",
       "      <td>2.0</td>\n",
       "      <td>NaN</td>\n",
       "      <td>NaN</td>\n",
       "      <td>480.0</td>\n",
       "      <td>3.0</td>\n",
       "      <td>2.000000e+00</td>\n",
       "    </tr>\n",
       "    <tr>\n",
       "      <th>4</th>\n",
       "      <td>83736.0</td>\n",
       "      <td>2.0</td>\n",
       "      <td>NaN</td>\n",
       "      <td>NaN</td>\n",
       "      <td>2.0</td>\n",
       "      <td>NaN</td>\n",
       "      <td>NaN</td>\n",
       "      <td>2.0</td>\n",
       "      <td>NaN</td>\n",
       "      <td>NaN</td>\n",
       "      <td>540.0</td>\n",
       "      <td>4.0</td>\n",
       "      <td>5.000000e+00</td>\n",
       "    </tr>\n",
       "  </tbody>\n",
       "</table>\n",
       "</div>"
      ],
      "text/plain": [
       "      SEQN  PAQ635  PAQ640  PAD645  PAQ650  PAQ655  PAD660  PAQ665  PAQ670  \\\n",
       "0  83732.0     2.0     NaN     NaN     2.0     NaN     NaN     1.0     6.0   \n",
       "1  83733.0     2.0     NaN     NaN     2.0     NaN     NaN     2.0     NaN   \n",
       "2  83734.0     2.0     NaN     NaN     2.0     NaN     NaN     2.0     NaN   \n",
       "3  83735.0     2.0     NaN     NaN     2.0     NaN     NaN     2.0     NaN   \n",
       "4  83736.0     2.0     NaN     NaN     2.0     NaN     NaN     2.0     NaN   \n",
       "\n",
       "   PAD675  PAD680  PAQ710        PAQ715  \n",
       "0    30.0   480.0     5.0  5.397605e-79  \n",
       "1     NaN   300.0     5.0  5.397605e-79  \n",
       "2     NaN   480.0     5.0  8.000000e+00  \n",
       "3     NaN   480.0     3.0  2.000000e+00  \n",
       "4     NaN   540.0     4.0  5.000000e+00  "
      ]
     },
     "execution_count": 262,
     "metadata": {},
     "output_type": "execute_result"
    }
   ],
   "source": [
    "physical_avtivity_columns = ['SEQN', 'PAQ635', 'PAQ640', 'PAD645', 'PAQ650', 'PAQ655', 'PAD660', 'PAQ665', 'PAQ670',\n",
    "                            'PAD675', 'PAD680', 'PAQ710', 'PAQ715']\n",
    "Physical_Activity_df = Preprocess_Q_Physical_Activity_df[physical_avtivity_columns]\n",
    "print ('Physical Shape: ' + str(Physical_Activity_df.shape))\n",
    "df = Physical_Activity_df\n",
    "df.head()"
   ]
  },
  {
   "cell_type": "code",
   "execution_count": 263,
   "metadata": {},
   "outputs": [
    {
     "name": "stdout",
     "output_type": "stream",
     "text": [
      "Physical Activity Shape: (5992, 14)\n"
     ]
    },
    {
     "data": {
      "text/html": [
       "<div>\n",
       "<style scoped>\n",
       "    .dataframe tbody tr th:only-of-type {\n",
       "        vertical-align: middle;\n",
       "    }\n",
       "\n",
       "    .dataframe tbody tr th {\n",
       "        vertical-align: top;\n",
       "    }\n",
       "\n",
       "    .dataframe thead th {\n",
       "        text-align: right;\n",
       "    }\n",
       "</style>\n",
       "<table border=\"1\" class=\"dataframe\">\n",
       "  <thead>\n",
       "    <tr style=\"text-align: right;\">\n",
       "      <th></th>\n",
       "      <th>SEQN</th>\n",
       "      <th>PAQ635</th>\n",
       "      <th>PAQ640</th>\n",
       "      <th>PAD645</th>\n",
       "      <th>PAQ650</th>\n",
       "      <th>PAQ655</th>\n",
       "      <th>PAD660</th>\n",
       "      <th>PAQ665</th>\n",
       "      <th>PAQ670</th>\n",
       "      <th>PAD675</th>\n",
       "      <th>PAD680</th>\n",
       "      <th>PAQ710</th>\n",
       "      <th>PAQ715</th>\n",
       "    </tr>\n",
       "  </thead>\n",
       "  <tbody>\n",
       "    <tr>\n",
       "      <th>0</th>\n",
       "      <td>83732.0</td>\n",
       "      <td>2.0</td>\n",
       "      <td>NaN</td>\n",
       "      <td>NaN</td>\n",
       "      <td>2.0</td>\n",
       "      <td>NaN</td>\n",
       "      <td>NaN</td>\n",
       "      <td>1.0</td>\n",
       "      <td>6.0</td>\n",
       "      <td>30.0</td>\n",
       "      <td>480.0</td>\n",
       "      <td>5.0</td>\n",
       "      <td>5.397605e-79</td>\n",
       "    </tr>\n",
       "    <tr>\n",
       "      <th>1</th>\n",
       "      <td>83733.0</td>\n",
       "      <td>2.0</td>\n",
       "      <td>NaN</td>\n",
       "      <td>NaN</td>\n",
       "      <td>2.0</td>\n",
       "      <td>NaN</td>\n",
       "      <td>NaN</td>\n",
       "      <td>2.0</td>\n",
       "      <td>NaN</td>\n",
       "      <td>NaN</td>\n",
       "      <td>300.0</td>\n",
       "      <td>5.0</td>\n",
       "      <td>5.397605e-79</td>\n",
       "    </tr>\n",
       "    <tr>\n",
       "      <th>2</th>\n",
       "      <td>83734.0</td>\n",
       "      <td>2.0</td>\n",
       "      <td>NaN</td>\n",
       "      <td>NaN</td>\n",
       "      <td>2.0</td>\n",
       "      <td>NaN</td>\n",
       "      <td>NaN</td>\n",
       "      <td>2.0</td>\n",
       "      <td>NaN</td>\n",
       "      <td>NaN</td>\n",
       "      <td>480.0</td>\n",
       "      <td>5.0</td>\n",
       "      <td>8.000000e+00</td>\n",
       "    </tr>\n",
       "    <tr>\n",
       "      <th>3</th>\n",
       "      <td>83735.0</td>\n",
       "      <td>2.0</td>\n",
       "      <td>NaN</td>\n",
       "      <td>NaN</td>\n",
       "      <td>2.0</td>\n",
       "      <td>NaN</td>\n",
       "      <td>NaN</td>\n",
       "      <td>2.0</td>\n",
       "      <td>NaN</td>\n",
       "      <td>NaN</td>\n",
       "      <td>480.0</td>\n",
       "      <td>3.0</td>\n",
       "      <td>2.000000e+00</td>\n",
       "    </tr>\n",
       "    <tr>\n",
       "      <th>4</th>\n",
       "      <td>83736.0</td>\n",
       "      <td>2.0</td>\n",
       "      <td>NaN</td>\n",
       "      <td>NaN</td>\n",
       "      <td>2.0</td>\n",
       "      <td>NaN</td>\n",
       "      <td>NaN</td>\n",
       "      <td>2.0</td>\n",
       "      <td>NaN</td>\n",
       "      <td>NaN</td>\n",
       "      <td>540.0</td>\n",
       "      <td>4.0</td>\n",
       "      <td>5.000000e+00</td>\n",
       "    </tr>\n",
       "  </tbody>\n",
       "</table>\n",
       "</div>"
      ],
      "text/plain": [
       "      SEQN  PAQ635  PAQ640  PAD645  PAQ650  PAQ655  PAD660  PAQ665  PAQ670  \\\n",
       "0  83732.0     2.0     NaN     NaN     2.0     NaN     NaN     1.0     6.0   \n",
       "1  83733.0     2.0     NaN     NaN     2.0     NaN     NaN     2.0     NaN   \n",
       "2  83734.0     2.0     NaN     NaN     2.0     NaN     NaN     2.0     NaN   \n",
       "3  83735.0     2.0     NaN     NaN     2.0     NaN     NaN     2.0     NaN   \n",
       "4  83736.0     2.0     NaN     NaN     2.0     NaN     NaN     2.0     NaN   \n",
       "\n",
       "   PAD675  PAD680  PAQ710        PAQ715  \n",
       "0    30.0   480.0     5.0  5.397605e-79  \n",
       "1     NaN   300.0     5.0  5.397605e-79  \n",
       "2     NaN   480.0     5.0  8.000000e+00  \n",
       "3     NaN   480.0     3.0  2.000000e+00  \n",
       "4     NaN   540.0     4.0  5.000000e+00  "
      ]
     },
     "execution_count": 263,
     "metadata": {},
     "output_type": "execute_result"
    }
   ],
   "source": [
    "df = pd.merge(df, age_df, on=\"SEQN\")\n",
    "df = df.drop(df[df.Age < 18].index)\n",
    "print ('Physical Activity Shape: ' + str(df.shape))\n",
    "df = df.drop('Age', axis = 1)\n",
    "df.head()"
   ]
  },
  {
   "cell_type": "code",
   "execution_count": 285,
   "metadata": {},
   "outputs": [
    {
     "name": "stdout",
     "output_type": "stream",
     "text": [
      "0\n"
     ]
    }
   ],
   "source": [
    "# print (df['PAQ635'].isnull().sum(axis = 0))\n",
    "# print (df['PAQ640'].isnull().sum(axis = 0))\n",
    "# print (df['PAD645'].isnull().sum(axis = 0))\n",
    "# print (df['PAQ650'].isnull().sum(axis = 0))\n",
    "# print (df['PAQ655'].isnull().sum(axis = 0))\n",
    "# print (df['PAD660'].isnull().sum(axis = 0))\n",
    "# print (df['PAQ665'].isnull().sum(axis = 0))\n",
    "# print (df['PAQ670'].isnull().sum(axis = 0))\n",
    "# print (df['PAD675'].isnull().sum(axis = 0))\n",
    "# print (df['PAD680'].isnull().sum(axis = 0))\n",
    "# print (df['PAQ710'].isnull().sum(axis = 0))\n",
    "print (df['PAQ715'].isnull().sum(axis = 0))"
   ]
  },
  {
   "cell_type": "code",
   "execution_count": 286,
   "metadata": {},
   "outputs": [
    {
     "data": {
      "text/plain": [
       "8.0     2076\n",
       "0.0     1226\n",
       "1.0      910\n",
       "2.0      791\n",
       "5.0      398\n",
       "3.0      357\n",
       "4.0      231\n",
       "99.0       3\n",
       "Name: PAQ715, dtype: int64"
      ]
     },
     "execution_count": 286,
     "metadata": {},
     "output_type": "execute_result"
    }
   ],
   "source": [
    "df['PAQ715'].value_counts()"
   ]
  },
  {
   "cell_type": "code",
   "execution_count": 287,
   "metadata": {},
   "outputs": [],
   "source": [
    "# Game Plan\n",
    "\n",
    "col = 'PAQ635'\n",
    "df.loc[df[col] == 2, col] = 95\n",
    "df.loc[df[col] == 9, col] = 0\n",
    "df[col].fillna(0, inplace=True)\n",
    "\n",
    "\n",
    "col = 'PAQ640'\n",
    "df.loc[df[col] == 99, col] = 1\n",
    "df[col].fillna(0, inplace=True)\n",
    "\n",
    "\n",
    "col = 'PAD645'\n",
    "df.loc[df[col] == 9999, col] = 30\n",
    "df[col].fillna(0, inplace=True)\n",
    "\n",
    "\n",
    "col = 'PAQ650'\n",
    "df.loc[df[col] == 2, col] = 0\n",
    "df.loc[df[col] == 9, col] = 1\n",
    "df[col].fillna(0, inplace=True)\n",
    "\n",
    "\n",
    "col = 'PAQ665'\n",
    "\n",
    "df.loc[df[col] == 9, col] = 0\n",
    "df.loc[df[col] == 2, col] = 0\n",
    "\n",
    "\n",
    "col = 'PAQ670'\n",
    "df.loc[df[col] == 99, col] = 0\n",
    "\n",
    "\n",
    "col = 'PAQ710'\n",
    "df.loc[df[col] == 77, col] = 5\n",
    "df.loc[df[col] == 99, col] = 2\n",
    "\n",
    "\n",
    "col = 'PAQ715'\n",
    "df.loc[df[col] == 99, col] = 1\n"
   ]
  },
  {
   "cell_type": "code",
   "execution_count": 291,
   "metadata": {},
   "outputs": [],
   "source": [
    "# Dummies\n",
    "\n",
    "need_dummies = ['PAQ635', 'PAQ650', 'PAQ665', 'PAQ710', 'PAQ715']\n",
    "df = pd.get_dummies(df, columns = need_dummies, drop_first = True)"
   ]
  },
  {
   "cell_type": "code",
   "execution_count": 294,
   "metadata": {},
   "outputs": [],
   "source": [
    "Final_Physical_Activities = df"
   ]
  },
  {
   "cell_type": "code",
   "execution_count": 295,
   "metadata": {},
   "outputs": [],
   "source": [
    "Final_Physical_Activities.to_csv('Cleaned_Physical_Activities.csv')"
   ]
  },
  {
   "cell_type": "markdown",
   "metadata": {},
   "source": [
    "<div class=\"alert alert-block alert-success\">\n",
    "\n",
    "# 14. Sleep\n",
    "\n",
    "   * SLQ310 - Usual wake time on weekdays or workdays\n",
    "       * Range\n",
    "       * Game Plan:\n",
    "           * 99999 -> Nan -> mode\n",
    "   \n",
    "   * SLD012 - Sleep hours\n",
    "       * Range 2 - 14.5\n",
    "       * Game Plan:\n",
    "           * Nan -> median\n",
    "       \n",
    "   * SLQ030 - How often do you snore?\n",
    "       * Categorical 0-3\n",
    "       * Game Plan:\n",
    "           * Less than 1 -> 0\n",
    "           * 7 -> 3\n",
    "           * 9 stays as it's own category\n",
    "       \n",
    "   * SLQ120 - How often feel overly sleepy during day?\n",
    "       * Categorical 0-4\n",
    "       * Game Plan:\n",
    "           * Less than 1 -> 0\n",
    "           * 9 -> 2 (mode)\n"
   ]
  },
  {
   "cell_type": "code",
   "execution_count": 370,
   "metadata": {
    "scrolled": false
   },
   "outputs": [
    {
     "name": "stdout",
     "output_type": "stream",
     "text": [
      "Sleep Shape: (6327, 5)\n"
     ]
    },
    {
     "data": {
      "text/html": [
       "<div>\n",
       "<style scoped>\n",
       "    .dataframe tbody tr th:only-of-type {\n",
       "        vertical-align: middle;\n",
       "    }\n",
       "\n",
       "    .dataframe tbody tr th {\n",
       "        vertical-align: top;\n",
       "    }\n",
       "\n",
       "    .dataframe thead th {\n",
       "        text-align: right;\n",
       "    }\n",
       "</style>\n",
       "<table border=\"1\" class=\"dataframe\">\n",
       "  <thead>\n",
       "    <tr style=\"text-align: right;\">\n",
       "      <th></th>\n",
       "      <th>SEQN</th>\n",
       "      <th>SLQ310</th>\n",
       "      <th>SLD012</th>\n",
       "      <th>SLQ030</th>\n",
       "      <th>SLQ120</th>\n",
       "    </tr>\n",
       "  </thead>\n",
       "  <tbody>\n",
       "    <tr>\n",
       "      <th>0</th>\n",
       "      <td>83732.0</td>\n",
       "      <td>b'05:00'</td>\n",
       "      <td>5.5</td>\n",
       "      <td>2.000000e+00</td>\n",
       "      <td>3.000000e+00</td>\n",
       "    </tr>\n",
       "    <tr>\n",
       "      <th>1</th>\n",
       "      <td>83733.0</td>\n",
       "      <td>b'07:00'</td>\n",
       "      <td>8.0</td>\n",
       "      <td>1.000000e+00</td>\n",
       "      <td>5.397605e-79</td>\n",
       "    </tr>\n",
       "    <tr>\n",
       "      <th>2</th>\n",
       "      <td>83734.0</td>\n",
       "      <td>b'05:30'</td>\n",
       "      <td>7.0</td>\n",
       "      <td>5.397605e-79</td>\n",
       "      <td>3.000000e+00</td>\n",
       "    </tr>\n",
       "    <tr>\n",
       "      <th>3</th>\n",
       "      <td>83735.0</td>\n",
       "      <td>b'06:00'</td>\n",
       "      <td>6.5</td>\n",
       "      <td>9.000000e+00</td>\n",
       "      <td>4.000000e+00</td>\n",
       "    </tr>\n",
       "    <tr>\n",
       "      <th>4</th>\n",
       "      <td>83736.0</td>\n",
       "      <td>b'06:00'</td>\n",
       "      <td>NaN</td>\n",
       "      <td>9.000000e+00</td>\n",
       "      <td>1.000000e+00</td>\n",
       "    </tr>\n",
       "  </tbody>\n",
       "</table>\n",
       "</div>"
      ],
      "text/plain": [
       "      SEQN    SLQ310  SLD012        SLQ030        SLQ120\n",
       "0  83732.0  b'05:00'     5.5  2.000000e+00  3.000000e+00\n",
       "1  83733.0  b'07:00'     8.0  1.000000e+00  5.397605e-79\n",
       "2  83734.0  b'05:30'     7.0  5.397605e-79  3.000000e+00\n",
       "3  83735.0  b'06:00'     6.5  9.000000e+00  4.000000e+00\n",
       "4  83736.0  b'06:00'     NaN  9.000000e+00  1.000000e+00"
      ]
     },
     "execution_count": 370,
     "metadata": {},
     "output_type": "execute_result"
    }
   ],
   "source": [
    "sleep_columns = ['SEQN', 'SLQ310', 'SLD012', 'SLQ030', 'SLQ120']\n",
    "Sleep_df = Preprocess_Q_Sleep_df[sleep_columns]\n",
    "print ('Sleep Shape: ' + str(Sleep_df.shape))\n",
    "df = Sleep_df\n",
    "df.head()"
   ]
  },
  {
   "cell_type": "code",
   "execution_count": 371,
   "metadata": {},
   "outputs": [
    {
     "name": "stdout",
     "output_type": "stream",
     "text": [
      "Sleep Shape: (5992, 6)\n"
     ]
    },
    {
     "data": {
      "text/html": [
       "<div>\n",
       "<style scoped>\n",
       "    .dataframe tbody tr th:only-of-type {\n",
       "        vertical-align: middle;\n",
       "    }\n",
       "\n",
       "    .dataframe tbody tr th {\n",
       "        vertical-align: top;\n",
       "    }\n",
       "\n",
       "    .dataframe thead th {\n",
       "        text-align: right;\n",
       "    }\n",
       "</style>\n",
       "<table border=\"1\" class=\"dataframe\">\n",
       "  <thead>\n",
       "    <tr style=\"text-align: right;\">\n",
       "      <th></th>\n",
       "      <th>SEQN</th>\n",
       "      <th>SLQ310</th>\n",
       "      <th>SLD012</th>\n",
       "      <th>SLQ030</th>\n",
       "      <th>SLQ120</th>\n",
       "    </tr>\n",
       "  </thead>\n",
       "  <tbody>\n",
       "    <tr>\n",
       "      <th>0</th>\n",
       "      <td>83732.0</td>\n",
       "      <td>b'05:00'</td>\n",
       "      <td>5.5</td>\n",
       "      <td>2.000000e+00</td>\n",
       "      <td>3.000000e+00</td>\n",
       "    </tr>\n",
       "    <tr>\n",
       "      <th>1</th>\n",
       "      <td>83733.0</td>\n",
       "      <td>b'07:00'</td>\n",
       "      <td>8.0</td>\n",
       "      <td>1.000000e+00</td>\n",
       "      <td>5.397605e-79</td>\n",
       "    </tr>\n",
       "    <tr>\n",
       "      <th>2</th>\n",
       "      <td>83734.0</td>\n",
       "      <td>b'05:30'</td>\n",
       "      <td>7.0</td>\n",
       "      <td>5.397605e-79</td>\n",
       "      <td>3.000000e+00</td>\n",
       "    </tr>\n",
       "    <tr>\n",
       "      <th>3</th>\n",
       "      <td>83735.0</td>\n",
       "      <td>b'06:00'</td>\n",
       "      <td>6.5</td>\n",
       "      <td>9.000000e+00</td>\n",
       "      <td>4.000000e+00</td>\n",
       "    </tr>\n",
       "    <tr>\n",
       "      <th>4</th>\n",
       "      <td>83736.0</td>\n",
       "      <td>b'06:00'</td>\n",
       "      <td>NaN</td>\n",
       "      <td>9.000000e+00</td>\n",
       "      <td>1.000000e+00</td>\n",
       "    </tr>\n",
       "  </tbody>\n",
       "</table>\n",
       "</div>"
      ],
      "text/plain": [
       "      SEQN    SLQ310  SLD012        SLQ030        SLQ120\n",
       "0  83732.0  b'05:00'     5.5  2.000000e+00  3.000000e+00\n",
       "1  83733.0  b'07:00'     8.0  1.000000e+00  5.397605e-79\n",
       "2  83734.0  b'05:30'     7.0  5.397605e-79  3.000000e+00\n",
       "3  83735.0  b'06:00'     6.5  9.000000e+00  4.000000e+00\n",
       "4  83736.0  b'06:00'     NaN  9.000000e+00  1.000000e+00"
      ]
     },
     "execution_count": 371,
     "metadata": {},
     "output_type": "execute_result"
    }
   ],
   "source": [
    "df = pd.merge(df, age_df, on=\"SEQN\")\n",
    "df = df.drop(df[df.Age < 18].index)\n",
    "print ('Sleep Shape: ' + str(df.shape))\n",
    "df = df.drop('Age', axis = 1)\n",
    "df.head()"
   ]
  },
  {
   "cell_type": "code",
   "execution_count": 380,
   "metadata": {},
   "outputs": [
    {
     "name": "stdout",
     "output_type": "stream",
     "text": [
      "0\n",
      "33\n",
      "0\n",
      "0\n"
     ]
    }
   ],
   "source": [
    "print (df['SLQ310'].isnull().sum(axis = 0))\n",
    "print (df['SLD012'].isnull().sum(axis = 0))\n",
    "print (df['SLQ030'].isnull().sum(axis = 0))\n",
    "print (df['SLQ120'].isnull().sum(axis = 0))\n",
    "\n"
   ]
  },
  {
   "cell_type": "code",
   "execution_count": 379,
   "metadata": {
    "scrolled": false
   },
   "outputs": [],
   "source": [
    "# df['SLQ310'].value_counts()\n",
    "# df['SLD012'].value_counts()\n",
    "# df['SLQ030'].value_counts()\n",
    "# df['SLQ120'].value_counts()"
   ]
  },
  {
   "cell_type": "code",
   "execution_count": 374,
   "metadata": {},
   "outputs": [],
   "source": [
    "col = 'SLQ310'\n",
    "df[col].values[df[col].values == b'99999'] = str(b'06:00')\n",
    "df['SLQ310'] = df['SLQ310'].apply(lambda x: str(x))"
   ]
  },
  {
   "cell_type": "code",
   "execution_count": 375,
   "metadata": {},
   "outputs": [],
   "source": [
    "def mins_after_midnight(time):\n",
    "    split = list(time)\n",
    "    if len(split) < 5:\n",
    "        return 0\n",
    "    hours = int(''.join(split[2:4]))\n",
    "    mins = int(''.join(split[5:7]))\n",
    "    military = hours*60 + mins\n",
    "    \n",
    "    return military\n",
    "\n",
    "df['SLQ310'] = df['SLQ310'].apply(lambda x: mins_after_midnight(x))"
   ]
  },
  {
   "cell_type": "code",
   "execution_count": 376,
   "metadata": {},
   "outputs": [],
   "source": [
    "df['SLQ310'] = df['SLQ310'].apply(lambda x: mins_after_midnight(x))"
   ]
  },
  {
   "cell_type": "code",
   "execution_count": 381,
   "metadata": {},
   "outputs": [],
   "source": [
    "# Game Plan\n",
    "col = 'SLD012'\n",
    "df[col] = df[col].fillna(df[col].median())\n",
    "\n",
    "col = 'SLQ030'\n",
    "df[col].values[df[col].values < 1] = 0\n",
    "df.loc[df[col] == 7, col] = 3\n",
    "\n",
    "col = 'SLQ120'\n",
    "df[col].values[df[col].values < 1] = 0\n",
    "df.loc[df[col] == 9, col] = 2\n"
   ]
  },
  {
   "cell_type": "code",
   "execution_count": 384,
   "metadata": {},
   "outputs": [
    {
     "data": {
      "text/html": [
       "<div>\n",
       "<style scoped>\n",
       "    .dataframe tbody tr th:only-of-type {\n",
       "        vertical-align: middle;\n",
       "    }\n",
       "\n",
       "    .dataframe tbody tr th {\n",
       "        vertical-align: top;\n",
       "    }\n",
       "\n",
       "    .dataframe thead th {\n",
       "        text-align: right;\n",
       "    }\n",
       "</style>\n",
       "<table border=\"1\" class=\"dataframe\">\n",
       "  <thead>\n",
       "    <tr style=\"text-align: right;\">\n",
       "      <th></th>\n",
       "      <th>SEQN</th>\n",
       "      <th>SLQ310</th>\n",
       "      <th>SLD012</th>\n",
       "      <th>SLQ030</th>\n",
       "      <th>SLQ120</th>\n",
       "    </tr>\n",
       "  </thead>\n",
       "  <tbody>\n",
       "    <tr>\n",
       "      <th>count</th>\n",
       "      <td>5992.000000</td>\n",
       "      <td>5992.000000</td>\n",
       "      <td>5992.000000</td>\n",
       "      <td>5992.000000</td>\n",
       "      <td>5992.000000</td>\n",
       "    </tr>\n",
       "    <tr>\n",
       "      <th>mean</th>\n",
       "      <td>88676.950935</td>\n",
       "      <td>403.557410</td>\n",
       "      <td>7.742824</td>\n",
       "      <td>1.988818</td>\n",
       "      <td>1.739653</td>\n",
       "    </tr>\n",
       "    <tr>\n",
       "      <th>std</th>\n",
       "      <td>2877.819691</td>\n",
       "      <td>131.484205</td>\n",
       "      <td>1.569494</td>\n",
       "      <td>2.276580</td>\n",
       "      <td>1.188456</td>\n",
       "    </tr>\n",
       "    <tr>\n",
       "      <th>min</th>\n",
       "      <td>83732.000000</td>\n",
       "      <td>0.000000</td>\n",
       "      <td>2.000000</td>\n",
       "      <td>0.000000</td>\n",
       "      <td>0.000000</td>\n",
       "    </tr>\n",
       "    <tr>\n",
       "      <th>25%</th>\n",
       "      <td>86175.750000</td>\n",
       "      <td>330.000000</td>\n",
       "      <td>7.000000</td>\n",
       "      <td>0.000000</td>\n",
       "      <td>1.000000</td>\n",
       "    </tr>\n",
       "    <tr>\n",
       "      <th>50%</th>\n",
       "      <td>88659.500000</td>\n",
       "      <td>390.000000</td>\n",
       "      <td>8.000000</td>\n",
       "      <td>1.000000</td>\n",
       "      <td>2.000000</td>\n",
       "    </tr>\n",
       "    <tr>\n",
       "      <th>75%</th>\n",
       "      <td>91174.250000</td>\n",
       "      <td>450.000000</td>\n",
       "      <td>8.500000</td>\n",
       "      <td>3.000000</td>\n",
       "      <td>3.000000</td>\n",
       "    </tr>\n",
       "    <tr>\n",
       "      <th>max</th>\n",
       "      <td>93702.000000</td>\n",
       "      <td>1380.000000</td>\n",
       "      <td>14.500000</td>\n",
       "      <td>9.000000</td>\n",
       "      <td>4.000000</td>\n",
       "    </tr>\n",
       "  </tbody>\n",
       "</table>\n",
       "</div>"
      ],
      "text/plain": [
       "               SEQN       SLQ310       SLD012       SLQ030       SLQ120\n",
       "count   5992.000000  5992.000000  5992.000000  5992.000000  5992.000000\n",
       "mean   88676.950935   403.557410     7.742824     1.988818     1.739653\n",
       "std     2877.819691   131.484205     1.569494     2.276580     1.188456\n",
       "min    83732.000000     0.000000     2.000000     0.000000     0.000000\n",
       "25%    86175.750000   330.000000     7.000000     0.000000     1.000000\n",
       "50%    88659.500000   390.000000     8.000000     1.000000     2.000000\n",
       "75%    91174.250000   450.000000     8.500000     3.000000     3.000000\n",
       "max    93702.000000  1380.000000    14.500000     9.000000     4.000000"
      ]
     },
     "execution_count": 384,
     "metadata": {},
     "output_type": "execute_result"
    }
   ],
   "source": [
    "df.describe()"
   ]
  },
  {
   "cell_type": "code",
   "execution_count": 387,
   "metadata": {},
   "outputs": [],
   "source": [
    "# Dummies\n",
    "\n",
    "need_dummies = ['SLQ030', 'SLQ120']\n",
    "df = pd.get_dummies(df, columns = need_dummies, drop_first = True)"
   ]
  },
  {
   "cell_type": "code",
   "execution_count": 388,
   "metadata": {},
   "outputs": [
    {
     "data": {
      "text/html": [
       "<div>\n",
       "<style scoped>\n",
       "    .dataframe tbody tr th:only-of-type {\n",
       "        vertical-align: middle;\n",
       "    }\n",
       "\n",
       "    .dataframe tbody tr th {\n",
       "        vertical-align: top;\n",
       "    }\n",
       "\n",
       "    .dataframe thead th {\n",
       "        text-align: right;\n",
       "    }\n",
       "</style>\n",
       "<table border=\"1\" class=\"dataframe\">\n",
       "  <thead>\n",
       "    <tr style=\"text-align: right;\">\n",
       "      <th></th>\n",
       "      <th>SEQN</th>\n",
       "      <th>SLQ310</th>\n",
       "      <th>SLD012</th>\n",
       "      <th>SLQ030_1.0</th>\n",
       "      <th>SLQ030_2.0</th>\n",
       "      <th>SLQ030_3.0</th>\n",
       "      <th>SLQ030_9.0</th>\n",
       "      <th>SLQ120_1.0</th>\n",
       "      <th>SLQ120_2.0</th>\n",
       "      <th>SLQ120_3.0</th>\n",
       "      <th>SLQ120_4.0</th>\n",
       "    </tr>\n",
       "  </thead>\n",
       "  <tbody>\n",
       "    <tr>\n",
       "      <th>0</th>\n",
       "      <td>83732.0</td>\n",
       "      <td>300</td>\n",
       "      <td>5.5</td>\n",
       "      <td>0</td>\n",
       "      <td>1</td>\n",
       "      <td>0</td>\n",
       "      <td>0</td>\n",
       "      <td>0</td>\n",
       "      <td>0</td>\n",
       "      <td>1</td>\n",
       "      <td>0</td>\n",
       "    </tr>\n",
       "    <tr>\n",
       "      <th>1</th>\n",
       "      <td>83733.0</td>\n",
       "      <td>420</td>\n",
       "      <td>8.0</td>\n",
       "      <td>1</td>\n",
       "      <td>0</td>\n",
       "      <td>0</td>\n",
       "      <td>0</td>\n",
       "      <td>0</td>\n",
       "      <td>0</td>\n",
       "      <td>0</td>\n",
       "      <td>0</td>\n",
       "    </tr>\n",
       "    <tr>\n",
       "      <th>2</th>\n",
       "      <td>83734.0</td>\n",
       "      <td>330</td>\n",
       "      <td>7.0</td>\n",
       "      <td>0</td>\n",
       "      <td>0</td>\n",
       "      <td>0</td>\n",
       "      <td>0</td>\n",
       "      <td>0</td>\n",
       "      <td>0</td>\n",
       "      <td>1</td>\n",
       "      <td>0</td>\n",
       "    </tr>\n",
       "    <tr>\n",
       "      <th>3</th>\n",
       "      <td>83735.0</td>\n",
       "      <td>360</td>\n",
       "      <td>6.5</td>\n",
       "      <td>0</td>\n",
       "      <td>0</td>\n",
       "      <td>0</td>\n",
       "      <td>1</td>\n",
       "      <td>0</td>\n",
       "      <td>0</td>\n",
       "      <td>0</td>\n",
       "      <td>1</td>\n",
       "    </tr>\n",
       "    <tr>\n",
       "      <th>4</th>\n",
       "      <td>83736.0</td>\n",
       "      <td>360</td>\n",
       "      <td>8.0</td>\n",
       "      <td>0</td>\n",
       "      <td>0</td>\n",
       "      <td>0</td>\n",
       "      <td>1</td>\n",
       "      <td>1</td>\n",
       "      <td>0</td>\n",
       "      <td>0</td>\n",
       "      <td>0</td>\n",
       "    </tr>\n",
       "  </tbody>\n",
       "</table>\n",
       "</div>"
      ],
      "text/plain": [
       "      SEQN  SLQ310  SLD012  SLQ030_1.0  SLQ030_2.0  SLQ030_3.0  SLQ030_9.0  \\\n",
       "0  83732.0     300     5.5           0           1           0           0   \n",
       "1  83733.0     420     8.0           1           0           0           0   \n",
       "2  83734.0     330     7.0           0           0           0           0   \n",
       "3  83735.0     360     6.5           0           0           0           1   \n",
       "4  83736.0     360     8.0           0           0           0           1   \n",
       "\n",
       "   SLQ120_1.0  SLQ120_2.0  SLQ120_3.0  SLQ120_4.0  \n",
       "0           0           0           1           0  \n",
       "1           0           0           0           0  \n",
       "2           0           0           1           0  \n",
       "3           0           0           0           1  \n",
       "4           1           0           0           0  "
      ]
     },
     "execution_count": 388,
     "metadata": {},
     "output_type": "execute_result"
    }
   ],
   "source": [
    "df.head()"
   ]
  },
  {
   "cell_type": "code",
   "execution_count": 389,
   "metadata": {},
   "outputs": [],
   "source": [
    "Final_Sleep_df = df"
   ]
  },
  {
   "cell_type": "code",
   "execution_count": 390,
   "metadata": {},
   "outputs": [],
   "source": [
    "Final_Sleep_df.to_csv('Cleaned_Sleep.csv')"
   ]
  },
  {
   "cell_type": "code",
   "execution_count": null,
   "metadata": {},
   "outputs": [],
   "source": []
  },
  {
   "cell_type": "markdown",
   "metadata": {},
   "source": [
    "<div class=\"alert alert-block alert-success\">\n",
    "\n",
    "# 15. Smoking\n",
    "\n",
    "   * SMQ040 - Do you now smoke cigarettes?\n",
    "       * Categorical\n",
    "       * 1 = Everyday\n",
    "       * 2 = Somedays\n",
    "       * 3 = Not at all\n",
    "       * Game Plan:\n",
    "           * NaN -> 3\n",
    "\n",
    "   * SMQ020 - Smoked at least 100 cigarettes in life\n",
    "       * Categorical\n",
    "       * 1 = Yes\n",
    "       * 2 = No\n",
    "       * Game Plan:\n",
    "           * 7, 9 -> 1\n",
    "           * 2 -> 0\n"
   ]
  },
  {
   "cell_type": "code",
   "execution_count": 391,
   "metadata": {
    "scrolled": true
   },
   "outputs": [
    {
     "name": "stdout",
     "output_type": "stream",
     "text": [
      "Smoking Shape: (7001, 3)\n"
     ]
    },
    {
     "data": {
      "text/html": [
       "<div>\n",
       "<style scoped>\n",
       "    .dataframe tbody tr th:only-of-type {\n",
       "        vertical-align: middle;\n",
       "    }\n",
       "\n",
       "    .dataframe tbody tr th {\n",
       "        vertical-align: top;\n",
       "    }\n",
       "\n",
       "    .dataframe thead th {\n",
       "        text-align: right;\n",
       "    }\n",
       "</style>\n",
       "<table border=\"1\" class=\"dataframe\">\n",
       "  <thead>\n",
       "    <tr style=\"text-align: right;\">\n",
       "      <th></th>\n",
       "      <th>SEQN</th>\n",
       "      <th>SMQ040</th>\n",
       "      <th>SMQ020</th>\n",
       "    </tr>\n",
       "  </thead>\n",
       "  <tbody>\n",
       "    <tr>\n",
       "      <th>0</th>\n",
       "      <td>83732.0</td>\n",
       "      <td>3.0</td>\n",
       "      <td>1.0</td>\n",
       "    </tr>\n",
       "    <tr>\n",
       "      <th>1</th>\n",
       "      <td>83733.0</td>\n",
       "      <td>1.0</td>\n",
       "      <td>1.0</td>\n",
       "    </tr>\n",
       "    <tr>\n",
       "      <th>2</th>\n",
       "      <td>83734.0</td>\n",
       "      <td>3.0</td>\n",
       "      <td>1.0</td>\n",
       "    </tr>\n",
       "    <tr>\n",
       "      <th>3</th>\n",
       "      <td>83735.0</td>\n",
       "      <td>NaN</td>\n",
       "      <td>2.0</td>\n",
       "    </tr>\n",
       "    <tr>\n",
       "      <th>4</th>\n",
       "      <td>83736.0</td>\n",
       "      <td>NaN</td>\n",
       "      <td>2.0</td>\n",
       "    </tr>\n",
       "  </tbody>\n",
       "</table>\n",
       "</div>"
      ],
      "text/plain": [
       "      SEQN  SMQ040  SMQ020\n",
       "0  83732.0     3.0     1.0\n",
       "1  83733.0     1.0     1.0\n",
       "2  83734.0     3.0     1.0\n",
       "3  83735.0     NaN     2.0\n",
       "4  83736.0     NaN     2.0"
      ]
     },
     "execution_count": 391,
     "metadata": {},
     "output_type": "execute_result"
    }
   ],
   "source": [
    "smoking_columns = ['SEQN', 'SMQ040', 'SMQ020']\n",
    "Smoking_df = Preprocess_Q_Smoking_df[smoking_columns]\n",
    "print ('Smoking Shape: ' + str(Smoking_df.shape))\n",
    "df = Smoking_df\n",
    "df.head()"
   ]
  },
  {
   "cell_type": "code",
   "execution_count": 392,
   "metadata": {},
   "outputs": [
    {
     "name": "stdout",
     "output_type": "stream",
     "text": [
      "Smoking Shape: (5992, 4)\n"
     ]
    },
    {
     "data": {
      "text/html": [
       "<div>\n",
       "<style scoped>\n",
       "    .dataframe tbody tr th:only-of-type {\n",
       "        vertical-align: middle;\n",
       "    }\n",
       "\n",
       "    .dataframe tbody tr th {\n",
       "        vertical-align: top;\n",
       "    }\n",
       "\n",
       "    .dataframe thead th {\n",
       "        text-align: right;\n",
       "    }\n",
       "</style>\n",
       "<table border=\"1\" class=\"dataframe\">\n",
       "  <thead>\n",
       "    <tr style=\"text-align: right;\">\n",
       "      <th></th>\n",
       "      <th>SEQN</th>\n",
       "      <th>SMQ040</th>\n",
       "      <th>SMQ020</th>\n",
       "    </tr>\n",
       "  </thead>\n",
       "  <tbody>\n",
       "    <tr>\n",
       "      <th>0</th>\n",
       "      <td>83732.0</td>\n",
       "      <td>3.0</td>\n",
       "      <td>1.0</td>\n",
       "    </tr>\n",
       "    <tr>\n",
       "      <th>1</th>\n",
       "      <td>83733.0</td>\n",
       "      <td>1.0</td>\n",
       "      <td>1.0</td>\n",
       "    </tr>\n",
       "    <tr>\n",
       "      <th>2</th>\n",
       "      <td>83734.0</td>\n",
       "      <td>3.0</td>\n",
       "      <td>1.0</td>\n",
       "    </tr>\n",
       "    <tr>\n",
       "      <th>3</th>\n",
       "      <td>83735.0</td>\n",
       "      <td>NaN</td>\n",
       "      <td>2.0</td>\n",
       "    </tr>\n",
       "    <tr>\n",
       "      <th>4</th>\n",
       "      <td>83736.0</td>\n",
       "      <td>NaN</td>\n",
       "      <td>2.0</td>\n",
       "    </tr>\n",
       "  </tbody>\n",
       "</table>\n",
       "</div>"
      ],
      "text/plain": [
       "      SEQN  SMQ040  SMQ020\n",
       "0  83732.0     3.0     1.0\n",
       "1  83733.0     1.0     1.0\n",
       "2  83734.0     3.0     1.0\n",
       "3  83735.0     NaN     2.0\n",
       "4  83736.0     NaN     2.0"
      ]
     },
     "execution_count": 392,
     "metadata": {},
     "output_type": "execute_result"
    }
   ],
   "source": [
    "df = pd.merge(df, age_df, on=\"SEQN\")\n",
    "df = df.drop(df[df.Age < 18].index)\n",
    "print ('Smoking Shape: ' + str(df.shape))\n",
    "df = df.drop('Age', axis = 1)\n",
    "df.head()"
   ]
  },
  {
   "cell_type": "code",
   "execution_count": 393,
   "metadata": {},
   "outputs": [
    {
     "name": "stdout",
     "output_type": "stream",
     "text": [
      "3570\n",
      "0\n"
     ]
    }
   ],
   "source": [
    "print (df['SMQ040'].isnull().sum(axis = 0))\n",
    "print (df['SMQ020'].isnull().sum(axis = 0))\n"
   ]
  },
  {
   "cell_type": "code",
   "execution_count": 399,
   "metadata": {
    "scrolled": true
   },
   "outputs": [
    {
     "data": {
      "text/plain": [
       "3.0    4892\n",
       "1.0     832\n",
       "2.0     268\n",
       "Name: SMQ040, dtype: int64"
      ]
     },
     "execution_count": 399,
     "metadata": {},
     "output_type": "execute_result"
    }
   ],
   "source": [
    "df['SMQ040'].value_counts()\n",
    "# df['SMQ020'].value_counts()"
   ]
  },
  {
   "cell_type": "code",
   "execution_count": 396,
   "metadata": {},
   "outputs": [],
   "source": [
    "# Game Plan\n",
    "\n",
    "col = 'SMQ040'\n",
    "df[col].fillna(3, inplace=True)\n",
    "\n",
    "\n",
    "col = 'SMQ020'\n",
    "df.loc[df[col] == 7, col] = 1\n",
    "df.loc[df[col] == 9, col] = 1\n",
    "df.loc[df[col] == 2, col] = 0"
   ]
  },
  {
   "cell_type": "code",
   "execution_count": 400,
   "metadata": {},
   "outputs": [],
   "source": [
    "# Dummies\n",
    "\n",
    "need_dummies = ['SMQ040', 'SMQ020']\n",
    "df = pd.get_dummies(df, columns = need_dummies, drop_first = True)"
   ]
  },
  {
   "cell_type": "code",
   "execution_count": 402,
   "metadata": {},
   "outputs": [],
   "source": [
    "Final_Smoking_df = df"
   ]
  },
  {
   "cell_type": "code",
   "execution_count": 403,
   "metadata": {},
   "outputs": [],
   "source": [
    "Final_Smoking_df.to_csv('Cleaned_Smoking.csv')"
   ]
  },
  {
   "cell_type": "code",
   "execution_count": null,
   "metadata": {},
   "outputs": [],
   "source": []
  },
  {
   "cell_type": "code",
   "execution_count": null,
   "metadata": {},
   "outputs": [],
   "source": []
  },
  {
   "cell_type": "markdown",
   "metadata": {},
   "source": [
    "<div class=\"alert alert-block alert-success\">\n",
    "\n",
    "# 16. Household Smoking\n",
    "\n",
    "   * SMD460 - # of people who live here smoke tobacco?\n",
    "       * Categorical 0-3\n",
    "       * Game Plan:\n",
    "           * NaN -> 0\n",
    "           * 777 ->3\n",
    "           * less then 1 -> 0\n",
    "\n",
    "   * SMD470 - # of people who smoke inside this home?\n",
    "       * Categorical 0-3\n",
    "       * Game Plan:\n",
    "           * NaN -> 0\n",
    "           * Less than 1 -> 0"
   ]
  },
  {
   "cell_type": "code",
   "execution_count": 404,
   "metadata": {
    "scrolled": true
   },
   "outputs": [
    {
     "name": "stdout",
     "output_type": "stream",
     "text": [
      "Household Smoking Shape: (9971, 3)\n"
     ]
    },
    {
     "data": {
      "text/html": [
       "<div>\n",
       "<style scoped>\n",
       "    .dataframe tbody tr th:only-of-type {\n",
       "        vertical-align: middle;\n",
       "    }\n",
       "\n",
       "    .dataframe tbody tr th {\n",
       "        vertical-align: top;\n",
       "    }\n",
       "\n",
       "    .dataframe thead th {\n",
       "        text-align: right;\n",
       "    }\n",
       "</style>\n",
       "<table border=\"1\" class=\"dataframe\">\n",
       "  <thead>\n",
       "    <tr style=\"text-align: right;\">\n",
       "      <th></th>\n",
       "      <th>SEQN</th>\n",
       "      <th>SMD460</th>\n",
       "      <th>SMD470</th>\n",
       "    </tr>\n",
       "  </thead>\n",
       "  <tbody>\n",
       "    <tr>\n",
       "      <th>0</th>\n",
       "      <td>83732.0</td>\n",
       "      <td>5.397605e-79</td>\n",
       "      <td>NaN</td>\n",
       "    </tr>\n",
       "    <tr>\n",
       "      <th>1</th>\n",
       "      <td>83733.0</td>\n",
       "      <td>1.000000e+00</td>\n",
       "      <td>1.0</td>\n",
       "    </tr>\n",
       "    <tr>\n",
       "      <th>2</th>\n",
       "      <td>83734.0</td>\n",
       "      <td>1.000000e+00</td>\n",
       "      <td>1.0</td>\n",
       "    </tr>\n",
       "    <tr>\n",
       "      <th>3</th>\n",
       "      <td>83735.0</td>\n",
       "      <td>5.397605e-79</td>\n",
       "      <td>NaN</td>\n",
       "    </tr>\n",
       "    <tr>\n",
       "      <th>4</th>\n",
       "      <td>83736.0</td>\n",
       "      <td>3.000000e+00</td>\n",
       "      <td>3.0</td>\n",
       "    </tr>\n",
       "  </tbody>\n",
       "</table>\n",
       "</div>"
      ],
      "text/plain": [
       "      SEQN        SMD460  SMD470\n",
       "0  83732.0  5.397605e-79     NaN\n",
       "1  83733.0  1.000000e+00     1.0\n",
       "2  83734.0  1.000000e+00     1.0\n",
       "3  83735.0  5.397605e-79     NaN\n",
       "4  83736.0  3.000000e+00     3.0"
      ]
     },
     "execution_count": 404,
     "metadata": {},
     "output_type": "execute_result"
    }
   ],
   "source": [
    "household_smoking_columns = ['SEQN', 'SMD460', 'SMD470']\n",
    "Household_Smoking_df = Preprocess_Q_Household_Smoking_df[household_smoking_columns]\n",
    "print ('Household Smoking Shape: ' + str(Household_Smoking_df.shape))\n",
    "df = Household_Smoking_df\n",
    "df.head()"
   ]
  },
  {
   "cell_type": "code",
   "execution_count": 405,
   "metadata": {},
   "outputs": [
    {
     "name": "stdout",
     "output_type": "stream",
     "text": [
      "Household Smoking Shape: (5992, 4)\n"
     ]
    },
    {
     "data": {
      "text/html": [
       "<div>\n",
       "<style scoped>\n",
       "    .dataframe tbody tr th:only-of-type {\n",
       "        vertical-align: middle;\n",
       "    }\n",
       "\n",
       "    .dataframe tbody tr th {\n",
       "        vertical-align: top;\n",
       "    }\n",
       "\n",
       "    .dataframe thead th {\n",
       "        text-align: right;\n",
       "    }\n",
       "</style>\n",
       "<table border=\"1\" class=\"dataframe\">\n",
       "  <thead>\n",
       "    <tr style=\"text-align: right;\">\n",
       "      <th></th>\n",
       "      <th>SEQN</th>\n",
       "      <th>SMD460</th>\n",
       "      <th>SMD470</th>\n",
       "    </tr>\n",
       "  </thead>\n",
       "  <tbody>\n",
       "    <tr>\n",
       "      <th>0</th>\n",
       "      <td>83732.0</td>\n",
       "      <td>5.397605e-79</td>\n",
       "      <td>NaN</td>\n",
       "    </tr>\n",
       "    <tr>\n",
       "      <th>1</th>\n",
       "      <td>83733.0</td>\n",
       "      <td>1.000000e+00</td>\n",
       "      <td>1.0</td>\n",
       "    </tr>\n",
       "    <tr>\n",
       "      <th>2</th>\n",
       "      <td>83734.0</td>\n",
       "      <td>1.000000e+00</td>\n",
       "      <td>1.0</td>\n",
       "    </tr>\n",
       "    <tr>\n",
       "      <th>3</th>\n",
       "      <td>83735.0</td>\n",
       "      <td>5.397605e-79</td>\n",
       "      <td>NaN</td>\n",
       "    </tr>\n",
       "    <tr>\n",
       "      <th>4</th>\n",
       "      <td>83736.0</td>\n",
       "      <td>3.000000e+00</td>\n",
       "      <td>3.0</td>\n",
       "    </tr>\n",
       "  </tbody>\n",
       "</table>\n",
       "</div>"
      ],
      "text/plain": [
       "      SEQN        SMD460  SMD470\n",
       "0  83732.0  5.397605e-79     NaN\n",
       "1  83733.0  1.000000e+00     1.0\n",
       "2  83734.0  1.000000e+00     1.0\n",
       "3  83735.0  5.397605e-79     NaN\n",
       "4  83736.0  3.000000e+00     3.0"
      ]
     },
     "execution_count": 405,
     "metadata": {},
     "output_type": "execute_result"
    }
   ],
   "source": [
    "df = pd.merge(df, age_df, on=\"SEQN\")\n",
    "df = df.drop(df[df.Age < 18].index)\n",
    "print ('Household Smoking Shape: ' + str(df.shape))\n",
    "df = df.drop('Age', axis = 1)\n",
    "df.head()\n"
   ]
  },
  {
   "cell_type": "code",
   "execution_count": 406,
   "metadata": {},
   "outputs": [
    {
     "name": "stdout",
     "output_type": "stream",
     "text": [
      "214\n",
      "4320\n"
     ]
    }
   ],
   "source": [
    "print (df['SMD460'].isnull().sum(axis = 0))\n",
    "print (df['SMD470'].isnull().sum(axis = 0))\n"
   ]
  },
  {
   "cell_type": "code",
   "execution_count": 410,
   "metadata": {},
   "outputs": [
    {
     "data": {
      "text/plain": [
       "5.397605e-79    4103\n",
       "1.000000e+00    1100\n",
       "2.000000e+00     430\n",
       "3.000000e+00     142\n",
       "7.770000e+02       3\n",
       "Name: SMD460, dtype: int64"
      ]
     },
     "execution_count": 410,
     "metadata": {},
     "output_type": "execute_result"
    }
   ],
   "source": [
    "df['SMD460'].value_counts()\n",
    "#df['SMD470'].value_counts()"
   ]
  },
  {
   "cell_type": "code",
   "execution_count": 411,
   "metadata": {},
   "outputs": [],
   "source": [
    "# Game Plan\n",
    "\n",
    "col = 'SMD460'\n",
    "df[col].values[df[col].values < 1] = 0\n",
    "df.loc[df[col] == 777, col] = 3\n",
    "df[col].fillna(0, inplace=True)\n",
    "\n",
    "\n",
    "col = 'SMD470'\n",
    "df[col].values[df[col].values < 1] = 0\n",
    "df[col].fillna(0, inplace=True)"
   ]
  },
  {
   "cell_type": "code",
   "execution_count": 412,
   "metadata": {},
   "outputs": [],
   "source": [
    "# Dummies\n",
    "\n",
    "need_dummies = ['SMD460', 'SMD470']\n",
    "df = pd.get_dummies(df, columns = need_dummies, drop_first = True)"
   ]
  },
  {
   "cell_type": "code",
   "execution_count": 414,
   "metadata": {},
   "outputs": [],
   "source": [
    "Final_Household_Smoking_df = df"
   ]
  },
  {
   "cell_type": "code",
   "execution_count": 415,
   "metadata": {},
   "outputs": [],
   "source": [
    "Final_Household_Smoking_df.to_csv('Cleaned_Household_Smoking.csv')"
   ]
  },
  {
   "cell_type": "code",
   "execution_count": 466,
   "metadata": {},
   "outputs": [
    {
     "data": {
      "text/plain": [
       "(5992, 7)"
      ]
     },
     "execution_count": 466,
     "metadata": {},
     "output_type": "execute_result"
    }
   ],
   "source": [
    "Final_Household_Smoking_df.shape"
   ]
  },
  {
   "cell_type": "code",
   "execution_count": null,
   "metadata": {},
   "outputs": [],
   "source": []
  },
  {
   "cell_type": "markdown",
   "metadata": {},
   "source": [
    "<div class=\"alert alert-block alert-warning\">\n",
    "\n",
    "# 17. Weight History\n",
    "\n",
    "   * WHD050 - Self-reported weight - 1 yr ago (pounds)\n",
    "       * Range\n",
    "       * Game Plan:\n",
    "           * 7777, 9999 -> Current Weight\n",
    "  \n",
    "   * WHD140 - Self-reported greatest weight (pounds)\n",
    "       * Range\n",
    "       * Game Plan:\n",
    "           * 7777 -> Current Weight\n",
    "           * 9999 -> Current Weight\n",
    "  \n",
    "   * WHQ150 - Age when heaviest weight\n",
    "       * Range\n",
    "       * Game Plan:\n",
    "           * Nan -> Current Age\n",
    "           * 99999 -> Current Age\n",
    "  \n",
    "   * WHQ225 - Times lost 10 lbs or more to lose weight\n",
    "       * Categorical 1-5\n",
    "       * Game Plan:\n",
    "           * 7, 9 -> 5 ('Never', mode)\n",
    "   \n",
    "   * WHQ030 - How do you consider your weight\n",
    "       * Categorical 1-3\n",
    "       * Game Plan:\n",
    "           * 7 -> 1\n",
    "           * 9 -> 3"
   ]
  },
  {
   "cell_type": "code",
   "execution_count": 464,
   "metadata": {
    "scrolled": true
   },
   "outputs": [
    {
     "name": "stdout",
     "output_type": "stream",
     "text": [
      "Weight History Shape: (6327, 6)\n"
     ]
    },
    {
     "data": {
      "text/html": [
       "<div>\n",
       "<style scoped>\n",
       "    .dataframe tbody tr th:only-of-type {\n",
       "        vertical-align: middle;\n",
       "    }\n",
       "\n",
       "    .dataframe tbody tr th {\n",
       "        vertical-align: top;\n",
       "    }\n",
       "\n",
       "    .dataframe thead th {\n",
       "        text-align: right;\n",
       "    }\n",
       "</style>\n",
       "<table border=\"1\" class=\"dataframe\">\n",
       "  <thead>\n",
       "    <tr style=\"text-align: right;\">\n",
       "      <th></th>\n",
       "      <th>SEQN</th>\n",
       "      <th>WHD050</th>\n",
       "      <th>WHD140</th>\n",
       "      <th>WHQ150</th>\n",
       "      <th>WHQ225</th>\n",
       "      <th>WHQ030</th>\n",
       "    </tr>\n",
       "  </thead>\n",
       "  <tbody>\n",
       "    <tr>\n",
       "      <th>0</th>\n",
       "      <td>83732.0</td>\n",
       "      <td>225.0</td>\n",
       "      <td>260.0</td>\n",
       "      <td>20.0</td>\n",
       "      <td>2.0</td>\n",
       "      <td>3.0</td>\n",
       "    </tr>\n",
       "    <tr>\n",
       "      <th>1</th>\n",
       "      <td>83733.0</td>\n",
       "      <td>191.0</td>\n",
       "      <td>205.0</td>\n",
       "      <td>51.0</td>\n",
       "      <td>5.0</td>\n",
       "      <td>1.0</td>\n",
       "    </tr>\n",
       "    <tr>\n",
       "      <th>2</th>\n",
       "      <td>83734.0</td>\n",
       "      <td>212.0</td>\n",
       "      <td>240.0</td>\n",
       "      <td>46.0</td>\n",
       "      <td>1.0</td>\n",
       "      <td>3.0</td>\n",
       "    </tr>\n",
       "    <tr>\n",
       "      <th>3</th>\n",
       "      <td>83735.0</td>\n",
       "      <td>220.0</td>\n",
       "      <td>240.0</td>\n",
       "      <td>55.0</td>\n",
       "      <td>2.0</td>\n",
       "      <td>1.0</td>\n",
       "    </tr>\n",
       "    <tr>\n",
       "      <th>4</th>\n",
       "      <td>83736.0</td>\n",
       "      <td>135.0</td>\n",
       "      <td>135.0</td>\n",
       "      <td>33.0</td>\n",
       "      <td>5.0</td>\n",
       "      <td>2.0</td>\n",
       "    </tr>\n",
       "  </tbody>\n",
       "</table>\n",
       "</div>"
      ],
      "text/plain": [
       "      SEQN  WHD050  WHD140  WHQ150  WHQ225  WHQ030\n",
       "0  83732.0   225.0   260.0    20.0     2.0     3.0\n",
       "1  83733.0   191.0   205.0    51.0     5.0     1.0\n",
       "2  83734.0   212.0   240.0    46.0     1.0     3.0\n",
       "3  83735.0   220.0   240.0    55.0     2.0     1.0\n",
       "4  83736.0   135.0   135.0    33.0     5.0     2.0"
      ]
     },
     "execution_count": 464,
     "metadata": {},
     "output_type": "execute_result"
    }
   ],
   "source": [
    "weight_history_columns = ['SEQN', 'WHD050', 'WHD140', 'WHQ150', 'WHQ225', 'WHQ030']\n",
    "df = Preprocess_Q_Weight_History_df[weight_history_columns]\n",
    "print ('Weight History Shape: ' + str(df.shape))\n",
    "df.head()"
   ]
  },
  {
   "cell_type": "code",
   "execution_count": null,
   "metadata": {},
   "outputs": [],
   "source": []
  },
  {
   "cell_type": "code",
   "execution_count": 468,
   "metadata": {},
   "outputs": [
    {
     "name": "stdout",
     "output_type": "stream",
     "text": [
      "Body Measures: (5735, 7)\n"
     ]
    },
    {
     "data": {
      "text/html": [
       "<div>\n",
       "<style scoped>\n",
       "    .dataframe tbody tr th:only-of-type {\n",
       "        vertical-align: middle;\n",
       "    }\n",
       "\n",
       "    .dataframe tbody tr th {\n",
       "        vertical-align: top;\n",
       "    }\n",
       "\n",
       "    .dataframe thead th {\n",
       "        text-align: right;\n",
       "    }\n",
       "</style>\n",
       "<table border=\"1\" class=\"dataframe\">\n",
       "  <thead>\n",
       "    <tr style=\"text-align: right;\">\n",
       "      <th></th>\n",
       "      <th>Unnamed: 0</th>\n",
       "      <th>SEQN</th>\n",
       "      <th>Weight (kg)</th>\n",
       "      <th>Standing Height (cm)</th>\n",
       "      <th>BMI</th>\n",
       "      <th>Waist Circumference (cm)</th>\n",
       "      <th>Age</th>\n",
       "    </tr>\n",
       "  </thead>\n",
       "  <tbody>\n",
       "    <tr>\n",
       "      <th>0</th>\n",
       "      <td>0</td>\n",
       "      <td>83732.0</td>\n",
       "      <td>94.8</td>\n",
       "      <td>184.5</td>\n",
       "      <td>27.8</td>\n",
       "      <td>101.1</td>\n",
       "      <td>62.0</td>\n",
       "    </tr>\n",
       "    <tr>\n",
       "      <th>1</th>\n",
       "      <td>1</td>\n",
       "      <td>83733.0</td>\n",
       "      <td>90.4</td>\n",
       "      <td>171.4</td>\n",
       "      <td>30.8</td>\n",
       "      <td>107.9</td>\n",
       "      <td>53.0</td>\n",
       "    </tr>\n",
       "    <tr>\n",
       "      <th>2</th>\n",
       "      <td>2</td>\n",
       "      <td>83734.0</td>\n",
       "      <td>83.4</td>\n",
       "      <td>170.1</td>\n",
       "      <td>28.8</td>\n",
       "      <td>116.5</td>\n",
       "      <td>78.0</td>\n",
       "    </tr>\n",
       "    <tr>\n",
       "      <th>3</th>\n",
       "      <td>3</td>\n",
       "      <td>83735.0</td>\n",
       "      <td>109.8</td>\n",
       "      <td>160.9</td>\n",
       "      <td>42.4</td>\n",
       "      <td>110.1</td>\n",
       "      <td>56.0</td>\n",
       "    </tr>\n",
       "    <tr>\n",
       "      <th>4</th>\n",
       "      <td>4</td>\n",
       "      <td>83736.0</td>\n",
       "      <td>55.2</td>\n",
       "      <td>164.9</td>\n",
       "      <td>20.3</td>\n",
       "      <td>80.4</td>\n",
       "      <td>42.0</td>\n",
       "    </tr>\n",
       "  </tbody>\n",
       "</table>\n",
       "</div>"
      ],
      "text/plain": [
       "   Unnamed: 0     SEQN  Weight (kg)  Standing Height (cm)   BMI  \\\n",
       "0           0  83732.0         94.8                 184.5  27.8   \n",
       "1           1  83733.0         90.4                 171.4  30.8   \n",
       "2           2  83734.0         83.4                 170.1  28.8   \n",
       "3           3  83735.0        109.8                 160.9  42.4   \n",
       "4           4  83736.0         55.2                 164.9  20.3   \n",
       "\n",
       "   Waist Circumference (cm)   Age  \n",
       "0                     101.1  62.0  \n",
       "1                     107.9  53.0  \n",
       "2                     116.5  78.0  \n",
       "3                     110.1  56.0  \n",
       "4                      80.4  42.0  "
      ]
     },
     "execution_count": 468,
     "metadata": {},
     "output_type": "execute_result"
    }
   ],
   "source": [
    "weight_df = pd.read_csv('Cleaned_Body_Measures.csv')\n",
    "print ('Body Measures: ' + str(weight_df.shape))\n",
    "weight_df.head()"
   ]
  },
  {
   "cell_type": "code",
   "execution_count": 467,
   "metadata": {
    "scrolled": true
   },
   "outputs": [
    {
     "name": "stdout",
     "output_type": "stream",
     "text": [
      "Weight History Shape: (5992, 7)\n"
     ]
    },
    {
     "data": {
      "text/html": [
       "<div>\n",
       "<style scoped>\n",
       "    .dataframe tbody tr th:only-of-type {\n",
       "        vertical-align: middle;\n",
       "    }\n",
       "\n",
       "    .dataframe tbody tr th {\n",
       "        vertical-align: top;\n",
       "    }\n",
       "\n",
       "    .dataframe thead th {\n",
       "        text-align: right;\n",
       "    }\n",
       "</style>\n",
       "<table border=\"1\" class=\"dataframe\">\n",
       "  <thead>\n",
       "    <tr style=\"text-align: right;\">\n",
       "      <th></th>\n",
       "      <th>SEQN</th>\n",
       "      <th>WHD050</th>\n",
       "      <th>WHD140</th>\n",
       "      <th>WHQ150</th>\n",
       "      <th>WHQ225</th>\n",
       "      <th>WHQ030</th>\n",
       "      <th>Age</th>\n",
       "    </tr>\n",
       "  </thead>\n",
       "  <tbody>\n",
       "    <tr>\n",
       "      <th>0</th>\n",
       "      <td>83732.0</td>\n",
       "      <td>225.0</td>\n",
       "      <td>260.0</td>\n",
       "      <td>20.0</td>\n",
       "      <td>2.0</td>\n",
       "      <td>3.0</td>\n",
       "      <td>62.0</td>\n",
       "    </tr>\n",
       "    <tr>\n",
       "      <th>1</th>\n",
       "      <td>83733.0</td>\n",
       "      <td>191.0</td>\n",
       "      <td>205.0</td>\n",
       "      <td>51.0</td>\n",
       "      <td>5.0</td>\n",
       "      <td>1.0</td>\n",
       "      <td>53.0</td>\n",
       "    </tr>\n",
       "    <tr>\n",
       "      <th>2</th>\n",
       "      <td>83734.0</td>\n",
       "      <td>212.0</td>\n",
       "      <td>240.0</td>\n",
       "      <td>46.0</td>\n",
       "      <td>1.0</td>\n",
       "      <td>3.0</td>\n",
       "      <td>78.0</td>\n",
       "    </tr>\n",
       "    <tr>\n",
       "      <th>3</th>\n",
       "      <td>83735.0</td>\n",
       "      <td>220.0</td>\n",
       "      <td>240.0</td>\n",
       "      <td>55.0</td>\n",
       "      <td>2.0</td>\n",
       "      <td>1.0</td>\n",
       "      <td>56.0</td>\n",
       "    </tr>\n",
       "    <tr>\n",
       "      <th>4</th>\n",
       "      <td>83736.0</td>\n",
       "      <td>135.0</td>\n",
       "      <td>135.0</td>\n",
       "      <td>33.0</td>\n",
       "      <td>5.0</td>\n",
       "      <td>2.0</td>\n",
       "      <td>42.0</td>\n",
       "    </tr>\n",
       "  </tbody>\n",
       "</table>\n",
       "</div>"
      ],
      "text/plain": [
       "      SEQN  WHD050  WHD140  WHQ150  WHQ225  WHQ030   Age\n",
       "0  83732.0   225.0   260.0    20.0     2.0     3.0  62.0\n",
       "1  83733.0   191.0   205.0    51.0     5.0     1.0  53.0\n",
       "2  83734.0   212.0   240.0    46.0     1.0     3.0  78.0\n",
       "3  83735.0   220.0   240.0    55.0     2.0     1.0  56.0\n",
       "4  83736.0   135.0   135.0    33.0     5.0     2.0  42.0"
      ]
     },
     "execution_count": 467,
     "metadata": {},
     "output_type": "execute_result"
    }
   ],
   "source": [
    "df = pd.merge(df, age_df, on=\"SEQN\")\n",
    "df = df.drop(df[df.Age < 18].index)\n",
    "print ('Weight History Shape: ' + str(df.shape))\n",
    "# df = df.drop('Age', axis = 1)\n",
    "df.head()"
   ]
  },
  {
   "cell_type": "code",
   "execution_count": null,
   "metadata": {},
   "outputs": [],
   "source": []
  },
  {
   "cell_type": "code",
   "execution_count": 470,
   "metadata": {},
   "outputs": [
    {
     "name": "stdout",
     "output_type": "stream",
     "text": [
      "Weight History Shape: (5735, 8)\n"
     ]
    },
    {
     "data": {
      "text/html": [
       "<div>\n",
       "<style scoped>\n",
       "    .dataframe tbody tr th:only-of-type {\n",
       "        vertical-align: middle;\n",
       "    }\n",
       "\n",
       "    .dataframe tbody tr th {\n",
       "        vertical-align: top;\n",
       "    }\n",
       "\n",
       "    .dataframe thead th {\n",
       "        text-align: right;\n",
       "    }\n",
       "</style>\n",
       "<table border=\"1\" class=\"dataframe\">\n",
       "  <thead>\n",
       "    <tr style=\"text-align: right;\">\n",
       "      <th></th>\n",
       "      <th>SEQN</th>\n",
       "      <th>WHD050</th>\n",
       "      <th>WHD140</th>\n",
       "      <th>WHQ150</th>\n",
       "      <th>WHQ225</th>\n",
       "      <th>WHQ030</th>\n",
       "      <th>Age</th>\n",
       "      <th>Weight (kg)</th>\n",
       "    </tr>\n",
       "  </thead>\n",
       "  <tbody>\n",
       "    <tr>\n",
       "      <th>0</th>\n",
       "      <td>83732.0</td>\n",
       "      <td>225.0</td>\n",
       "      <td>260.0</td>\n",
       "      <td>20.0</td>\n",
       "      <td>2.0</td>\n",
       "      <td>3.0</td>\n",
       "      <td>62.0</td>\n",
       "      <td>94.8</td>\n",
       "    </tr>\n",
       "    <tr>\n",
       "      <th>1</th>\n",
       "      <td>83733.0</td>\n",
       "      <td>191.0</td>\n",
       "      <td>205.0</td>\n",
       "      <td>51.0</td>\n",
       "      <td>5.0</td>\n",
       "      <td>1.0</td>\n",
       "      <td>53.0</td>\n",
       "      <td>90.4</td>\n",
       "    </tr>\n",
       "    <tr>\n",
       "      <th>2</th>\n",
       "      <td>83734.0</td>\n",
       "      <td>212.0</td>\n",
       "      <td>240.0</td>\n",
       "      <td>46.0</td>\n",
       "      <td>1.0</td>\n",
       "      <td>3.0</td>\n",
       "      <td>78.0</td>\n",
       "      <td>83.4</td>\n",
       "    </tr>\n",
       "    <tr>\n",
       "      <th>3</th>\n",
       "      <td>83735.0</td>\n",
       "      <td>220.0</td>\n",
       "      <td>240.0</td>\n",
       "      <td>55.0</td>\n",
       "      <td>2.0</td>\n",
       "      <td>1.0</td>\n",
       "      <td>56.0</td>\n",
       "      <td>109.8</td>\n",
       "    </tr>\n",
       "    <tr>\n",
       "      <th>4</th>\n",
       "      <td>83736.0</td>\n",
       "      <td>135.0</td>\n",
       "      <td>135.0</td>\n",
       "      <td>33.0</td>\n",
       "      <td>5.0</td>\n",
       "      <td>2.0</td>\n",
       "      <td>42.0</td>\n",
       "      <td>55.2</td>\n",
       "    </tr>\n",
       "  </tbody>\n",
       "</table>\n",
       "</div>"
      ],
      "text/plain": [
       "      SEQN  WHD050  WHD140  WHQ150  WHQ225  WHQ030   Age  Weight (kg)\n",
       "0  83732.0   225.0   260.0    20.0     2.0     3.0  62.0         94.8\n",
       "1  83733.0   191.0   205.0    51.0     5.0     1.0  53.0         90.4\n",
       "2  83734.0   212.0   240.0    46.0     1.0     3.0  78.0         83.4\n",
       "3  83735.0   220.0   240.0    55.0     2.0     1.0  56.0        109.8\n",
       "4  83736.0   135.0   135.0    33.0     5.0     2.0  42.0         55.2"
      ]
     },
     "execution_count": 470,
     "metadata": {},
     "output_type": "execute_result"
    }
   ],
   "source": [
    "df = pd.merge(df, weight_df[['SEQN','Weight (kg)']], on=\"SEQN\")\n",
    "print ('Weight History Shape: ' + str(df.shape))\n",
    "df.head()"
   ]
  },
  {
   "cell_type": "code",
   "execution_count": 473,
   "metadata": {},
   "outputs": [
    {
     "name": "stdout",
     "output_type": "stream",
     "text": [
      "0\n",
      "0\n",
      "0\n",
      "0\n",
      "0\n"
     ]
    }
   ],
   "source": [
    "print (df['WHD050'].isnull().sum(axis = 0))\n",
    "print (df['WHD140'].isnull().sum(axis = 0))\n",
    "print (df['WHQ150'].isnull().sum(axis = 0))\n",
    "print (df['WHQ225'].isnull().sum(axis = 0))\n",
    "print (df['WHQ030'].isnull().sum(axis = 0))\n"
   ]
  },
  {
   "cell_type": "code",
   "execution_count": 478,
   "metadata": {},
   "outputs": [
    {
     "data": {
      "text/plain": [
       "1.0    2858\n",
       "3.0    2532\n",
       "2.0     345\n",
       "Name: WHQ030, dtype: int64"
      ]
     },
     "execution_count": 478,
     "metadata": {},
     "output_type": "execute_result"
    }
   ],
   "source": [
    "df['WHD050'].value_counts()\n",
    "df['WHD140'].value_counts()\n",
    "df['WHQ150'].value_counts()\n",
    "df['WHQ225'].value_counts()\n",
    "df['WHQ030'].value_counts()\n"
   ]
  },
  {
   "cell_type": "code",
   "execution_count": null,
   "metadata": {},
   "outputs": [],
   "source": []
  },
  {
   "cell_type": "code",
   "execution_count": 472,
   "metadata": {},
   "outputs": [],
   "source": [
    "# Game Plan\n",
    "\n",
    "col = 'WHD050'\n",
    "df.loc[df[col] == 7777, col] = np.NaN\n",
    "df[col].fillna(df['Age'], inplace=True)\n",
    "df.loc[df[col] == 9999, col] = np.NaN\n",
    "df[col].fillna(df['Age'], inplace=True)\n",
    "\n",
    "col = 'WHD140'\n",
    "\n",
    "df.loc[df[col] == 7777, col] = np.NaN\n",
    "df[col].fillna(df['Weight (kg)'], inplace=True)\n",
    "df.loc[df[col] == 9999, col] = np.NaN\n",
    "df[col].fillna(df['Weight (kg)'], inplace=True)\n",
    "\n",
    "col = 'WHQ150'\n",
    "df[col].fillna(df['Age'], inplace=True)\n",
    "df.loc[df[col] == 99999, col] = np.NaN\n",
    "df[col].fillna(df['Age'], inplace=True)\n",
    "\n",
    "col = 'WHQ225'\n",
    "df.loc[df[col] == 7, col] = 5\n",
    "df.loc[df[col] == 9, col] = 5\n",
    "\n",
    "col = 'WHQ030'\n",
    "df.loc[df[col] == 7, col] = 1\n",
    "df.loc[df[col] == 9, col] = 3\n"
   ]
  },
  {
   "cell_type": "code",
   "execution_count": 479,
   "metadata": {},
   "outputs": [],
   "source": [
    "# Dummies\n",
    "\n",
    "need_dummies = ['WHQ225', 'WHQ030']\n",
    "df = pd.get_dummies(df, columns = need_dummies, drop_first = True)"
   ]
  },
  {
   "cell_type": "code",
   "execution_count": 480,
   "metadata": {},
   "outputs": [
    {
     "data": {
      "text/html": [
       "<div>\n",
       "<style scoped>\n",
       "    .dataframe tbody tr th:only-of-type {\n",
       "        vertical-align: middle;\n",
       "    }\n",
       "\n",
       "    .dataframe tbody tr th {\n",
       "        vertical-align: top;\n",
       "    }\n",
       "\n",
       "    .dataframe thead th {\n",
       "        text-align: right;\n",
       "    }\n",
       "</style>\n",
       "<table border=\"1\" class=\"dataframe\">\n",
       "  <thead>\n",
       "    <tr style=\"text-align: right;\">\n",
       "      <th></th>\n",
       "      <th>SEQN</th>\n",
       "      <th>WHD050</th>\n",
       "      <th>WHD140</th>\n",
       "      <th>WHQ150</th>\n",
       "      <th>Age</th>\n",
       "      <th>Weight (kg)</th>\n",
       "      <th>WHQ225_2.0</th>\n",
       "      <th>WHQ225_3.0</th>\n",
       "      <th>WHQ225_4.0</th>\n",
       "      <th>WHQ225_5.0</th>\n",
       "      <th>WHQ030_2.0</th>\n",
       "      <th>WHQ030_3.0</th>\n",
       "    </tr>\n",
       "  </thead>\n",
       "  <tbody>\n",
       "    <tr>\n",
       "      <th>0</th>\n",
       "      <td>83732.0</td>\n",
       "      <td>225.0</td>\n",
       "      <td>260.0</td>\n",
       "      <td>20.0</td>\n",
       "      <td>62.0</td>\n",
       "      <td>94.8</td>\n",
       "      <td>1</td>\n",
       "      <td>0</td>\n",
       "      <td>0</td>\n",
       "      <td>0</td>\n",
       "      <td>0</td>\n",
       "      <td>1</td>\n",
       "    </tr>\n",
       "    <tr>\n",
       "      <th>1</th>\n",
       "      <td>83733.0</td>\n",
       "      <td>191.0</td>\n",
       "      <td>205.0</td>\n",
       "      <td>51.0</td>\n",
       "      <td>53.0</td>\n",
       "      <td>90.4</td>\n",
       "      <td>0</td>\n",
       "      <td>0</td>\n",
       "      <td>0</td>\n",
       "      <td>1</td>\n",
       "      <td>0</td>\n",
       "      <td>0</td>\n",
       "    </tr>\n",
       "    <tr>\n",
       "      <th>2</th>\n",
       "      <td>83734.0</td>\n",
       "      <td>212.0</td>\n",
       "      <td>240.0</td>\n",
       "      <td>46.0</td>\n",
       "      <td>78.0</td>\n",
       "      <td>83.4</td>\n",
       "      <td>0</td>\n",
       "      <td>0</td>\n",
       "      <td>0</td>\n",
       "      <td>0</td>\n",
       "      <td>0</td>\n",
       "      <td>1</td>\n",
       "    </tr>\n",
       "    <tr>\n",
       "      <th>3</th>\n",
       "      <td>83735.0</td>\n",
       "      <td>220.0</td>\n",
       "      <td>240.0</td>\n",
       "      <td>55.0</td>\n",
       "      <td>56.0</td>\n",
       "      <td>109.8</td>\n",
       "      <td>1</td>\n",
       "      <td>0</td>\n",
       "      <td>0</td>\n",
       "      <td>0</td>\n",
       "      <td>0</td>\n",
       "      <td>0</td>\n",
       "    </tr>\n",
       "    <tr>\n",
       "      <th>4</th>\n",
       "      <td>83736.0</td>\n",
       "      <td>135.0</td>\n",
       "      <td>135.0</td>\n",
       "      <td>33.0</td>\n",
       "      <td>42.0</td>\n",
       "      <td>55.2</td>\n",
       "      <td>0</td>\n",
       "      <td>0</td>\n",
       "      <td>0</td>\n",
       "      <td>1</td>\n",
       "      <td>1</td>\n",
       "      <td>0</td>\n",
       "    </tr>\n",
       "  </tbody>\n",
       "</table>\n",
       "</div>"
      ],
      "text/plain": [
       "      SEQN  WHD050  WHD140  WHQ150   Age  Weight (kg)  WHQ225_2.0  WHQ225_3.0  \\\n",
       "0  83732.0   225.0   260.0    20.0  62.0         94.8           1           0   \n",
       "1  83733.0   191.0   205.0    51.0  53.0         90.4           0           0   \n",
       "2  83734.0   212.0   240.0    46.0  78.0         83.4           0           0   \n",
       "3  83735.0   220.0   240.0    55.0  56.0        109.8           1           0   \n",
       "4  83736.0   135.0   135.0    33.0  42.0         55.2           0           0   \n",
       "\n",
       "   WHQ225_4.0  WHQ225_5.0  WHQ030_2.0  WHQ030_3.0  \n",
       "0           0           0           0           1  \n",
       "1           0           1           0           0  \n",
       "2           0           0           0           1  \n",
       "3           0           0           0           0  \n",
       "4           0           1           1           0  "
      ]
     },
     "execution_count": 480,
     "metadata": {},
     "output_type": "execute_result"
    }
   ],
   "source": [
    "df.head()"
   ]
  },
  {
   "cell_type": "code",
   "execution_count": 481,
   "metadata": {},
   "outputs": [
    {
     "data": {
      "text/html": [
       "<div>\n",
       "<style scoped>\n",
       "    .dataframe tbody tr th:only-of-type {\n",
       "        vertical-align: middle;\n",
       "    }\n",
       "\n",
       "    .dataframe tbody tr th {\n",
       "        vertical-align: top;\n",
       "    }\n",
       "\n",
       "    .dataframe thead th {\n",
       "        text-align: right;\n",
       "    }\n",
       "</style>\n",
       "<table border=\"1\" class=\"dataframe\">\n",
       "  <thead>\n",
       "    <tr style=\"text-align: right;\">\n",
       "      <th></th>\n",
       "      <th>SEQN</th>\n",
       "      <th>WHD050</th>\n",
       "      <th>WHD140</th>\n",
       "      <th>WHQ150</th>\n",
       "      <th>WHQ225_2.0</th>\n",
       "      <th>WHQ225_3.0</th>\n",
       "      <th>WHQ225_4.0</th>\n",
       "      <th>WHQ225_5.0</th>\n",
       "      <th>WHQ030_2.0</th>\n",
       "      <th>WHQ030_3.0</th>\n",
       "    </tr>\n",
       "  </thead>\n",
       "  <tbody>\n",
       "    <tr>\n",
       "      <th>0</th>\n",
       "      <td>83732.0</td>\n",
       "      <td>225.0</td>\n",
       "      <td>260.0</td>\n",
       "      <td>20.0</td>\n",
       "      <td>1</td>\n",
       "      <td>0</td>\n",
       "      <td>0</td>\n",
       "      <td>0</td>\n",
       "      <td>0</td>\n",
       "      <td>1</td>\n",
       "    </tr>\n",
       "    <tr>\n",
       "      <th>1</th>\n",
       "      <td>83733.0</td>\n",
       "      <td>191.0</td>\n",
       "      <td>205.0</td>\n",
       "      <td>51.0</td>\n",
       "      <td>0</td>\n",
       "      <td>0</td>\n",
       "      <td>0</td>\n",
       "      <td>1</td>\n",
       "      <td>0</td>\n",
       "      <td>0</td>\n",
       "    </tr>\n",
       "    <tr>\n",
       "      <th>2</th>\n",
       "      <td>83734.0</td>\n",
       "      <td>212.0</td>\n",
       "      <td>240.0</td>\n",
       "      <td>46.0</td>\n",
       "      <td>0</td>\n",
       "      <td>0</td>\n",
       "      <td>0</td>\n",
       "      <td>0</td>\n",
       "      <td>0</td>\n",
       "      <td>1</td>\n",
       "    </tr>\n",
       "    <tr>\n",
       "      <th>3</th>\n",
       "      <td>83735.0</td>\n",
       "      <td>220.0</td>\n",
       "      <td>240.0</td>\n",
       "      <td>55.0</td>\n",
       "      <td>1</td>\n",
       "      <td>0</td>\n",
       "      <td>0</td>\n",
       "      <td>0</td>\n",
       "      <td>0</td>\n",
       "      <td>0</td>\n",
       "    </tr>\n",
       "    <tr>\n",
       "      <th>4</th>\n",
       "      <td>83736.0</td>\n",
       "      <td>135.0</td>\n",
       "      <td>135.0</td>\n",
       "      <td>33.0</td>\n",
       "      <td>0</td>\n",
       "      <td>0</td>\n",
       "      <td>0</td>\n",
       "      <td>1</td>\n",
       "      <td>1</td>\n",
       "      <td>0</td>\n",
       "    </tr>\n",
       "  </tbody>\n",
       "</table>\n",
       "</div>"
      ],
      "text/plain": [
       "      SEQN  WHD050  WHD140  WHQ150  WHQ225_2.0  WHQ225_3.0  WHQ225_4.0  \\\n",
       "0  83732.0   225.0   260.0    20.0           1           0           0   \n",
       "1  83733.0   191.0   205.0    51.0           0           0           0   \n",
       "2  83734.0   212.0   240.0    46.0           0           0           0   \n",
       "3  83735.0   220.0   240.0    55.0           1           0           0   \n",
       "4  83736.0   135.0   135.0    33.0           0           0           0   \n",
       "\n",
       "   WHQ225_5.0  WHQ030_2.0  WHQ030_3.0  \n",
       "0           0           0           1  \n",
       "1           1           0           0  \n",
       "2           0           0           1  \n",
       "3           0           0           0  \n",
       "4           1           1           0  "
      ]
     },
     "execution_count": 481,
     "metadata": {},
     "output_type": "execute_result"
    }
   ],
   "source": [
    "Final_Weight_History_df = df.drop(['Age', 'Weight (kg)'], axis = 1)\n",
    "Final_Weight_History_df.head()"
   ]
  },
  {
   "cell_type": "code",
   "execution_count": 482,
   "metadata": {},
   "outputs": [],
   "source": [
    "Final_Weight_History_df.to_csv('Cleaned_Weight_History.csv')"
   ]
  },
  {
   "cell_type": "code",
   "execution_count": null,
   "metadata": {},
   "outputs": [],
   "source": []
  },
  {
   "cell_type": "code",
   "execution_count": null,
   "metadata": {},
   "outputs": [],
   "source": []
  },
  {
   "cell_type": "code",
   "execution_count": null,
   "metadata": {},
   "outputs": [],
   "source": []
  },
  {
   "cell_type": "markdown",
   "metadata": {},
   "source": [
    "<div class=\"alert alert-block alert-warning\">\n",
    "\n",
    "# 17. Next Dataframe\n",
    "\n",
    "# Hopefully Not!!\n"
   ]
  },
  {
   "cell_type": "code",
   "execution_count": 416,
   "metadata": {
    "scrolled": false
   },
   "outputs": [
    {
     "name": "stdout",
     "output_type": "stream",
     "text": [
      "Weight History Shape: (6327, 26)\n"
     ]
    },
    {
     "data": {
      "text/html": [
       "<div>\n",
       "<style scoped>\n",
       "    .dataframe tbody tr th:only-of-type {\n",
       "        vertical-align: middle;\n",
       "    }\n",
       "\n",
       "    .dataframe tbody tr th {\n",
       "        vertical-align: top;\n",
       "    }\n",
       "\n",
       "    .dataframe thead th {\n",
       "        text-align: right;\n",
       "    }\n",
       "</style>\n",
       "<table border=\"1\" class=\"dataframe\">\n",
       "  <thead>\n",
       "    <tr style=\"text-align: right;\">\n",
       "      <th></th>\n",
       "      <th>SEQN</th>\n",
       "      <th>WHD010</th>\n",
       "      <th>WHD020</th>\n",
       "      <th>WHD050</th>\n",
       "      <th>WHD080A</th>\n",
       "      <th>WHD080B</th>\n",
       "      <th>WHD080C</th>\n",
       "      <th>WHD080D</th>\n",
       "      <th>WHD080E</th>\n",
       "      <th>WHD080F</th>\n",
       "      <th>...</th>\n",
       "      <th>WHD080N</th>\n",
       "      <th>WHD080O</th>\n",
       "      <th>WHD080P</th>\n",
       "      <th>WHD080Q</th>\n",
       "      <th>WHD080R</th>\n",
       "      <th>WHD080S</th>\n",
       "      <th>WHD080T</th>\n",
       "      <th>WHD080U</th>\n",
       "      <th>WHQ225</th>\n",
       "      <th>WHD080S</th>\n",
       "    </tr>\n",
       "  </thead>\n",
       "  <tbody>\n",
       "    <tr>\n",
       "      <th>0</th>\n",
       "      <td>83732.0</td>\n",
       "      <td>74.0</td>\n",
       "      <td>212.0</td>\n",
       "      <td>225.0</td>\n",
       "      <td>10.0</td>\n",
       "      <td>NaN</td>\n",
       "      <td>NaN</td>\n",
       "      <td>13.0</td>\n",
       "      <td>NaN</td>\n",
       "      <td>NaN</td>\n",
       "      <td>...</td>\n",
       "      <td>NaN</td>\n",
       "      <td>41.0</td>\n",
       "      <td>NaN</td>\n",
       "      <td>43.0</td>\n",
       "      <td>NaN</td>\n",
       "      <td>NaN</td>\n",
       "      <td>46.0</td>\n",
       "      <td>NaN</td>\n",
       "      <td>2.0</td>\n",
       "      <td>NaN</td>\n",
       "    </tr>\n",
       "    <tr>\n",
       "      <th>1</th>\n",
       "      <td>83733.0</td>\n",
       "      <td>68.0</td>\n",
       "      <td>193.0</td>\n",
       "      <td>191.0</td>\n",
       "      <td>NaN</td>\n",
       "      <td>NaN</td>\n",
       "      <td>NaN</td>\n",
       "      <td>NaN</td>\n",
       "      <td>NaN</td>\n",
       "      <td>NaN</td>\n",
       "      <td>...</td>\n",
       "      <td>NaN</td>\n",
       "      <td>NaN</td>\n",
       "      <td>NaN</td>\n",
       "      <td>NaN</td>\n",
       "      <td>NaN</td>\n",
       "      <td>NaN</td>\n",
       "      <td>NaN</td>\n",
       "      <td>NaN</td>\n",
       "      <td>5.0</td>\n",
       "      <td>NaN</td>\n",
       "    </tr>\n",
       "    <tr>\n",
       "      <th>2</th>\n",
       "      <td>83734.0</td>\n",
       "      <td>69.0</td>\n",
       "      <td>182.0</td>\n",
       "      <td>212.0</td>\n",
       "      <td>10.0</td>\n",
       "      <td>NaN</td>\n",
       "      <td>NaN</td>\n",
       "      <td>NaN</td>\n",
       "      <td>NaN</td>\n",
       "      <td>NaN</td>\n",
       "      <td>...</td>\n",
       "      <td>NaN</td>\n",
       "      <td>NaN</td>\n",
       "      <td>NaN</td>\n",
       "      <td>43.0</td>\n",
       "      <td>NaN</td>\n",
       "      <td>NaN</td>\n",
       "      <td>NaN</td>\n",
       "      <td>NaN</td>\n",
       "      <td>1.0</td>\n",
       "      <td>NaN</td>\n",
       "    </tr>\n",
       "    <tr>\n",
       "      <th>3</th>\n",
       "      <td>83735.0</td>\n",
       "      <td>64.0</td>\n",
       "      <td>220.0</td>\n",
       "      <td>220.0</td>\n",
       "      <td>10.0</td>\n",
       "      <td>11.0</td>\n",
       "      <td>12.0</td>\n",
       "      <td>NaN</td>\n",
       "      <td>14.0</td>\n",
       "      <td>15.0</td>\n",
       "      <td>...</td>\n",
       "      <td>NaN</td>\n",
       "      <td>NaN</td>\n",
       "      <td>NaN</td>\n",
       "      <td>43.0</td>\n",
       "      <td>NaN</td>\n",
       "      <td>NaN</td>\n",
       "      <td>46.0</td>\n",
       "      <td>NaN</td>\n",
       "      <td>2.0</td>\n",
       "      <td>NaN</td>\n",
       "    </tr>\n",
       "    <tr>\n",
       "      <th>4</th>\n",
       "      <td>83736.0</td>\n",
       "      <td>64.0</td>\n",
       "      <td>125.0</td>\n",
       "      <td>135.0</td>\n",
       "      <td>NaN</td>\n",
       "      <td>NaN</td>\n",
       "      <td>NaN</td>\n",
       "      <td>NaN</td>\n",
       "      <td>NaN</td>\n",
       "      <td>NaN</td>\n",
       "      <td>...</td>\n",
       "      <td>NaN</td>\n",
       "      <td>NaN</td>\n",
       "      <td>NaN</td>\n",
       "      <td>NaN</td>\n",
       "      <td>NaN</td>\n",
       "      <td>NaN</td>\n",
       "      <td>NaN</td>\n",
       "      <td>NaN</td>\n",
       "      <td>5.0</td>\n",
       "      <td>NaN</td>\n",
       "    </tr>\n",
       "  </tbody>\n",
       "</table>\n",
       "<p>5 rows × 26 columns</p>\n",
       "</div>"
      ],
      "text/plain": [
       "      SEQN  WHD010  WHD020  WHD050  WHD080A  WHD080B  WHD080C  WHD080D  \\\n",
       "0  83732.0    74.0   212.0   225.0     10.0      NaN      NaN     13.0   \n",
       "1  83733.0    68.0   193.0   191.0      NaN      NaN      NaN      NaN   \n",
       "2  83734.0    69.0   182.0   212.0     10.0      NaN      NaN      NaN   \n",
       "3  83735.0    64.0   220.0   220.0     10.0     11.0     12.0      NaN   \n",
       "4  83736.0    64.0   125.0   135.0      NaN      NaN      NaN      NaN   \n",
       "\n",
       "   WHD080E  WHD080F   ...     WHD080N  WHD080O  WHD080P  WHD080Q  WHD080R  \\\n",
       "0      NaN      NaN   ...         NaN     41.0      NaN     43.0      NaN   \n",
       "1      NaN      NaN   ...         NaN      NaN      NaN      NaN      NaN   \n",
       "2      NaN      NaN   ...         NaN      NaN      NaN     43.0      NaN   \n",
       "3     14.0     15.0   ...         NaN      NaN      NaN     43.0      NaN   \n",
       "4      NaN      NaN   ...         NaN      NaN      NaN      NaN      NaN   \n",
       "\n",
       "   WHD080S  WHD080T  WHD080U  WHQ225  WHD080S  \n",
       "0      NaN     46.0      NaN     2.0      NaN  \n",
       "1      NaN      NaN      NaN     5.0      NaN  \n",
       "2      NaN      NaN      NaN     1.0      NaN  \n",
       "3      NaN     46.0      NaN     2.0      NaN  \n",
       "4      NaN      NaN      NaN     5.0      NaN  \n",
       "\n",
       "[5 rows x 26 columns]"
      ]
     },
     "execution_count": 416,
     "metadata": {},
     "output_type": "execute_result"
    }
   ],
   "source": [
    "weight_history_columns = ['SEQN', 'WHD010', 'WHD020', 'WHD050', 'WHD080A', 'WHD080B', 'WHD080C']\n",
    "\n",
    "Weight_History_df = Preprocess_Q_Weight_History_df[weight_history_columns]\n",
    "print ('Weight History Shape: ' + str(Weight_History_df.shape))\n",
    "df = Weight_History_df\n",
    "df.head()"
   ]
  },
  {
   "cell_type": "code",
   "execution_count": 417,
   "metadata": {},
   "outputs": [
    {
     "name": "stdout",
     "output_type": "stream",
     "text": [
      "Weight History Shape: (5992, 27)\n"
     ]
    },
    {
     "data": {
      "text/html": [
       "<div>\n",
       "<style scoped>\n",
       "    .dataframe tbody tr th:only-of-type {\n",
       "        vertical-align: middle;\n",
       "    }\n",
       "\n",
       "    .dataframe tbody tr th {\n",
       "        vertical-align: top;\n",
       "    }\n",
       "\n",
       "    .dataframe thead th {\n",
       "        text-align: right;\n",
       "    }\n",
       "</style>\n",
       "<table border=\"1\" class=\"dataframe\">\n",
       "  <thead>\n",
       "    <tr style=\"text-align: right;\">\n",
       "      <th></th>\n",
       "      <th>SEQN</th>\n",
       "      <th>WHD010</th>\n",
       "      <th>WHD020</th>\n",
       "      <th>WHD050</th>\n",
       "      <th>WHD080A</th>\n",
       "      <th>WHD080B</th>\n",
       "      <th>WHD080C</th>\n",
       "      <th>WHD080D</th>\n",
       "      <th>WHD080E</th>\n",
       "      <th>WHD080F</th>\n",
       "      <th>...</th>\n",
       "      <th>WHD080N</th>\n",
       "      <th>WHD080O</th>\n",
       "      <th>WHD080P</th>\n",
       "      <th>WHD080Q</th>\n",
       "      <th>WHD080R</th>\n",
       "      <th>WHD080S</th>\n",
       "      <th>WHD080T</th>\n",
       "      <th>WHD080U</th>\n",
       "      <th>WHQ225</th>\n",
       "      <th>WHD080S</th>\n",
       "    </tr>\n",
       "  </thead>\n",
       "  <tbody>\n",
       "    <tr>\n",
       "      <th>0</th>\n",
       "      <td>83732.0</td>\n",
       "      <td>74.0</td>\n",
       "      <td>212.0</td>\n",
       "      <td>225.0</td>\n",
       "      <td>10.0</td>\n",
       "      <td>NaN</td>\n",
       "      <td>NaN</td>\n",
       "      <td>13.0</td>\n",
       "      <td>NaN</td>\n",
       "      <td>NaN</td>\n",
       "      <td>...</td>\n",
       "      <td>NaN</td>\n",
       "      <td>41.0</td>\n",
       "      <td>NaN</td>\n",
       "      <td>43.0</td>\n",
       "      <td>NaN</td>\n",
       "      <td>NaN</td>\n",
       "      <td>46.0</td>\n",
       "      <td>NaN</td>\n",
       "      <td>2.0</td>\n",
       "      <td>NaN</td>\n",
       "    </tr>\n",
       "    <tr>\n",
       "      <th>1</th>\n",
       "      <td>83733.0</td>\n",
       "      <td>68.0</td>\n",
       "      <td>193.0</td>\n",
       "      <td>191.0</td>\n",
       "      <td>NaN</td>\n",
       "      <td>NaN</td>\n",
       "      <td>NaN</td>\n",
       "      <td>NaN</td>\n",
       "      <td>NaN</td>\n",
       "      <td>NaN</td>\n",
       "      <td>...</td>\n",
       "      <td>NaN</td>\n",
       "      <td>NaN</td>\n",
       "      <td>NaN</td>\n",
       "      <td>NaN</td>\n",
       "      <td>NaN</td>\n",
       "      <td>NaN</td>\n",
       "      <td>NaN</td>\n",
       "      <td>NaN</td>\n",
       "      <td>5.0</td>\n",
       "      <td>NaN</td>\n",
       "    </tr>\n",
       "    <tr>\n",
       "      <th>2</th>\n",
       "      <td>83734.0</td>\n",
       "      <td>69.0</td>\n",
       "      <td>182.0</td>\n",
       "      <td>212.0</td>\n",
       "      <td>10.0</td>\n",
       "      <td>NaN</td>\n",
       "      <td>NaN</td>\n",
       "      <td>NaN</td>\n",
       "      <td>NaN</td>\n",
       "      <td>NaN</td>\n",
       "      <td>...</td>\n",
       "      <td>NaN</td>\n",
       "      <td>NaN</td>\n",
       "      <td>NaN</td>\n",
       "      <td>43.0</td>\n",
       "      <td>NaN</td>\n",
       "      <td>NaN</td>\n",
       "      <td>NaN</td>\n",
       "      <td>NaN</td>\n",
       "      <td>1.0</td>\n",
       "      <td>NaN</td>\n",
       "    </tr>\n",
       "    <tr>\n",
       "      <th>3</th>\n",
       "      <td>83735.0</td>\n",
       "      <td>64.0</td>\n",
       "      <td>220.0</td>\n",
       "      <td>220.0</td>\n",
       "      <td>10.0</td>\n",
       "      <td>11.0</td>\n",
       "      <td>12.0</td>\n",
       "      <td>NaN</td>\n",
       "      <td>14.0</td>\n",
       "      <td>15.0</td>\n",
       "      <td>...</td>\n",
       "      <td>NaN</td>\n",
       "      <td>NaN</td>\n",
       "      <td>NaN</td>\n",
       "      <td>43.0</td>\n",
       "      <td>NaN</td>\n",
       "      <td>NaN</td>\n",
       "      <td>46.0</td>\n",
       "      <td>NaN</td>\n",
       "      <td>2.0</td>\n",
       "      <td>NaN</td>\n",
       "    </tr>\n",
       "    <tr>\n",
       "      <th>4</th>\n",
       "      <td>83736.0</td>\n",
       "      <td>64.0</td>\n",
       "      <td>125.0</td>\n",
       "      <td>135.0</td>\n",
       "      <td>NaN</td>\n",
       "      <td>NaN</td>\n",
       "      <td>NaN</td>\n",
       "      <td>NaN</td>\n",
       "      <td>NaN</td>\n",
       "      <td>NaN</td>\n",
       "      <td>...</td>\n",
       "      <td>NaN</td>\n",
       "      <td>NaN</td>\n",
       "      <td>NaN</td>\n",
       "      <td>NaN</td>\n",
       "      <td>NaN</td>\n",
       "      <td>NaN</td>\n",
       "      <td>NaN</td>\n",
       "      <td>NaN</td>\n",
       "      <td>5.0</td>\n",
       "      <td>NaN</td>\n",
       "    </tr>\n",
       "  </tbody>\n",
       "</table>\n",
       "<p>5 rows × 26 columns</p>\n",
       "</div>"
      ],
      "text/plain": [
       "      SEQN  WHD010  WHD020  WHD050  WHD080A  WHD080B  WHD080C  WHD080D  \\\n",
       "0  83732.0    74.0   212.0   225.0     10.0      NaN      NaN     13.0   \n",
       "1  83733.0    68.0   193.0   191.0      NaN      NaN      NaN      NaN   \n",
       "2  83734.0    69.0   182.0   212.0     10.0      NaN      NaN      NaN   \n",
       "3  83735.0    64.0   220.0   220.0     10.0     11.0     12.0      NaN   \n",
       "4  83736.0    64.0   125.0   135.0      NaN      NaN      NaN      NaN   \n",
       "\n",
       "   WHD080E  WHD080F   ...     WHD080N  WHD080O  WHD080P  WHD080Q  WHD080R  \\\n",
       "0      NaN      NaN   ...         NaN     41.0      NaN     43.0      NaN   \n",
       "1      NaN      NaN   ...         NaN      NaN      NaN      NaN      NaN   \n",
       "2      NaN      NaN   ...         NaN      NaN      NaN     43.0      NaN   \n",
       "3     14.0     15.0   ...         NaN      NaN      NaN     43.0      NaN   \n",
       "4      NaN      NaN   ...         NaN      NaN      NaN      NaN      NaN   \n",
       "\n",
       "   WHD080S  WHD080T  WHD080U  WHQ225  WHD080S  \n",
       "0      NaN     46.0      NaN     2.0      NaN  \n",
       "1      NaN      NaN      NaN     5.0      NaN  \n",
       "2      NaN      NaN      NaN     1.0      NaN  \n",
       "3      NaN     46.0      NaN     2.0      NaN  \n",
       "4      NaN      NaN      NaN     5.0      NaN  \n",
       "\n",
       "[5 rows x 26 columns]"
      ]
     },
     "execution_count": 417,
     "metadata": {},
     "output_type": "execute_result"
    }
   ],
   "source": [
    "df = pd.merge(df, age_df, on=\"SEQN\")\n",
    "df = df.drop(df[df.Age < 18].index)\n",
    "print ('Weight History Shape: ' + str(df.shape))\n",
    "df = df.drop('Age', axis = 1)\n",
    "df.head()"
   ]
  },
  {
   "cell_type": "code",
   "execution_count": null,
   "metadata": {},
   "outputs": [],
   "source": [
    "print (df['INQ320'].isnull().sum(axis = 0))"
   ]
  },
  {
   "cell_type": "code",
   "execution_count": null,
   "metadata": {},
   "outputs": [],
   "source": [
    "df['INQ320'].value_counts()"
   ]
  },
  {
   "cell_type": "code",
   "execution_count": null,
   "metadata": {},
   "outputs": [],
   "source": [
    "df = pd.merge(df, age_df, on=\"SEQN\")\n",
    "df = df.drop(df[df.Age < 18].index)\n",
    "print ('Medical Conditions Shape: ' + str(df.shape))\n",
    "df = df.drop('Age', axis = 1)\n",
    "df.head()\n",
    "\n",
    "\n",
    "\n",
    "print (df['INQ320'].isnull().sum(axis = 0))\n",
    "\n",
    "df['INQ320'].value_counts()\n",
    "\n",
    "\n",
    "\n",
    "\n",
    "col = ''\n",
    "df[col].values[df[col].values < 1] = 0\n",
    "df.loc[df[col] == 6666, col] = 95\n",
    "df.loc[df[col] == 7777, col] = 0\n",
    "df.loc[df[col] == 9999, col] = 1\n",
    "df[col].fillna(0, inplace=True)\n",
    "df[col] = df[col].fillna(df[col].median())\n",
    "\n",
    "\n",
    "# Dummies\n",
    "\n",
    "need_dummies = ['INQ132', 'INQ320']\n",
    "df = pd.get_dummies(df, columns = need_dummies, drop_first = True)"
   ]
  }
 ],
 "metadata": {
  "kernelspec": {
   "display_name": "Python 3",
   "language": "python",
   "name": "python3"
  },
  "language_info": {
   "codemirror_mode": {
    "name": "ipython",
    "version": 3
   },
   "file_extension": ".py",
   "mimetype": "text/x-python",
   "name": "python",
   "nbconvert_exporter": "python",
   "pygments_lexer": "ipython3",
   "version": "3.6.6"
  }
 },
 "nbformat": 4,
 "nbformat_minor": 2
}
