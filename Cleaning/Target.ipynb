{
 "cells": [
  {
   "cell_type": "markdown",
   "metadata": {},
   "source": [
    "# National Health and Nutrition Examination Survey"
   ]
  },
  {
   "cell_type": "markdown",
   "metadata": {},
   "source": [
    "https://www.cdc.gov/nchs/nhanes/index.htm"
   ]
  },
  {
   "cell_type": "markdown",
   "metadata": {},
   "source": [
    "Can I predict diabetes based off of diet?"
   ]
  },
  {
   "cell_type": "markdown",
   "metadata": {},
   "source": [
    "Be able to predict diabetes, prediabetes, and not diabetic based on:\n",
    "* Lab Data\n",
    "    * Insulin\n",
    "    * Glucose\n",
    "    * HDL\n",
    "    * Total Cholesterol\n",
    "* Examination Data\n",
    "    * Body Measurements\n",
    "    * Blood Preasure\n",
    "* Diet Interview\n",
    "    * 1st and 2nd Day Nutrition\n",
    "* Demographics\n",
    "* Questionnaire Data\n",
    "    * Alcohol\n",
    "    * Smoking"
   ]
  },
  {
   "cell_type": "markdown",
   "metadata": {},
   "source": [
    "Look into finding the diet of people who have diabetes?"
   ]
  },
  {
   "cell_type": "markdown",
   "metadata": {},
   "source": [
    "***"
   ]
  },
  {
   "cell_type": "markdown",
   "metadata": {},
   "source": [
    "# Pandas Tools"
   ]
  },
  {
   "cell_type": "markdown",
   "metadata": {},
   "source": [
    "#### Count up nans in a column\n",
    "* df['Column_Name'].isnull().sum(axis = 0)"
   ]
  },
  {
   "cell_type": "markdown",
   "metadata": {},
   "source": [
    "#### Fill all NaN values in a column with a particular value\n",
    "* Demographics_df['DMDCITZN'].fillna(2.0, inplace=True)"
   ]
  },
  {
   "cell_type": "markdown",
   "metadata": {},
   "source": [
    "##### Combining Dataframes\n",
    "\n",
    "* Full_Days_Nutrition_df = pd.merge(Day_1_Nutrition_df, Day_2_Nutrition_df, on=\"SEQN\")\n",
    "* Full_Days_Nutrition_df.head()"
   ]
  },
  {
   "cell_type": "markdown",
   "metadata": {},
   "source": [
    "##### Find rows that are all NaN\n",
    "\n",
    "* nan = df[df.isnull().all(axis=1)].index\n",
    "* nan"
   ]
  },
  {
   "cell_type": "markdown",
   "metadata": {},
   "source": [
    "##### Change all '99' in a column to 1\n",
    "Demographics_df.loc[Demographics_df['DMDBORN4'] == 99, 'DMDBORN4'] = 1"
   ]
  },
  {
   "cell_type": "markdown",
   "metadata": {},
   "source": [
    "##### Check for Nans\n",
    "\n",
    "* df.isnull().values.any()"
   ]
  },
  {
   "cell_type": "markdown",
   "metadata": {},
   "source": [
    "##### Getting Dummies\n",
    "* Finished_Demographics_df = pd.get_dummies(Demographics_df, columns = need_dummies, drop_first = True)"
   ]
  },
  {
   "cell_type": "markdown",
   "metadata": {},
   "source": [
    "##### Rename Columns\n",
    "* df = df.rename(columns={'oldName1': 'newName1', 'oldName2': 'newName2'})"
   ]
  },
  {
   "cell_type": "markdown",
   "metadata": {},
   "source": [
    "##### Add 'Age', then drop all 0-17 year olds\n",
    "* Blood_Pressure_df = pd.merge(Blood_Pressure_df, Age_df, on=\"SEQN\")\n",
    "* Blood_Pressure_df = Blood_Pressure_df.drop(Blood_Pressure_df[Blood_Pressure_df.Age < 18].index)\n",
    "* Blood_Pressure_df.head()"
   ]
  },
  {
   "cell_type": "markdown",
   "metadata": {},
   "source": [
    "***"
   ]
  },
  {
   "cell_type": "markdown",
   "metadata": {},
   "source": [
    "# Import Libraries"
   ]
  },
  {
   "cell_type": "code",
   "execution_count": 1,
   "metadata": {},
   "outputs": [],
   "source": [
    "import pandas as pd\n",
    "\n",
    "import warnings\n",
    "warnings.filterwarnings(\"ignore\")\n"
   ]
  },
  {
   "cell_type": "markdown",
   "metadata": {},
   "source": [
    "***"
   ]
  },
  {
   "cell_type": "markdown",
   "metadata": {},
   "source": [
    "# Target!!!\n",
    "\n",
    "##### 5. Diabetes\n",
    "   * Ages 1+\n",
    "   * DIQ010 - Doctor told you have diabetes\n",
    "       * 1 = Yes\n",
    "       * 2 = No\n",
    "       * 3 = Borderline\n",
    "       * 9 = Don't know\n",
    "   * DIQ160 - Ever told you have prediabetes\n",
    "       * Ages 12+\n",
    "       * Missing 3530\n",
    "       * 1 = Yes\n",
    "       * 2 = No\n",
    "       * 9 = Don't know\n",
    "   * DIQ170 - Ever told have health risk for diabetes\n",
    "       * Ages 12+\n",
    "       * Missing 3389\n",
    "       * 1 = Yes\n",
    "       * 2 = No\n",
    "       * 9 = Don't know -> No\n"
   ]
  },
  {
   "cell_type": "code",
   "execution_count": 24,
   "metadata": {
    "scrolled": true
   },
   "outputs": [
    {
     "name": "stdout",
     "output_type": "stream",
     "text": [
      "Target Shape: (5735, 4)\n"
     ]
    },
    {
     "data": {
      "text/html": [
       "<div>\n",
       "<style scoped>\n",
       "    .dataframe tbody tr th:only-of-type {\n",
       "        vertical-align: middle;\n",
       "    }\n",
       "\n",
       "    .dataframe tbody tr th {\n",
       "        vertical-align: top;\n",
       "    }\n",
       "\n",
       "    .dataframe thead th {\n",
       "        text-align: right;\n",
       "    }\n",
       "</style>\n",
       "<table border=\"1\" class=\"dataframe\">\n",
       "  <thead>\n",
       "    <tr style=\"text-align: right;\">\n",
       "      <th></th>\n",
       "      <th>SEQN</th>\n",
       "      <th>Diabetes</th>\n",
       "      <th>Prediabetes</th>\n",
       "      <th>At Risk</th>\n",
       "    </tr>\n",
       "  </thead>\n",
       "  <tbody>\n",
       "    <tr>\n",
       "      <th>0</th>\n",
       "      <td>83732.0</td>\n",
       "      <td>1.0</td>\n",
       "      <td>NaN</td>\n",
       "      <td>NaN</td>\n",
       "    </tr>\n",
       "    <tr>\n",
       "      <th>1</th>\n",
       "      <td>83733.0</td>\n",
       "      <td>2.0</td>\n",
       "      <td>2.0</td>\n",
       "      <td>2.0</td>\n",
       "    </tr>\n",
       "    <tr>\n",
       "      <th>2</th>\n",
       "      <td>83734.0</td>\n",
       "      <td>1.0</td>\n",
       "      <td>NaN</td>\n",
       "      <td>NaN</td>\n",
       "    </tr>\n",
       "    <tr>\n",
       "      <th>3</th>\n",
       "      <td>83735.0</td>\n",
       "      <td>2.0</td>\n",
       "      <td>1.0</td>\n",
       "      <td>1.0</td>\n",
       "    </tr>\n",
       "    <tr>\n",
       "      <th>4</th>\n",
       "      <td>83736.0</td>\n",
       "      <td>2.0</td>\n",
       "      <td>2.0</td>\n",
       "      <td>2.0</td>\n",
       "    </tr>\n",
       "  </tbody>\n",
       "</table>\n",
       "</div>"
      ],
      "text/plain": [
       "      SEQN  Diabetes  Prediabetes  At Risk\n",
       "0  83732.0       1.0          NaN      NaN\n",
       "1  83733.0       2.0          2.0      2.0\n",
       "2  83734.0       1.0          NaN      NaN\n",
       "3  83735.0       2.0          1.0      1.0\n",
       "4  83736.0       2.0          2.0      2.0"
      ]
     },
     "execution_count": 24,
     "metadata": {},
     "output_type": "execute_result"
    }
   ],
   "source": [
    "target_df = pd.read_sas(filepath_or_buffer = 'NHANES_Questionnaire_Data/Q_Diabetes.XPT')\n",
    "diabetes_columns = ['SEQN', 'DIQ010', 'DIQ160', 'DIQ170']\n",
    "target_df = target_df[diabetes_columns]\n",
    "target_df = target_df.rename(columns={'DIQ010': 'Diabetes', 'DIQ160': 'Prediabetes', 'DIQ170': 'At Risk'})\n",
    "target_df = pd.merge(master_df[['SEQN','Age_x']], target_df, on=\"SEQN\")\n",
    "target_df = target_df.drop('Age_x', axis = 1)\n",
    "print ('Target Shape: ' + str(target_df.shape))\n",
    "\n",
    "target_df.head()"
   ]
  },
  {
   "cell_type": "markdown",
   "metadata": {},
   "source": [
    "***\n",
    "# Diabetes Column\n",
    "\n",
    "* 1 = Yes\n",
    "* 2 = No\n",
    "* 3 = Borderline (Prediabetes)\n",
    "* 9 = Don't Know\n",
    "\n",
    "#####  Game Plan\n",
    "* 1 -> 99\n",
    "* 2 -> 0\n",
    "* 3 -> 10\n",
    "* 9 -> 0"
   ]
  },
  {
   "cell_type": "code",
   "execution_count": 25,
   "metadata": {},
   "outputs": [],
   "source": [
    "target_df.loc[target_df['Diabetes'] == 1.0, 'Diabetes'] = 99\n",
    "target_df.loc[target_df['Diabetes'] == 2.0, 'Diabetes'] = 0\n",
    "target_df.loc[target_df['Diabetes'] == 3.0, 'Diabetes'] = 10\n",
    "target_df.loc[target_df['Diabetes'] == 9.0, 'Diabetes'] = 0"
   ]
  },
  {
   "cell_type": "code",
   "execution_count": 26,
   "metadata": {
    "scrolled": false
   },
   "outputs": [
    {
     "data": {
      "text/html": [
       "<div>\n",
       "<style scoped>\n",
       "    .dataframe tbody tr th:only-of-type {\n",
       "        vertical-align: middle;\n",
       "    }\n",
       "\n",
       "    .dataframe tbody tr th {\n",
       "        vertical-align: top;\n",
       "    }\n",
       "\n",
       "    .dataframe thead th {\n",
       "        text-align: right;\n",
       "    }\n",
       "</style>\n",
       "<table border=\"1\" class=\"dataframe\">\n",
       "  <thead>\n",
       "    <tr style=\"text-align: right;\">\n",
       "      <th></th>\n",
       "      <th>SEQN</th>\n",
       "      <th>Diabetes</th>\n",
       "      <th>Prediabetes</th>\n",
       "      <th>At Risk</th>\n",
       "    </tr>\n",
       "  </thead>\n",
       "  <tbody>\n",
       "    <tr>\n",
       "      <th>0</th>\n",
       "      <td>83732.0</td>\n",
       "      <td>99.0</td>\n",
       "      <td>NaN</td>\n",
       "      <td>NaN</td>\n",
       "    </tr>\n",
       "    <tr>\n",
       "      <th>1</th>\n",
       "      <td>83733.0</td>\n",
       "      <td>0.0</td>\n",
       "      <td>2.0</td>\n",
       "      <td>2.0</td>\n",
       "    </tr>\n",
       "    <tr>\n",
       "      <th>2</th>\n",
       "      <td>83734.0</td>\n",
       "      <td>99.0</td>\n",
       "      <td>NaN</td>\n",
       "      <td>NaN</td>\n",
       "    </tr>\n",
       "    <tr>\n",
       "      <th>3</th>\n",
       "      <td>83735.0</td>\n",
       "      <td>0.0</td>\n",
       "      <td>1.0</td>\n",
       "      <td>1.0</td>\n",
       "    </tr>\n",
       "    <tr>\n",
       "      <th>4</th>\n",
       "      <td>83736.0</td>\n",
       "      <td>0.0</td>\n",
       "      <td>2.0</td>\n",
       "      <td>2.0</td>\n",
       "    </tr>\n",
       "  </tbody>\n",
       "</table>\n",
       "</div>"
      ],
      "text/plain": [
       "      SEQN  Diabetes  Prediabetes  At Risk\n",
       "0  83732.0      99.0          NaN      NaN\n",
       "1  83733.0       0.0          2.0      2.0\n",
       "2  83734.0      99.0          NaN      NaN\n",
       "3  83735.0       0.0          1.0      1.0\n",
       "4  83736.0       0.0          2.0      2.0"
      ]
     },
     "execution_count": 26,
     "metadata": {},
     "output_type": "execute_result"
    }
   ],
   "source": [
    "target_df.head()"
   ]
  },
  {
   "cell_type": "code",
   "execution_count": 27,
   "metadata": {},
   "outputs": [
    {
     "data": {
      "text/plain": [
       "0.0     4800\n",
       "99.0     809\n",
       "10.0     126\n",
       "Name: Diabetes, dtype: int64"
      ]
     },
     "execution_count": 27,
     "metadata": {},
     "output_type": "execute_result"
    }
   ],
   "source": [
    "target_df['Diabetes'].value_counts()"
   ]
  },
  {
   "cell_type": "markdown",
   "metadata": {},
   "source": [
    "***\n",
    "# Prediabetes Column\n",
    "\n",
    "* 1 = Yes\n",
    "* 2 = No\n",
    "\n",
    "#####  Game Plan\n",
    "* 9 -> 0\n",
    "* NaN -> 0\n",
    "* 2 -> 0\n",
    "* 1 -> 5"
   ]
  },
  {
   "cell_type": "code",
   "execution_count": 28,
   "metadata": {},
   "outputs": [],
   "source": [
    "target_df['Prediabetes'].fillna(0, inplace = True)\n",
    "target_df.loc[target_df['Prediabetes'] == 9, 'Prediabetes'] = 0\n",
    "target_df.loc[target_df['Prediabetes'] == 2, 'Prediabetes'] = 0\n",
    "target_df.loc[target_df['Prediabetes'] == 1, 'Prediabetes'] = 5"
   ]
  },
  {
   "cell_type": "code",
   "execution_count": 29,
   "metadata": {
    "scrolled": true
   },
   "outputs": [
    {
     "data": {
      "text/html": [
       "<div>\n",
       "<style scoped>\n",
       "    .dataframe tbody tr th:only-of-type {\n",
       "        vertical-align: middle;\n",
       "    }\n",
       "\n",
       "    .dataframe tbody tr th {\n",
       "        vertical-align: top;\n",
       "    }\n",
       "\n",
       "    .dataframe thead th {\n",
       "        text-align: right;\n",
       "    }\n",
       "</style>\n",
       "<table border=\"1\" class=\"dataframe\">\n",
       "  <thead>\n",
       "    <tr style=\"text-align: right;\">\n",
       "      <th></th>\n",
       "      <th>SEQN</th>\n",
       "      <th>Diabetes</th>\n",
       "      <th>Prediabetes</th>\n",
       "      <th>At Risk</th>\n",
       "    </tr>\n",
       "  </thead>\n",
       "  <tbody>\n",
       "    <tr>\n",
       "      <th>0</th>\n",
       "      <td>83732.0</td>\n",
       "      <td>99.0</td>\n",
       "      <td>0.0</td>\n",
       "      <td>NaN</td>\n",
       "    </tr>\n",
       "    <tr>\n",
       "      <th>1</th>\n",
       "      <td>83733.0</td>\n",
       "      <td>0.0</td>\n",
       "      <td>0.0</td>\n",
       "      <td>2.0</td>\n",
       "    </tr>\n",
       "    <tr>\n",
       "      <th>2</th>\n",
       "      <td>83734.0</td>\n",
       "      <td>99.0</td>\n",
       "      <td>0.0</td>\n",
       "      <td>NaN</td>\n",
       "    </tr>\n",
       "    <tr>\n",
       "      <th>3</th>\n",
       "      <td>83735.0</td>\n",
       "      <td>0.0</td>\n",
       "      <td>5.0</td>\n",
       "      <td>1.0</td>\n",
       "    </tr>\n",
       "    <tr>\n",
       "      <th>4</th>\n",
       "      <td>83736.0</td>\n",
       "      <td>0.0</td>\n",
       "      <td>0.0</td>\n",
       "      <td>2.0</td>\n",
       "    </tr>\n",
       "  </tbody>\n",
       "</table>\n",
       "</div>"
      ],
      "text/plain": [
       "      SEQN  Diabetes  Prediabetes  At Risk\n",
       "0  83732.0      99.0          0.0      NaN\n",
       "1  83733.0       0.0          0.0      2.0\n",
       "2  83734.0      99.0          0.0      NaN\n",
       "3  83735.0       0.0          5.0      1.0\n",
       "4  83736.0       0.0          0.0      2.0"
      ]
     },
     "execution_count": 29,
     "metadata": {},
     "output_type": "execute_result"
    }
   ],
   "source": [
    "target_df.head()"
   ]
  },
  {
   "cell_type": "code",
   "execution_count": 30,
   "metadata": {},
   "outputs": [
    {
     "data": {
      "text/plain": [
       "0.0    5257\n",
       "5.0     478\n",
       "Name: Prediabetes, dtype: int64"
      ]
     },
     "execution_count": 30,
     "metadata": {},
     "output_type": "execute_result"
    }
   ],
   "source": [
    "target_df['Prediabetes'].value_counts()"
   ]
  },
  {
   "cell_type": "markdown",
   "metadata": {},
   "source": [
    "***\n",
    "# At Risk Column\n",
    "\n",
    "* 1 = Yes\n",
    "* 2 = No\n",
    "* 9 = Don't know\n",
    "\n",
    "#####  Game Plan\n",
    "* 9 -> 0\n",
    "* NaN -> 0\n",
    "* 2 -> 0\n",
    "* 1 -> 3"
   ]
  },
  {
   "cell_type": "code",
   "execution_count": 31,
   "metadata": {},
   "outputs": [],
   "source": [
    "target_df['At Risk'].fillna(0, inplace = True)\n",
    "target_df.loc[target_df['At Risk'] == 9, 'At Risk'] = 0\n",
    "target_df.loc[target_df['At Risk'] == 2, 'At Risk'] = 0\n",
    "target_df.loc[target_df['At Risk'] == 1, 'At Risk'] = 3"
   ]
  },
  {
   "cell_type": "code",
   "execution_count": 32,
   "metadata": {},
   "outputs": [
    {
     "data": {
      "text/plain": [
       "0.0    4961\n",
       "3.0     774\n",
       "Name: At Risk, dtype: int64"
      ]
     },
     "execution_count": 32,
     "metadata": {},
     "output_type": "execute_result"
    }
   ],
   "source": [
    "target_df['At Risk'].value_counts()"
   ]
  },
  {
   "cell_type": "markdown",
   "metadata": {},
   "source": [
    "# Proxy Target\n",
    "\n",
    "* New column thats the sum of the three columns"
   ]
  },
  {
   "cell_type": "code",
   "execution_count": 33,
   "metadata": {},
   "outputs": [],
   "source": [
    "target_df['Proxy Target'] = target_df['Diabetes'] + target_df['Prediabetes'] + target_df['At Risk']"
   ]
  },
  {
   "cell_type": "code",
   "execution_count": 34,
   "metadata": {},
   "outputs": [
    {
     "data": {
      "text/html": [
       "<div>\n",
       "<style scoped>\n",
       "    .dataframe tbody tr th:only-of-type {\n",
       "        vertical-align: middle;\n",
       "    }\n",
       "\n",
       "    .dataframe tbody tr th {\n",
       "        vertical-align: top;\n",
       "    }\n",
       "\n",
       "    .dataframe thead th {\n",
       "        text-align: right;\n",
       "    }\n",
       "</style>\n",
       "<table border=\"1\" class=\"dataframe\">\n",
       "  <thead>\n",
       "    <tr style=\"text-align: right;\">\n",
       "      <th></th>\n",
       "      <th>SEQN</th>\n",
       "      <th>Diabetes</th>\n",
       "      <th>Prediabetes</th>\n",
       "      <th>At Risk</th>\n",
       "      <th>Proxy Target</th>\n",
       "    </tr>\n",
       "  </thead>\n",
       "  <tbody>\n",
       "    <tr>\n",
       "      <th>0</th>\n",
       "      <td>83732.0</td>\n",
       "      <td>99.0</td>\n",
       "      <td>0.0</td>\n",
       "      <td>0.0</td>\n",
       "      <td>99.0</td>\n",
       "    </tr>\n",
       "    <tr>\n",
       "      <th>1</th>\n",
       "      <td>83733.0</td>\n",
       "      <td>0.0</td>\n",
       "      <td>0.0</td>\n",
       "      <td>0.0</td>\n",
       "      <td>0.0</td>\n",
       "    </tr>\n",
       "    <tr>\n",
       "      <th>2</th>\n",
       "      <td>83734.0</td>\n",
       "      <td>99.0</td>\n",
       "      <td>0.0</td>\n",
       "      <td>0.0</td>\n",
       "      <td>99.0</td>\n",
       "    </tr>\n",
       "    <tr>\n",
       "      <th>3</th>\n",
       "      <td>83735.0</td>\n",
       "      <td>0.0</td>\n",
       "      <td>5.0</td>\n",
       "      <td>3.0</td>\n",
       "      <td>8.0</td>\n",
       "    </tr>\n",
       "    <tr>\n",
       "      <th>4</th>\n",
       "      <td>83736.0</td>\n",
       "      <td>0.0</td>\n",
       "      <td>0.0</td>\n",
       "      <td>0.0</td>\n",
       "      <td>0.0</td>\n",
       "    </tr>\n",
       "  </tbody>\n",
       "</table>\n",
       "</div>"
      ],
      "text/plain": [
       "      SEQN  Diabetes  Prediabetes  At Risk  Proxy Target\n",
       "0  83732.0      99.0          0.0      0.0          99.0\n",
       "1  83733.0       0.0          0.0      0.0           0.0\n",
       "2  83734.0      99.0          0.0      0.0          99.0\n",
       "3  83735.0       0.0          5.0      3.0           8.0\n",
       "4  83736.0       0.0          0.0      0.0           0.0"
      ]
     },
     "execution_count": 34,
     "metadata": {},
     "output_type": "execute_result"
    }
   ],
   "source": [
    "target_df.head()"
   ]
  },
  {
   "cell_type": "code",
   "execution_count": 35,
   "metadata": {},
   "outputs": [
    {
     "data": {
      "text/plain": [
       "0.0     3804\n",
       "99.0     809\n",
       "3.0      518\n",
       "5.0      282\n",
       "8.0      196\n",
       "10.0      66\n",
       "13.0      60\n",
       "Name: Proxy Target, dtype: int64"
      ]
     },
     "execution_count": 35,
     "metadata": {},
     "output_type": "execute_result"
    }
   ],
   "source": [
    "target_df['Proxy Target'].value_counts()"
   ]
  },
  {
   "cell_type": "markdown",
   "metadata": {},
   "source": [
    "99 - Diabetic                __809__\n",
    "                            __14.1%__\n",
    "\n",
    "13 - Prediabetic + Borderline   60\n",
    "10 - Borderline                 66\n",
    "08 - Prediabetic + At Risk     196\n",
    "05 - Prediabetic               282\n",
    "03 - At Risk                   518\n",
    "                            __1122__           \n",
    "                            __19.6%__\n",
    "\n",
    "00 - Not                    __3804__\n",
    "                            __66.3%__"
   ]
  },
  {
   "cell_type": "markdown",
   "metadata": {},
   "source": [
    "# Change Proxy Target into Real Target\n",
    "* 1 = Diabetic\n",
    "* 2 = Prediabetic\n",
    "* 3 = Healthy"
   ]
  },
  {
   "cell_type": "code",
   "execution_count": 37,
   "metadata": {},
   "outputs": [],
   "source": [
    "target_df.loc[target_df['Proxy Target'] == 99, 'Proxy Target'] = 1\n",
    "target_df.loc[target_df['Proxy Target'] == 13, 'Proxy Target'] = 2\n",
    "target_df.loc[target_df['Proxy Target'] == 10, 'Proxy Target'] = 2\n",
    "target_df.loc[target_df['Proxy Target'] == 8, 'Proxy Target'] = 2\n",
    "target_df.loc[target_df['Proxy Target'] == 5, 'Proxy Target'] = 2\n",
    "target_df.loc[target_df['Proxy Target'] == 3, 'Proxy Target'] = 2\n",
    "target_df.loc[target_df['Proxy Target'] == 0, 'Proxy Target'] = 3\n"
   ]
  },
  {
   "cell_type": "code",
   "execution_count": 39,
   "metadata": {},
   "outputs": [],
   "source": [
    "target_df = target_df.rename(columns={'Proxy Target': 'Target'})"
   ]
  },
  {
   "cell_type": "code",
   "execution_count": 41,
   "metadata": {},
   "outputs": [
    {
     "data": {
      "text/plain": [
       "3.0    3804\n",
       "2.0    1122\n",
       "1.0     809\n",
       "Name: Target, dtype: int64"
      ]
     },
     "execution_count": 41,
     "metadata": {},
     "output_type": "execute_result"
    }
   ],
   "source": [
    "target_df['Target'].value_counts()"
   ]
  },
  {
   "cell_type": "code",
   "execution_count": 44,
   "metadata": {},
   "outputs": [],
   "source": [
    "final_target_df = target_df[['SEQN','Target']]"
   ]
  },
  {
   "cell_type": "code",
   "execution_count": 46,
   "metadata": {},
   "outputs": [],
   "source": [
    "final_target_df.to_csv('Target.csv')"
   ]
  },
  {
   "cell_type": "code",
   "execution_count": null,
   "metadata": {},
   "outputs": [],
   "source": []
  },
  {
   "cell_type": "code",
   "execution_count": null,
   "metadata": {},
   "outputs": [],
   "source": []
  },
  {
   "cell_type": "markdown",
   "metadata": {},
   "source": [
    "# Don't forget to think about the class imbalances!!"
   ]
  },
  {
   "cell_type": "code",
   "execution_count": null,
   "metadata": {},
   "outputs": [],
   "source": []
  }
 ],
 "metadata": {
  "kernelspec": {
   "display_name": "Python 3",
   "language": "python",
   "name": "python3"
  },
  "language_info": {
   "codemirror_mode": {
    "name": "ipython",
    "version": 3
   },
   "file_extension": ".py",
   "mimetype": "text/x-python",
   "name": "python",
   "nbconvert_exporter": "python",
   "pygments_lexer": "ipython3",
   "version": "3.6.6"
  }
 },
 "nbformat": 4,
 "nbformat_minor": 2
}
