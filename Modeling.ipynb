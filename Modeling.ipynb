{
 "cells": [
  {
   "cell_type": "code",
   "execution_count": 1,
   "metadata": {},
   "outputs": [],
   "source": [
    "import pandas as pd\n",
    "import numpy as np\n",
    "import matplotlib.pyplot as plt\n",
    "%matplotlib inline\n",
    "from sklearn import metrics\n",
    "import warnings\n",
    "warnings.filterwarnings(\"ignore\")"
   ]
  },
  {
   "cell_type": "markdown",
   "metadata": {},
   "source": [
    "# Import Data"
   ]
  },
  {
   "cell_type": "code",
   "execution_count": 2,
   "metadata": {
    "scrolled": true
   },
   "outputs": [
    {
     "data": {
      "text/html": [
       "<div>\n",
       "<style scoped>\n",
       "    .dataframe tbody tr th:only-of-type {\n",
       "        vertical-align: middle;\n",
       "    }\n",
       "\n",
       "    .dataframe tbody tr th {\n",
       "        vertical-align: top;\n",
       "    }\n",
       "\n",
       "    .dataframe thead th {\n",
       "        text-align: right;\n",
       "    }\n",
       "</style>\n",
       "<table border=\"1\" class=\"dataframe\">\n",
       "  <thead>\n",
       "    <tr style=\"text-align: right;\">\n",
       "      <th></th>\n",
       "      <th>Target</th>\n",
       "      <th>Age</th>\n",
       "      <th>Sex_Female</th>\n",
       "      <th>Weight (kg)</th>\n",
       "      <th>Standing Height (cm)</th>\n",
       "      <th>BMI</th>\n",
       "      <th>Waist Circumference (cm)</th>\n",
       "      <th>Calories</th>\n",
       "      <th>Protein (gm)</th>\n",
       "      <th>Carbohydrates (gm)</th>\n",
       "      <th>...</th>\n",
       "      <th>Time Lost 10+ lb (3-5)</th>\n",
       "      <th>Time Lost 10+ lb (6-10)</th>\n",
       "      <th>Time Lost 10+ lb (11+)</th>\n",
       "      <th>Time Lost 10+ lb (never)</th>\n",
       "      <th>How do you consider your weight (under)</th>\n",
       "      <th>How do you consider your weight (normal)</th>\n",
       "      <th>Money Spent at Grocery Store</th>\n",
       "      <th>Money Spent at Other Food Store</th>\n",
       "      <th>Money Spent on Eating Out</th>\n",
       "      <th>Money Spent on Takeout/Delivery</th>\n",
       "    </tr>\n",
       "  </thead>\n",
       "  <tbody>\n",
       "    <tr>\n",
       "      <th>0</th>\n",
       "      <td>1.0</td>\n",
       "      <td>62.0</td>\n",
       "      <td>0</td>\n",
       "      <td>94.8</td>\n",
       "      <td>184.5</td>\n",
       "      <td>27.8</td>\n",
       "      <td>101.1</td>\n",
       "      <td>2262.5</td>\n",
       "      <td>104.815</td>\n",
       "      <td>237.465</td>\n",
       "      <td>...</td>\n",
       "      <td>1</td>\n",
       "      <td>0</td>\n",
       "      <td>0</td>\n",
       "      <td>0</td>\n",
       "      <td>0</td>\n",
       "      <td>1</td>\n",
       "      <td>300.0</td>\n",
       "      <td>0.0</td>\n",
       "      <td>125.0</td>\n",
       "      <td>0.0</td>\n",
       "    </tr>\n",
       "    <tr>\n",
       "      <th>1</th>\n",
       "      <td>3.0</td>\n",
       "      <td>53.0</td>\n",
       "      <td>0</td>\n",
       "      <td>90.4</td>\n",
       "      <td>171.4</td>\n",
       "      <td>30.8</td>\n",
       "      <td>107.9</td>\n",
       "      <td>3467.5</td>\n",
       "      <td>114.110</td>\n",
       "      <td>290.210</td>\n",
       "      <td>...</td>\n",
       "      <td>0</td>\n",
       "      <td>0</td>\n",
       "      <td>0</td>\n",
       "      <td>1</td>\n",
       "      <td>0</td>\n",
       "      <td>0</td>\n",
       "      <td>200.0</td>\n",
       "      <td>50.0</td>\n",
       "      <td>40.0</td>\n",
       "      <td>0.0</td>\n",
       "    </tr>\n",
       "    <tr>\n",
       "      <th>2</th>\n",
       "      <td>1.0</td>\n",
       "      <td>78.0</td>\n",
       "      <td>0</td>\n",
       "      <td>83.4</td>\n",
       "      <td>170.1</td>\n",
       "      <td>28.8</td>\n",
       "      <td>116.5</td>\n",
       "      <td>2205.0</td>\n",
       "      <td>105.140</td>\n",
       "      <td>249.350</td>\n",
       "      <td>...</td>\n",
       "      <td>0</td>\n",
       "      <td>0</td>\n",
       "      <td>0</td>\n",
       "      <td>0</td>\n",
       "      <td>0</td>\n",
       "      <td>1</td>\n",
       "      <td>400.0</td>\n",
       "      <td>0.0</td>\n",
       "      <td>0.0</td>\n",
       "      <td>0.0</td>\n",
       "    </tr>\n",
       "    <tr>\n",
       "      <th>3</th>\n",
       "      <td>2.0</td>\n",
       "      <td>56.0</td>\n",
       "      <td>1</td>\n",
       "      <td>109.8</td>\n",
       "      <td>160.9</td>\n",
       "      <td>42.4</td>\n",
       "      <td>110.1</td>\n",
       "      <td>1340.0</td>\n",
       "      <td>70.380</td>\n",
       "      <td>157.990</td>\n",
       "      <td>...</td>\n",
       "      <td>1</td>\n",
       "      <td>0</td>\n",
       "      <td>0</td>\n",
       "      <td>0</td>\n",
       "      <td>0</td>\n",
       "      <td>0</td>\n",
       "      <td>300.0</td>\n",
       "      <td>250.0</td>\n",
       "      <td>50.0</td>\n",
       "      <td>0.0</td>\n",
       "    </tr>\n",
       "    <tr>\n",
       "      <th>4</th>\n",
       "      <td>3.0</td>\n",
       "      <td>42.0</td>\n",
       "      <td>1</td>\n",
       "      <td>55.2</td>\n",
       "      <td>164.9</td>\n",
       "      <td>20.3</td>\n",
       "      <td>80.4</td>\n",
       "      <td>853.0</td>\n",
       "      <td>25.295</td>\n",
       "      <td>111.065</td>\n",
       "      <td>...</td>\n",
       "      <td>0</td>\n",
       "      <td>0</td>\n",
       "      <td>0</td>\n",
       "      <td>1</td>\n",
       "      <td>1</td>\n",
       "      <td>0</td>\n",
       "      <td>300.0</td>\n",
       "      <td>0.0</td>\n",
       "      <td>200.0</td>\n",
       "      <td>0.0</td>\n",
       "    </tr>\n",
       "  </tbody>\n",
       "</table>\n",
       "<p>5 rows × 234 columns</p>\n",
       "</div>"
      ],
      "text/plain": [
       "   Target   Age  Sex_Female  Weight (kg)  Standing Height (cm)   BMI  \\\n",
       "0     1.0  62.0           0         94.8                 184.5  27.8   \n",
       "1     3.0  53.0           0         90.4                 171.4  30.8   \n",
       "2     1.0  78.0           0         83.4                 170.1  28.8   \n",
       "3     2.0  56.0           1        109.8                 160.9  42.4   \n",
       "4     3.0  42.0           1         55.2                 164.9  20.3   \n",
       "\n",
       "   Waist Circumference (cm)  Calories  Protein (gm)  Carbohydrates (gm)  \\\n",
       "0                     101.1    2262.5       104.815             237.465   \n",
       "1                     107.9    3467.5       114.110             290.210   \n",
       "2                     116.5    2205.0       105.140             249.350   \n",
       "3                     110.1    1340.0        70.380             157.990   \n",
       "4                      80.4     853.0        25.295             111.065   \n",
       "\n",
       "                ...                 Time Lost 10+ lb (3-5)  \\\n",
       "0               ...                                      1   \n",
       "1               ...                                      0   \n",
       "2               ...                                      0   \n",
       "3               ...                                      1   \n",
       "4               ...                                      0   \n",
       "\n",
       "   Time Lost 10+ lb (6-10)  Time Lost 10+ lb (11+)  Time Lost 10+ lb (never)  \\\n",
       "0                        0                       0                         0   \n",
       "1                        0                       0                         1   \n",
       "2                        0                       0                         0   \n",
       "3                        0                       0                         0   \n",
       "4                        0                       0                         1   \n",
       "\n",
       "   How do you consider your weight (under)  \\\n",
       "0                                        0   \n",
       "1                                        0   \n",
       "2                                        0   \n",
       "3                                        0   \n",
       "4                                        1   \n",
       "\n",
       "   How do you consider your weight (normal)  Money Spent at Grocery Store  \\\n",
       "0                                         1                         300.0   \n",
       "1                                         0                         200.0   \n",
       "2                                         1                         400.0   \n",
       "3                                         0                         300.0   \n",
       "4                                         0                         300.0   \n",
       "\n",
       "   Money Spent at Other Food Store  Money Spent on Eating Out  \\\n",
       "0                              0.0                      125.0   \n",
       "1                             50.0                       40.0   \n",
       "2                              0.0                        0.0   \n",
       "3                            250.0                       50.0   \n",
       "4                              0.0                      200.0   \n",
       "\n",
       "   Money Spent on Takeout/Delivery  \n",
       "0                              0.0  \n",
       "1                              0.0  \n",
       "2                              0.0  \n",
       "3                              0.0  \n",
       "4                              0.0  \n",
       "\n",
       "[5 rows x 234 columns]"
      ]
     },
     "execution_count": 2,
     "metadata": {},
     "output_type": "execute_result"
    }
   ],
   "source": [
    "df = pd.read_csv('master.csv')\n",
    "df = df.drop('Unnamed: 0', axis = 1)\n",
    "df.head()"
   ]
  },
  {
   "cell_type": "markdown",
   "metadata": {},
   "source": [
    "# Look at the distribution of the target\n"
   ]
  },
  {
   "cell_type": "code",
   "execution_count": 3,
   "metadata": {
    "scrolled": true
   },
   "outputs": [
    {
     "data": {
      "text/plain": [
       "3.0    3474\n",
       "2.0    1042\n",
       "1.0     750\n",
       "Name: Target, dtype: int64"
      ]
     },
     "execution_count": 3,
     "metadata": {},
     "output_type": "execute_result"
    },
    {
     "data": {
      "image/png": "[encoded data removed]",
      "text/plain": [
       "<Figure size 432x288 with 1 Axes>"
      ]
     },
     "metadata": {
      "needs_background": "light"
     },
     "output_type": "display_data"
    }
   ],
   "source": [
    "pd.value_counts(df['Target']).plot.bar()\n",
    "plt.title('Not Diabetic, Prediabetic, Diabetic')\n",
    "plt.xlabel('Class')\n",
    "plt.ylabel('Frequency')\n",
    "df['Target'].value_counts()"
   ]
  },
  {
   "cell_type": "markdown",
   "metadata": {},
   "source": [
    "# Train Test Split"
   ]
  },
  {
   "cell_type": "code",
   "execution_count": 4,
   "metadata": {},
   "outputs": [],
   "source": [
    "X = df.iloc[:,1:]\n",
    "y = df['Target']"
   ]
  },
  {
   "cell_type": "code",
   "execution_count": 5,
   "metadata": {
    "scrolled": true
   },
   "outputs": [
    {
     "name": "stdout",
     "output_type": "stream",
     "text": [
      "X_train shape:  (4212, 233)\n",
      "y_train shape:  (4212,)\n",
      "X_test shape:  (1054, 233)\n",
      "y_test shape:  (1054,)\n"
     ]
    }
   ],
   "source": [
    "from sklearn.model_selection import train_test_split\n",
    "\n",
    "X_train, X_test, y_train, y_test = train_test_split(X, y, test_size=0.2, random_state=0)\n",
    "\n",
    "print(\"X_train shape: \", X_train.shape)\n",
    "print(\"y_train shape: \", y_train.shape)\n",
    "print(\"X_test shape: \", X_test.shape)\n",
    "print(\"y_test shape: \", y_test.shape)"
   ]
  },
  {
   "cell_type": "markdown",
   "metadata": {},
   "source": [
    "# Because of the imbalances, I'm going to use SMOTE"
   ]
  },
  {
   "cell_type": "code",
   "execution_count": 6,
   "metadata": {
    "scrolled": true
   },
   "outputs": [
    {
     "name": "stdout",
     "output_type": "stream",
     "text": [
      "Before SMOTE, counts of label '1': 607\n",
      "Before SMOTE, counts of label '2': 851\n",
      "Before SMOTE, counts of label '3': 2754 \n",
      "\n",
      "After SMOTE, the shape of X_train: (8262, 233)\n",
      "After SMOTE, the shape of y_train: (8262,) \n",
      "\n",
      "After SMOTE, counts of label '1': 2754\n",
      "After SMOTE, counts of label '2': 2754\n",
      "After SMOTE, counts of label '3': 2754\n"
     ]
    }
   ],
   "source": [
    "from imblearn.over_sampling import SMOTE\n",
    "\n",
    "print(\"Before SMOTE, counts of label '1': {}\".format(sum(y_train==1)))\n",
    "print(\"Before SMOTE, counts of label '2': {}\".format(sum(y_train==2)))\n",
    "print(\"Before SMOTE, counts of label '3': {} \\n\".format(sum(y_train==3)))\n",
    "\n",
    "sm = SMOTE(random_state=2)\n",
    "\n",
    "X_train, y_train = sm.fit_sample(X_train, y_train.ravel())\n",
    "\n",
    "print('After SMOTE, the shape of X_train: {}'.format(X_train.shape))\n",
    "print('After SMOTE, the shape of y_train: {} \\n'.format(y_train.shape))\n",
    "\n",
    "print(\"After SMOTE, counts of label '1': {}\".format(sum(y_train==1)))\n",
    "print(\"After SMOTE, counts of label '2': {}\".format(sum(y_train==2)))\n",
    "print(\"After SMOTE, counts of label '3': {}\".format(sum(y_train==3)))"
   ]
  },
  {
   "cell_type": "markdown",
   "metadata": {},
   "source": [
    "I will now be training on 8262 rows"
   ]
  },
  {
   "cell_type": "code",
   "execution_count": null,
   "metadata": {},
   "outputs": [],
   "source": []
  },
  {
   "cell_type": "markdown",
   "metadata": {},
   "source": [
    "<div class=\"alert alert-block alert-success\">\n",
    "    \n",
    "# Models"
   ]
  },
  {
   "cell_type": "markdown",
   "metadata": {},
   "source": [
    "<div class=\"alert alert-block alert-warning\">\n",
    "\n",
    "# Random Forest Classifier\n",
    "\n",
    "# Best Performing Model\n",
    "\n",
    "* No Scaling\n",
    "* Smote\n",
    "* Random Forest Classifier"
   ]
  },
  {
   "cell_type": "code",
   "execution_count": 7,
   "metadata": {},
   "outputs": [
    {
     "name": "stdout",
     "output_type": "stream",
     "text": [
      "0.6963946869070209\n"
     ]
    }
   ],
   "source": [
    "from sklearn.ensemble import RandomForestClassifier\n",
    "\n",
    "model = RandomForestClassifier(bootstrap = False,\n",
    "                             criterion =  'entropy',\n",
    "                             max_depth = None,\n",
    "                             max_features = 'auto',\n",
    "                             min_samples_leaf = 2,\n",
    "                             min_samples_split = 9,\n",
    "                             n_estimators = 115,\n",
    "                             random_state = 47) \n",
    "\n",
    "model.fit(X_train, y_train)\n",
    "y_pred = model.predict(X_test)\n",
    "print(metrics.accuracy_score(y_test, y_pred))"
   ]
  },
  {
   "cell_type": "markdown",
   "metadata": {},
   "source": [
    "# Evaluation Metrics"
   ]
  },
  {
   "cell_type": "code",
   "execution_count": 8,
   "metadata": {},
   "outputs": [
    {
     "name": "stdout",
     "output_type": "stream",
     "text": [
      "Accuracy Score:  0.6963946869070209\n",
      "F1 Score:        0.45706054732485973\n",
      "Precision Score: 0.5197105712810922\n",
      "Recall Score:    0.4520858165491674\n",
      "\n",
      "              precision    recall  f1-score   support\n",
      "\n",
      "    Diabetic       0.45      0.31      0.37       143\n",
      " Prediabetic       0.37      0.12      0.18       191\n",
      "     Healthy       0.75      0.93      0.83       720\n",
      "\n",
      "   micro avg       0.70      0.70      0.70      1054\n",
      "   macro avg       0.52      0.45      0.46      1054\n",
      "weighted avg       0.64      0.70      0.65      1054\n",
      "\n"
     ]
    }
   ],
   "source": [
    "from sklearn.metrics import accuracy_score, f1_score, precision_score, recall_score, classification_report, confusion_matrix\n",
    "\n",
    "print('Accuracy Score:  ' + str(accuracy_score(y_test, y_pred)))\n",
    "print('F1 Score:        ' + str(f1_score(y_test, y_pred, average=\"macro\")))\n",
    "print('Precision Score: ' + str(precision_score(y_test, y_pred, average=\"macro\")))\n",
    "print('Recall Score:    ' + str(recall_score(y_test, y_pred, average=\"macro\")) )\n",
    "report = classification_report(y_test, y_pred, labels=None,\n",
    "                               target_names=['Diabetic', 'Prediabetic', 'Healthy'],\n",
    "                               sample_weight=None, digits=2, output_dict=False)\n",
    "print ('')\n",
    "print (report)"
   ]
  },
  {
   "cell_type": "code",
   "execution_count": 9,
   "metadata": {},
   "outputs": [
    {
     "data": {
      "text/plain": [
       "[Text(0.5,0,'Diabetic'), Text(1.5,0,'Prediabetic'), Text(2.5,0,'Healthy')]"
      ]
     },
     "execution_count": 9,
     "metadata": {},
     "output_type": "execute_result"
    },
    {
     "data": {
      "image/png": "[encoded data removed]",
      "text/plain": [
       "<Figure size 432x288 with 2 Axes>"
      ]
     },
     "metadata": {
      "needs_background": "light"
     },
     "output_type": "display_data"
    }
   ],
   "source": [
    "from sklearn.metrics import confusion_matrix\n",
    "import seaborn as sns\n",
    "import matplotlib.pyplot as plt     \n",
    "\n",
    "cm = confusion_matrix(y_test, y_pred)\n",
    "ax= plt.subplot()\n",
    "sns.heatmap(cm, annot=True, ax = ax, annot_kws={\"size\": 18}, fmt=\"d\", cmap=\"YlGnBu\")\n",
    "\n",
    "ax.set_xlabel('Predicted Labels', fontsize = 20)\n",
    "ax.set_ylabel('True Labels', fontsize = 20)\n",
    "ax.set_title('Confusion Matrix', fontsize = 20)\n",
    "ax.yaxis.set_ticklabels([' Healthy', 'Prediabetic', 'Diabetic'], fontsize = 13)\n",
    "ax.xaxis.set_ticklabels(['Diabetic', 'Prediabetic', 'Healthy'], fontsize = 13)"
   ]
  },
  {
   "cell_type": "code",
   "execution_count": 10,
   "metadata": {},
   "outputs": [
    {
     "data": {
      "image/png": "[encoded data removed]",
      "text/plain": [
       "<Figure size 720x576 with 1 Axes>"
      ]
     },
     "metadata": {
      "needs_background": "light"
     },
     "output_type": "display_data"
    }
   ],
   "source": [
    "from sklearn.metrics import roc_curve, auc\n",
    "from scipy import interp\n",
    "from itertools import cycle\n",
    "\n",
    "n_classes = 3\n",
    "### MACRO\n",
    "fpr = dict()\n",
    "tpr = dict()\n",
    "roc_auc = dict()\n",
    "\n",
    "for i in range(n_classes):\n",
    "    fpr[i], tpr[i], _ = roc_curve(np.array(pd.get_dummies(y_test))[:, i], np.array(pd.get_dummies(y_pred))[:, i])\n",
    "    roc_auc[i] = auc(fpr[i], tpr[i])\n",
    "\n",
    "\n",
    "all_fpr = np.unique(np.concatenate([fpr[i] for i in range(n_classes)]))\n",
    "\n",
    "mean_tpr = np.zeros_like(all_fpr)\n",
    "for i in range(n_classes):\n",
    "    mean_tpr += interp(all_fpr, fpr[i], tpr[i])\n",
    "\n",
    "mean_tpr /= n_classes\n",
    "\n",
    "fpr[\"macro\"] = all_fpr\n",
    "tpr[\"macro\"] = mean_tpr\n",
    "roc_auc[\"macro\"] = auc(fpr[\"macro\"], tpr[\"macro\"])\n",
    "\n",
    "lw=2\n",
    "plt.figure(figsize=(10,8))\n",
    "plt.plot(fpr[\"macro\"], tpr[\"macro\"],\n",
    "         label='macro-average ROC curve (area = {0:0.2f})'\n",
    "               ''.format(roc_auc[\"macro\"]),\n",
    "         color='green', linestyle=':', linewidth=4)\n",
    "\n",
    "colors = cycle(['aqua', 'darkorange', 'cornflowerblue'])\n",
    "for i, color in zip(range(n_classes), colors):\n",
    "    plt.plot(fpr[i], tpr[i], color=color, lw=lw,\n",
    "             label='ROC curve of class {0} (area = {1:0.2f})'\n",
    "             ''.format(i, roc_auc[i]))\n",
    "\n",
    "plt.plot([0, 1], [0, 1], 'k--',color='red', lw=lw)\n",
    "plt.xlim([0.0, 1.0])\n",
    "plt.ylim([0.0, 1.05])\n",
    "plt.annotate('Random Guess',(.5,.48),color='red', fontsize = 15)\n",
    "plt.xlabel('False Positive Rate', fontsize = 20)\n",
    "plt.ylabel('True Positive Rate', fontsize = 20)\n",
    "plt.title('ROC Curve', fontsize = 24)\n",
    "plt.legend(loc=\"lower right\", prop={'size': 17})\n",
    "plt.show()"
   ]
  },
  {
   "cell_type": "code",
   "execution_count": null,
   "metadata": {},
   "outputs": [],
   "source": [
    "from sklearn.tree import export_graphviz\n",
    "\n",
    "# Create a list of features\n",
    "features = list(df.columns.values)\n",
    "features = features[1:]\n",
    "\n",
    "# Extract single tree\n",
    "estimator = model.estimators_[114]\n",
    "\n",
    "# Export as dot file\n",
    "export_graphviz(estimator, \n",
    "                out_file='tree.dot', \n",
    "                feature_names = features,\n",
    "                #class_names = iris.target_names,\n",
    "                rounded = True, proportion = False, \n",
    "                precision = 2, filled = True)\n",
    "\n",
    "# Convert to png\n",
    "from subprocess import call\n",
    "call(['dot', '-Tpng', 'tree.dot', '-o', 'tree.png', '-Gdpi=600'])\n",
    "\n",
    "# Display in jupyter notebook\n",
    "from IPython.display import Image\n",
    "Image(filename = 'tree.png')"
   ]
  },
  {
   "cell_type": "code",
   "execution_count": 13,
   "metadata": {},
   "outputs": [
    {
     "data": {
      "text/html": [
       "<div>\n",
       "<style scoped>\n",
       "    .dataframe tbody tr th:only-of-type {\n",
       "        vertical-align: middle;\n",
       "    }\n",
       "\n",
       "    .dataframe tbody tr th {\n",
       "        vertical-align: top;\n",
       "    }\n",
       "\n",
       "    .dataframe thead th {\n",
       "        text-align: right;\n",
       "    }\n",
       "</style>\n",
       "<table border=\"1\" class=\"dataframe\">\n",
       "  <thead>\n",
       "    <tr style=\"text-align: right;\">\n",
       "      <th></th>\n",
       "      <th>Importance</th>\n",
       "    </tr>\n",
       "  </thead>\n",
       "  <tbody>\n",
       "    <tr>\n",
       "      <th>BPQ020_1.0</th>\n",
       "      <td>0.039633</td>\n",
       "    </tr>\n",
       "    <tr>\n",
       "      <th>Age</th>\n",
       "      <td>0.036906</td>\n",
       "    </tr>\n",
       "    <tr>\n",
       "      <th>MCQ080_1.0</th>\n",
       "      <td>0.034744</td>\n",
       "    </tr>\n",
       "    <tr>\n",
       "      <th>BPQ080_1.0</th>\n",
       "      <td>0.033563</td>\n",
       "    </tr>\n",
       "    <tr>\n",
       "      <th>BPQ030_1.0</th>\n",
       "      <td>0.029897</td>\n",
       "    </tr>\n",
       "    <tr>\n",
       "      <th>How do you consider your weight (normal)</th>\n",
       "      <td>0.017536</td>\n",
       "    </tr>\n",
       "    <tr>\n",
       "      <th>Waist Circumference (cm)</th>\n",
       "      <td>0.016427</td>\n",
       "    </tr>\n",
       "    <tr>\n",
       "      <th>DMDHRAGE</th>\n",
       "      <td>0.015677</td>\n",
       "    </tr>\n",
       "    <tr>\n",
       "      <th>WHQ150</th>\n",
       "      <td>0.014232</td>\n",
       "    </tr>\n",
       "    <tr>\n",
       "      <th>DMDHHSZE_2.0</th>\n",
       "      <td>0.014226</td>\n",
       "    </tr>\n",
       "    <tr>\n",
       "      <th>WHD140</th>\n",
       "      <td>0.013631</td>\n",
       "    </tr>\n",
       "    <tr>\n",
       "      <th>PAQ650_1.0</th>\n",
       "      <td>0.011530</td>\n",
       "    </tr>\n",
       "    <tr>\n",
       "      <th>DLQ050_1.0</th>\n",
       "      <td>0.010560</td>\n",
       "    </tr>\n",
       "    <tr>\n",
       "      <th>BMI</th>\n",
       "      <td>0.010382</td>\n",
       "    </tr>\n",
       "    <tr>\n",
       "      <th>Sex_Female</th>\n",
       "      <td>0.009960</td>\n",
       "    </tr>\n",
       "    <tr>\n",
       "      <th>PAQ715_8.0</th>\n",
       "      <td>0.009798</td>\n",
       "    </tr>\n",
       "    <tr>\n",
       "      <th>Time Lost 10+ lb (never)</th>\n",
       "      <td>0.009733</td>\n",
       "    </tr>\n",
       "    <tr>\n",
       "      <th>WHD050</th>\n",
       "      <td>0.009314</td>\n",
       "    </tr>\n",
       "    <tr>\n",
       "      <th>RIDRETH3_3.0</th>\n",
       "      <td>0.008341</td>\n",
       "    </tr>\n",
       "    <tr>\n",
       "      <th>Sugars (gm)</th>\n",
       "      <td>0.008238</td>\n",
       "    </tr>\n",
       "    <tr>\n",
       "      <th>DR3TLYCO</th>\n",
       "      <td>0.007536</td>\n",
       "    </tr>\n",
       "    <tr>\n",
       "      <th>Systolic BP</th>\n",
       "      <td>0.007531</td>\n",
       "    </tr>\n",
       "    <tr>\n",
       "      <th>DR3_320Z</th>\n",
       "      <td>0.007439</td>\n",
       "    </tr>\n",
       "    <tr>\n",
       "      <th>SMQ020_1.0</th>\n",
       "      <td>0.007050</td>\n",
       "    </tr>\n",
       "    <tr>\n",
       "      <th>DMDHHSZE_1.0</th>\n",
       "      <td>0.007016</td>\n",
       "    </tr>\n",
       "    <tr>\n",
       "      <th>Beta-carotene (mcg)</th>\n",
       "      <td>0.006770</td>\n",
       "    </tr>\n",
       "    <tr>\n",
       "      <th>HUQ051_3.0</th>\n",
       "      <td>0.006698</td>\n",
       "    </tr>\n",
       "    <tr>\n",
       "      <th>DR3TMOIS</th>\n",
       "      <td>0.006596</td>\n",
       "    </tr>\n",
       "    <tr>\n",
       "      <th>DBD895</th>\n",
       "      <td>0.006539</td>\n",
       "    </tr>\n",
       "    <tr>\n",
       "      <th>PAQ655</th>\n",
       "      <td>0.006492</td>\n",
       "    </tr>\n",
       "    <tr>\n",
       "      <th>...</th>\n",
       "      <td>...</td>\n",
       "    </tr>\n",
       "    <tr>\n",
       "      <th>Time Lost 10+ lb (11+)</th>\n",
       "      <td>0.000554</td>\n",
       "    </tr>\n",
       "    <tr>\n",
       "      <th>SMD470_1.0</th>\n",
       "      <td>0.000552</td>\n",
       "    </tr>\n",
       "    <tr>\n",
       "      <th>Time Lost 10+ lb (6-10)</th>\n",
       "      <td>0.000537</td>\n",
       "    </tr>\n",
       "    <tr>\n",
       "      <th>INDFMIN2_2.0</th>\n",
       "      <td>0.000525</td>\n",
       "    </tr>\n",
       "    <tr>\n",
       "      <th>DMDFMSIZ_6.0</th>\n",
       "      <td>0.000499</td>\n",
       "    </tr>\n",
       "    <tr>\n",
       "      <th>DMDHHSZA_2.0</th>\n",
       "      <td>0.000493</td>\n",
       "    </tr>\n",
       "    <tr>\n",
       "      <th>INDFMIN2_10.0</th>\n",
       "      <td>0.000488</td>\n",
       "    </tr>\n",
       "    <tr>\n",
       "      <th>PAQ715_5.0</th>\n",
       "      <td>0.000474</td>\n",
       "    </tr>\n",
       "    <tr>\n",
       "      <th>DPQ050_2.0</th>\n",
       "      <td>0.000456</td>\n",
       "    </tr>\n",
       "    <tr>\n",
       "      <th>DMDHHSIZ_6.0</th>\n",
       "      <td>0.000446</td>\n",
       "    </tr>\n",
       "    <tr>\n",
       "      <th>RIDRETH3_7.0</th>\n",
       "      <td>0.000412</td>\n",
       "    </tr>\n",
       "    <tr>\n",
       "      <th>INQ132_1.0</th>\n",
       "      <td>0.000409</td>\n",
       "    </tr>\n",
       "    <tr>\n",
       "      <th>PAQ715_4.0</th>\n",
       "      <td>0.000393</td>\n",
       "    </tr>\n",
       "    <tr>\n",
       "      <th>SMD470_2.0</th>\n",
       "      <td>0.000322</td>\n",
       "    </tr>\n",
       "    <tr>\n",
       "      <th>Irregular Pulse</th>\n",
       "      <td>0.000311</td>\n",
       "    </tr>\n",
       "    <tr>\n",
       "      <th>SMD460_3.0</th>\n",
       "      <td>0.000310</td>\n",
       "    </tr>\n",
       "    <tr>\n",
       "      <th>DMDHRMAR_4.0</th>\n",
       "      <td>0.000305</td>\n",
       "    </tr>\n",
       "    <tr>\n",
       "      <th>INQ320_4.0</th>\n",
       "      <td>0.000302</td>\n",
       "    </tr>\n",
       "    <tr>\n",
       "      <th>INDFMIN2_13.0</th>\n",
       "      <td>0.000282</td>\n",
       "    </tr>\n",
       "    <tr>\n",
       "      <th>DMDHHSZB_4.0</th>\n",
       "      <td>0.000236</td>\n",
       "    </tr>\n",
       "    <tr>\n",
       "      <th>INQ320_6.0</th>\n",
       "      <td>0.000224</td>\n",
       "    </tr>\n",
       "    <tr>\n",
       "      <th>HUQ051_7.0</th>\n",
       "      <td>0.000197</td>\n",
       "    </tr>\n",
       "    <tr>\n",
       "      <th>SMD470_3.0</th>\n",
       "      <td>0.000182</td>\n",
       "    </tr>\n",
       "    <tr>\n",
       "      <th>INQ320_7.0</th>\n",
       "      <td>0.000138</td>\n",
       "    </tr>\n",
       "    <tr>\n",
       "      <th>DMDHHSZA_3.0</th>\n",
       "      <td>0.000125</td>\n",
       "    </tr>\n",
       "    <tr>\n",
       "      <th>DMDHHSZE_3.0</th>\n",
       "      <td>0.000120</td>\n",
       "    </tr>\n",
       "    <tr>\n",
       "      <th>INQ320_8.0</th>\n",
       "      <td>0.000039</td>\n",
       "    </tr>\n",
       "    <tr>\n",
       "      <th>DBQ197_4.0</th>\n",
       "      <td>0.000037</td>\n",
       "    </tr>\n",
       "    <tr>\n",
       "      <th>INQ320_9.0</th>\n",
       "      <td>0.000027</td>\n",
       "    </tr>\n",
       "    <tr>\n",
       "      <th>INQ320_5.0</th>\n",
       "      <td>0.000020</td>\n",
       "    </tr>\n",
       "  </tbody>\n",
       "</table>\n",
       "<p>233 rows × 1 columns</p>\n",
       "</div>"
      ],
      "text/plain": [
       "                                          Importance\n",
       "BPQ020_1.0                                  0.039633\n",
       "Age                                         0.036906\n",
       "MCQ080_1.0                                  0.034744\n",
       "BPQ080_1.0                                  0.033563\n",
       "BPQ030_1.0                                  0.029897\n",
       "How do you consider your weight (normal)    0.017536\n",
       "Waist Circumference (cm)                    0.016427\n",
       "DMDHRAGE                                    0.015677\n",
       "WHQ150                                      0.014232\n",
       "DMDHHSZE_2.0                                0.014226\n",
       "WHD140                                      0.013631\n",
       "PAQ650_1.0                                  0.011530\n",
       "DLQ050_1.0                                  0.010560\n",
       "BMI                                         0.010382\n",
       "Sex_Female                                  0.009960\n",
       "PAQ715_8.0                                  0.009798\n",
       "Time Lost 10+ lb (never)                    0.009733\n",
       "WHD050                                      0.009314\n",
       "RIDRETH3_3.0                                0.008341\n",
       "Sugars (gm)                                 0.008238\n",
       "DR3TLYCO                                    0.007536\n",
       "Systolic BP                                 0.007531\n",
       "DR3_320Z                                    0.007439\n",
       "SMQ020_1.0                                  0.007050\n",
       "DMDHHSZE_1.0                                0.007016\n",
       "Beta-carotene (mcg)                         0.006770\n",
       "HUQ051_3.0                                  0.006698\n",
       "DR3TMOIS                                    0.006596\n",
       "DBD895                                      0.006539\n",
       "PAQ655                                      0.006492\n",
       "...                                              ...\n",
       "Time Lost 10+ lb (11+)                      0.000554\n",
       "SMD470_1.0                                  0.000552\n",
       "Time Lost 10+ lb (6-10)                     0.000537\n",
       "INDFMIN2_2.0                                0.000525\n",
       "DMDFMSIZ_6.0                                0.000499\n",
       "DMDHHSZA_2.0                                0.000493\n",
       "INDFMIN2_10.0                               0.000488\n",
       "PAQ715_5.0                                  0.000474\n",
       "DPQ050_2.0                                  0.000456\n",
       "DMDHHSIZ_6.0                                0.000446\n",
       "RIDRETH3_7.0                                0.000412\n",
       "INQ132_1.0                                  0.000409\n",
       "PAQ715_4.0                                  0.000393\n",
       "SMD470_2.0                                  0.000322\n",
       "Irregular Pulse                             0.000311\n",
       "SMD460_3.0                                  0.000310\n",
       "DMDHRMAR_4.0                                0.000305\n",
       "INQ320_4.0                                  0.000302\n",
       "INDFMIN2_13.0                               0.000282\n",
       "DMDHHSZB_4.0                                0.000236\n",
       "INQ320_6.0                                  0.000224\n",
       "HUQ051_7.0                                  0.000197\n",
       "SMD470_3.0                                  0.000182\n",
       "INQ320_7.0                                  0.000138\n",
       "DMDHHSZA_3.0                                0.000125\n",
       "DMDHHSZE_3.0                                0.000120\n",
       "INQ320_8.0                                  0.000039\n",
       "DBQ197_4.0                                  0.000037\n",
       "INQ320_9.0                                  0.000027\n",
       "INQ320_5.0                                  0.000020\n",
       "\n",
       "[233 rows x 1 columns]"
      ]
     },
     "execution_count": 13,
     "metadata": {},
     "output_type": "execute_result"
    }
   ],
   "source": [
    "feature_importances = pd.DataFrame(model.feature_importances_,\n",
    "                                   index = features,\n",
    "                                   columns=['Importance']).sort_values('Importance', ascending=False)\n",
    "feature_importances"
   ]
  },
  {
   "cell_type": "code",
   "execution_count": null,
   "metadata": {},
   "outputs": [],
   "source": []
  },
  {
   "cell_type": "code",
   "execution_count": null,
   "metadata": {},
   "outputs": [],
   "source": []
  },
  {
   "cell_type": "markdown",
   "metadata": {},
   "source": [
    "<div class=\"alert alert-block alert-warning\">\n",
    "\n",
    "# PCA + GradientBoostClassifier"
   ]
  },
  {
   "cell_type": "code",
   "execution_count": null,
   "metadata": {},
   "outputs": [],
   "source": [
    "from sklearn.decomposition import PCA\n",
    "from sklearn.ensemble import GradientBoostingClassifier\n",
    "from sklearn.model_selection import train_test_split\n",
    "from sklearn.pipeline import make_pipeline\n",
    "\n",
    "exported_pipeline = make_pipeline(  PCA(iterated_power=9,\n",
    "                                        svd_solver=\"randomized\"),\n",
    "                                    GradientBoostingClassifier(learning_rate=0.5,\n",
    "                                                               max_depth=6,\n",
    "                                                               max_features=0.1,\n",
    "                                                               min_samples_leaf=1,\n",
    "                                                               min_samples_split=13,\n",
    "                                                               n_estimators=100,\n",
    "                                                               subsample=0.6,\n",
    "                                                               random_state=47)\n",
    "                                )\n",
    "\n",
    "exported_pipeline.fit(X_train, y_train)\n",
    "results = exported_pipeline.predict(X_test)\n",
    "print(metrics.accuracy_score(y_test, results))"
   ]
  },
  {
   "cell_type": "code",
   "execution_count": null,
   "metadata": {},
   "outputs": [],
   "source": [
    "model = GradientBoostingClassifier(criterion='friedman_mse', init=None,\n",
    "               learning_rate=0.5, loss='deviance', max_depth=6,\n",
    "               max_features=0.1, max_leaf_nodes=None,\n",
    "               min_impurity_decrease=0.0, min_impurity_split=None,\n",
    "               min_samples_leaf=1, min_samples_split=13,\n",
    "               min_weight_fraction_leaf=0.0, n_estimators=100,\n",
    "               n_iter_no_change=None, presort='auto', random_state=47,\n",
    "               subsample=0.6, tol=0.0001,\n",
    "               validation_fraction=0.1, verbose=0, warm_start=False)\n",
    "\n",
    "model.fit(X_train, y_train)\n",
    "results = model.predict(X_test)\n",
    "print(metrics.accuracy_score(y_test, results))"
   ]
  },
  {
   "cell_type": "markdown",
   "metadata": {},
   "source": [
    "<div class=\"alert alert-block alert-success\">\n",
    "\n",
    "***\n",
    "\n",
    "# SVM"
   ]
  },
  {
   "cell_type": "markdown",
   "metadata": {},
   "source": [
    "##### Defaults"
   ]
  },
  {
   "cell_type": "code",
   "execution_count": null,
   "metadata": {
    "scrolled": true
   },
   "outputs": [],
   "source": [
    "from sklearn.svm import SVC  \n",
    "svclassifier = SVC()  \n",
    "svclassifier.fit(X_train, y_train) \n",
    "y_pred = svclassifier.predict(X_test)\n",
    "svclassifier.score(X_test, y_test)"
   ]
  },
  {
   "cell_type": "markdown",
   "metadata": {},
   "source": [
    "##### With Pipeline and Gridsearch"
   ]
  },
  {
   "cell_type": "code",
   "execution_count": null,
   "metadata": {
    "scrolled": false
   },
   "outputs": [],
   "source": [
    "from sklearn.svm import SVC\n",
    "from sklearn.pipeline import Pipeline\n",
    "from sklearn.model_selection import GridSearchCV\n",
    "\n",
    "# Construct pipeline\n",
    "pipe_svm = Pipeline([('clf', SVC(random_state=123))])\n",
    "\n",
    "print (1)\n",
    "# Set grid search params\n",
    "param_grid_svm = [\n",
    "                    {\n",
    "                     'clf__C': [1, 0.1, 5, 10],\n",
    "                     'clf__kernel': ['rbf'],\n",
    "                     'clf__degree': [3, 2, 4],\n",
    "                     'clf__gamma': ['auto', 0.001, 0.01],\n",
    "                     'clf__coef0': [0.0],\n",
    "                     'clf__shrinking': [True],\n",
    "                     'clf__probability': [False],\n",
    "                     'clf__tol': [0.001],\n",
    "                     'clf__verbose': [2],\n",
    "                     'clf__max_iter': [1],\n",
    "                     'clf__decision_function_shape': ['ovr'],\n",
    "                     'clf__random_state': [47]\n",
    "                     }\n",
    "                 ]\n",
    "\n",
    "print (2)\n",
    "# Construct grid search\n",
    "model = GridSearchCV(   estimator = pipe_svm,\n",
    "                        param_grid = param_grid_svm,\n",
    "                        scoring = 'accuracy',\n",
    "                        cv = 3,\n",
    "                        verbose = 2,\n",
    "                        return_train_score = True\n",
    "                    )\n",
    "\n",
    "print(3)\n",
    "# Fit using grid search\n",
    "model.fit(X_train, y_train)\n",
    "\n",
    "# Best accuracy\n",
    "print('Best accuracy: %.3f' % model.best_score_)\n",
    "\n",
    "# Best params\n",
    "print('\\nBest params:\\n', model.best_params_)"
   ]
  },
  {
   "cell_type": "code",
   "execution_count": 14,
   "metadata": {},
   "outputs": [
    {
     "name": "stdout",
     "output_type": "stream",
     "text": [
      "[LibSVM]"
     ]
    },
    {
     "name": "stderr",
     "output_type": "stream",
     "text": [
      "/Users/flatironschool/anaconda3/lib/python3.6/site-packages/sklearn/svm/base.py:244: ConvergenceWarning: Solver terminated early (max_iter=1).  Consider pre-processing your data with StandardScaler or MinMaxScaler.\n",
      "  % self.max_iter, ConvergenceWarning)\n"
     ]
    },
    {
     "data": {
      "text/plain": [
       "0.683111954459203"
      ]
     },
     "execution_count": 14,
     "metadata": {},
     "output_type": "execute_result"
    }
   ],
   "source": [
    "from sklearn.svm import SVC  \n",
    "\n",
    "model = SVC(       C = 1, \n",
    "                   coef0 = 0.0, \n",
    "                   decision_function_shape = 'ovr', \n",
    "                   degree = 3,\n",
    "                   gamma = 0.001, \n",
    "                   kernel = 'rbf',\n",
    "                   max_iter = 1, \n",
    "                   probability = False, \n",
    "                   random_state = 47, \n",
    "                   shrinking = True, \n",
    "                   tol = 0.001, \n",
    "                   verbose = 2\n",
    "           )  \n",
    "\n",
    "model.fit(X_train, y_train) \n",
    "y_pred = model.predict(X_test)\n",
    "model.score(X_test, y_test)"
   ]
  },
  {
   "cell_type": "markdown",
   "metadata": {},
   "source": [
    "<div class=\"alert alert-block alert-success\">\n",
    "\n",
    "***\n",
    "\n",
    "# XGBoost"
   ]
  },
  {
   "cell_type": "markdown",
   "metadata": {},
   "source": [
    "##### Defaults"
   ]
  },
  {
   "cell_type": "code",
   "execution_count": null,
   "metadata": {},
   "outputs": [],
   "source": [
    "from xgboost import XGBClassifier\n",
    "\n",
    "model = XGBClassifier()\n",
    "model.fit(X_train, y_train)\n",
    "training_preds = model.predict(X_train)\n",
    "val_preds = model.predict(X_test)\n",
    "training_accuracy = accuracy_score(y_train, training_preds)\n",
    "val_accuracy = accuracy_score(y_test, val_preds)\n",
    "\n",
    "print(\"Training Accuracy: {:.4}%\".format(training_accuracy * 100))\n",
    "print(\"Validation accuracy: {:.4}%\".format(val_accuracy * 100))"
   ]
  },
  {
   "cell_type": "markdown",
   "metadata": {},
   "source": [
    "##### With Pipeline and Gridsearch"
   ]
  },
  {
   "cell_type": "code",
   "execution_count": null,
   "metadata": {},
   "outputs": [],
   "source": [
    "from sklearn.pipeline import Pipeline\n",
    "from sklearn.model_selection import GridSearchCV\n",
    "\n",
    "# Construct pipeline\n",
    "pipe_xg = Pipeline([('clf', xgb.XGBClassifier(random_state = 123))])\n",
    "\n",
    "# Set grid search params\n",
    "xgboost_param_grid ={\n",
    "                        'clf__max_depth' : [3, 5, 6, 7],\n",
    "                        'clf__learning_rate' : [0.1],\n",
    "                        'clf__n_estimators' : [5, 30, 80, 100],\n",
    "                        'clf__silent' : [True],\n",
    "                        'clf__objective' : ['binary:logistic'],\n",
    "                        'clf__booster' : ['gbtree'],\n",
    "                        'clf__n_jobs' : [1],\n",
    "                        'clf__nthread' : [None],\n",
    "                        'clf__gamma' : [0],\n",
    "                        'clf__min_child_weight' : [1, 5, 10],\n",
    "                        'clf__max_delta_step' : [0],\n",
    "                        'clf__subsample' : [1, 0.7],\n",
    "                        'clf__colsample_bytree' : [1],\n",
    "                        'clf__colsample_bylevel' : [1],\n",
    "                        'clf__reg_alpha' : [0],\n",
    "                        'clf__reg_lambda' : [1],\n",
    "                        'clf__scale_pos_weight' : [1],\n",
    "                        'clf__base_score' : [0.5],\n",
    "                        'clf__random_state' : [0],\n",
    "                        'clf__seed' : [None],\n",
    "                        'clf__missing' : [None]\n",
    "                    }\n",
    "\n",
    "# Construct grid search\n",
    "model = GridSearchCV(   estimator = pipe_xg,\n",
    "                        param_grid = xgboost_param_grid,\n",
    "                        scoring = 'accuracy',\n",
    "                        cv = 3,\n",
    "                        verbose = 2,\n",
    "                        return_train_score = True\n",
    "                    )\n",
    "\n",
    "model.fit(X_train, y_train)\n",
    "\n",
    "# Best accuracy\n",
    "print('Best accuracy: %.3f' % model.best_score_)\n",
    "\n",
    "# Best params\n",
    "print('\\nBest params:\\n', model.best_params_)"
   ]
  },
  {
   "cell_type": "code",
   "execution_count": null,
   "metadata": {},
   "outputs": [],
   "source": []
  },
  {
   "cell_type": "code",
   "execution_count": null,
   "metadata": {},
   "outputs": [],
   "source": [
    "\n"
   ]
  },
  {
   "cell_type": "markdown",
   "metadata": {},
   "source": [
    "<div class=\"alert alert-block alert-success\">\n",
    "\n",
    "***\n",
    "\n",
    "# KNN"
   ]
  },
  {
   "cell_type": "markdown",
   "metadata": {},
   "source": [
    "##### Defaults"
   ]
  },
  {
   "cell_type": "code",
   "execution_count": 17,
   "metadata": {},
   "outputs": [
    {
     "name": "stdout",
     "output_type": "stream",
     "text": [
      "Precision Score: [0.14705882 0.17582418 0.69503546]\n",
      "Recall Score: [0.41958042 0.33507853 0.27222222]\n",
      "Accuracy Score: 0.3036053130929791\n",
      "F1 Score: [0.21778584 0.23063063 0.39121756]\n"
     ]
    }
   ],
   "source": [
    "from sklearn.neighbors import KNeighborsClassifier\n",
    "\n",
    "model = KNeighborsClassifier()\n",
    "model.fit(X_train, y_train)\n",
    "test_preds = model.predict(X_test)\n",
    "def print_metrics(labels, preds):\n",
    "    print(\"Precision Score: {}\".format(precision_score(labels, preds, average = None)))\n",
    "    print(\"Recall Score: {}\".format(recall_score(labels, preds, average = None)))\n",
    "    print(\"Accuracy Score: {}\".format(accuracy_score(labels, preds)))\n",
    "    print(\"F1 Score: {}\".format(f1_score(labels, preds, average = None)))\n",
    "    \n",
    "print_metrics(y_test, test_preds)"
   ]
  },
  {
   "cell_type": "markdown",
   "metadata": {},
   "source": [
    "##### KNN with Pipeline and Gridsearch"
   ]
  },
  {
   "cell_type": "code",
   "execution_count": null,
   "metadata": {},
   "outputs": [
    {
     "name": "stdout",
     "output_type": "stream",
     "text": [
      "Fitting 3 folds for each of 320 candidates, totalling 960 fits\n"
     ]
    },
    {
     "name": "stderr",
     "output_type": "stream",
     "text": [
      "[Parallel(n_jobs=1)]: Using backend SequentialBackend with 1 concurrent workers.\n"
     ]
    }
   ],
   "source": [
    "from sklearn.pipeline import Pipeline\n",
    "from sklearn.model_selection import GridSearchCV\n",
    "\n",
    "# Construct pipeline\n",
    "pipe_knn = Pipeline([('clf', KNeighborsClassifier())])\n",
    "\n",
    "# Set grid search params\n",
    "knn_param_grid = {\n",
    "                    'clf__n_neighbors' : [5, 3, 4, 6],\n",
    "                    'clf__weights' : ['uniform', 'distance'],\n",
    "                    'clf__algorithm' : ['auto', 'ball_tree', 'kd_tree', 'brute'],\n",
    "                    'clf__leaf_size' : [30, 20, 25, 35, 40],\n",
    "                    'clf__p' : [2, 1],\n",
    "                    'clf__metric' : ['minkowski'],\n",
    "                    'clf__metric_params' : [None],\n",
    "                    'clf__n_jobs' : [None]\n",
    "                  }\n",
    "\n",
    "\n",
    "\n",
    "# Construct grid search\n",
    "model = GridSearchCV(   estimator=pipe_knn,\n",
    "                        param_grid=knn_param_grid,\n",
    "                        scoring='accuracy',\n",
    "                        cv=3,\n",
    "                        verbose=1,\n",
    "                        return_train_score = True)\n",
    "\n",
    "# Fit using grid search\n",
    "model.fit(X_train, y_train)\n",
    "\n",
    "# Best accuracy\n",
    "print('Best accuracy: %.3f' % model.best_score_)\n",
    "\n",
    "# Best params\n",
    "print('\\nBest params:\\n', model.best_params_)"
   ]
  },
  {
   "cell_type": "code",
   "execution_count": null,
   "metadata": {},
   "outputs": [],
   "source": []
  },
  {
   "cell_type": "code",
   "execution_count": null,
   "metadata": {},
   "outputs": [],
   "source": []
  },
  {
   "cell_type": "code",
   "execution_count": null,
   "metadata": {},
   "outputs": [],
   "source": []
  },
  {
   "cell_type": "code",
   "execution_count": null,
   "metadata": {},
   "outputs": [],
   "source": []
  },
  {
   "cell_type": "code",
   "execution_count": null,
   "metadata": {},
   "outputs": [],
   "source": []
  },
  {
   "cell_type": "code",
   "execution_count": null,
   "metadata": {},
   "outputs": [],
   "source": []
  }
 ],
 "metadata": {
  "kernelspec": {
   "display_name": "Python 3",
   "language": "python",
   "name": "python3"
  },
  "language_info": {
   "codemirror_mode": {
    "name": "ipython",
    "version": 3
   },
   "file_extension": ".py",
   "mimetype": "text/x-python",
   "name": "python",
   "nbconvert_exporter": "python",
   "pygments_lexer": "ipython3",
   "version": "3.6.6"
  }
 },
 "nbformat": 4,
 "nbformat_minor": 2
}
